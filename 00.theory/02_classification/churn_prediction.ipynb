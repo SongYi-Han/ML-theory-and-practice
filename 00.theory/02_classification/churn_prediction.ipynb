{
  "cells": [
    {
      "cell_type": "markdown",
      "metadata": {
        "id": "S2XIWMkfNGDX"
      },
      "source": [
        "# Churn prediction project with Classification\n",
        "\n",
        "We'll use logistic regression to predict churn\n",
        "\n",
        "* Dataset: https://www.kaggle.com/blastchar/telco-customer-churn\n",
        "* https://raw.githubusercontent.com/alexeygrigorev/mlbookcamp-code/master/chapter-03-churn-prediction/WA_Fn-UseC_-Telco-Customer-Churn.csv\n"
      ],
      "id": "S2XIWMkfNGDX"
    },
    {
      "cell_type": "markdown",
      "metadata": {
        "id": "Jubx1rYlNGDb"
      },
      "source": [
        "#0. Data Load\n",
        "\n",
        "* Download the data, read it with pandas\n",
        "* Look at the data\n",
        "* Make column names and values look uniform\n",
        "* Check if all the columns read correctly\n",
        "* Check if the churn variable needs any preparation"
      ],
      "id": "Jubx1rYlNGDb"
    },
    {
      "cell_type": "code",
      "execution_count": 1,
      "metadata": {
        "id": "4mmGkWNJNGDb"
      },
      "outputs": [],
      "source": [
        "import pandas as pd\n",
        "import numpy as np\n",
        "\n",
        "import matplotlib.pyplot as plt"
      ],
      "id": "4mmGkWNJNGDb"
    },
    {
      "cell_type": "code",
      "execution_count": 2,
      "metadata": {
        "id": "vpF22gkfNGDc"
      },
      "outputs": [],
      "source": [
        "data = 'https://raw.githubusercontent.com/alexeygrigorev/mlbookcamp-code/master/chapter-03-churn-prediction/WA_Fn-UseC_-Telco-Customer-Churn.csv'"
      ],
      "id": "vpF22gkfNGDc"
    },
    {
      "cell_type": "code",
      "execution_count": null,
      "metadata": {
        "id": "7ICj9BJKNGDc"
      },
      "outputs": [],
      "source": [
        "!wget $data -O data.csv "
      ],
      "id": "7ICj9BJKNGDc"
    },
    {
      "cell_type": "code",
      "execution_count": null,
      "metadata": {
        "id": "gFcKcgENNGDd"
      },
      "outputs": [],
      "source": [
        "df = pd.read_csv('data.csv')\n",
        "df.head()"
      ],
      "id": "gFcKcgENNGDd"
    },
    {
      "cell_type": "markdown",
      "source": [
        "# 1. Data preprocessing\n",
        "* cleaning the colunm name\n",
        "* validate the data type"
      ],
      "metadata": {
        "id": "9WOZFpcfOdfp"
      },
      "id": "9WOZFpcfOdfp"
    },
    {
      "cell_type": "code",
      "execution_count": 8,
      "metadata": {
        "id": "oykU-cRwNGDd"
      },
      "outputs": [],
      "source": [
        "# cleaning column name \n",
        "\n",
        "#df.columns = df.columns.str.lower().str.replace(' ', '_')\n",
        "\n",
        "categorical_columns = list(df.dtypes[df.dtypes == 'object'].index)\n",
        "\n",
        "for c in categorical_columns:\n",
        "    df[c] = df[c].str.lower().str.replace(' ', '_')"
      ],
      "id": "oykU-cRwNGDd"
    },
    {
      "cell_type": "code",
      "execution_count": 9,
      "metadata": {
        "colab": {
          "base_uri": "https://localhost:8080/",
          "height": 708
        },
        "id": "S4-OGf27NGDe",
        "outputId": "2a1913a0-0fcc-4d7a-ddd2-de6de6693777"
      },
      "outputs": [
        {
          "output_type": "execute_result",
          "data": {
            "text/plain": [
              "                                 0             1               2  \\\n",
              "customerid              7590-vhveg    5575-gnvde      3668-qpybk   \n",
              "gender                      female          male            male   \n",
              "seniorcitizen                    0             0               0   \n",
              "partner                        yes            no              no   \n",
              "dependents                      no            no              no   \n",
              "tenure                           1            34               2   \n",
              "phoneservice                    no           yes             yes   \n",
              "multiplelines     no_phone_service            no              no   \n",
              "internetservice                dsl           dsl             dsl   \n",
              "onlinesecurity                  no           yes             yes   \n",
              "onlinebackup                   yes            no             yes   \n",
              "deviceprotection                no           yes              no   \n",
              "techsupport                     no            no              no   \n",
              "streamingtv                     no            no              no   \n",
              "streamingmovies                 no            no              no   \n",
              "contract            month-to-month      one_year  month-to-month   \n",
              "paperlessbilling               yes            no             yes   \n",
              "paymentmethod     electronic_check  mailed_check    mailed_check   \n",
              "monthlycharges               29.85         56.95           53.85   \n",
              "totalcharges                 29.85        1889.5          108.15   \n",
              "churn                           no            no             yes   \n",
              "\n",
              "                                          3                 4  \n",
              "customerid                       7795-cfocw        9237-hqitu  \n",
              "gender                                 male            female  \n",
              "seniorcitizen                             0                 0  \n",
              "partner                                  no                no  \n",
              "dependents                               no                no  \n",
              "tenure                                   45                 2  \n",
              "phoneservice                             no               yes  \n",
              "multiplelines              no_phone_service                no  \n",
              "internetservice                         dsl       fiber_optic  \n",
              "onlinesecurity                          yes                no  \n",
              "onlinebackup                             no                no  \n",
              "deviceprotection                        yes                no  \n",
              "techsupport                             yes                no  \n",
              "streamingtv                              no                no  \n",
              "streamingmovies                          no                no  \n",
              "contract                           one_year    month-to-month  \n",
              "paperlessbilling                         no               yes  \n",
              "paymentmethod     bank_transfer_(automatic)  electronic_check  \n",
              "monthlycharges                         42.3              70.7  \n",
              "totalcharges                        1840.75            151.65  \n",
              "churn                                    no               yes  "
            ],
            "text/html": [
              "\n",
              "  <div id=\"df-628abe4a-f6c5-413c-9683-1480079e82f6\">\n",
              "    <div class=\"colab-df-container\">\n",
              "      <div>\n",
              "<style scoped>\n",
              "    .dataframe tbody tr th:only-of-type {\n",
              "        vertical-align: middle;\n",
              "    }\n",
              "\n",
              "    .dataframe tbody tr th {\n",
              "        vertical-align: top;\n",
              "    }\n",
              "\n",
              "    .dataframe thead th {\n",
              "        text-align: right;\n",
              "    }\n",
              "</style>\n",
              "<table border=\"1\" class=\"dataframe\">\n",
              "  <thead>\n",
              "    <tr style=\"text-align: right;\">\n",
              "      <th></th>\n",
              "      <th>0</th>\n",
              "      <th>1</th>\n",
              "      <th>2</th>\n",
              "      <th>3</th>\n",
              "      <th>4</th>\n",
              "    </tr>\n",
              "  </thead>\n",
              "  <tbody>\n",
              "    <tr>\n",
              "      <th>customerid</th>\n",
              "      <td>7590-vhveg</td>\n",
              "      <td>5575-gnvde</td>\n",
              "      <td>3668-qpybk</td>\n",
              "      <td>7795-cfocw</td>\n",
              "      <td>9237-hqitu</td>\n",
              "    </tr>\n",
              "    <tr>\n",
              "      <th>gender</th>\n",
              "      <td>female</td>\n",
              "      <td>male</td>\n",
              "      <td>male</td>\n",
              "      <td>male</td>\n",
              "      <td>female</td>\n",
              "    </tr>\n",
              "    <tr>\n",
              "      <th>seniorcitizen</th>\n",
              "      <td>0</td>\n",
              "      <td>0</td>\n",
              "      <td>0</td>\n",
              "      <td>0</td>\n",
              "      <td>0</td>\n",
              "    </tr>\n",
              "    <tr>\n",
              "      <th>partner</th>\n",
              "      <td>yes</td>\n",
              "      <td>no</td>\n",
              "      <td>no</td>\n",
              "      <td>no</td>\n",
              "      <td>no</td>\n",
              "    </tr>\n",
              "    <tr>\n",
              "      <th>dependents</th>\n",
              "      <td>no</td>\n",
              "      <td>no</td>\n",
              "      <td>no</td>\n",
              "      <td>no</td>\n",
              "      <td>no</td>\n",
              "    </tr>\n",
              "    <tr>\n",
              "      <th>tenure</th>\n",
              "      <td>1</td>\n",
              "      <td>34</td>\n",
              "      <td>2</td>\n",
              "      <td>45</td>\n",
              "      <td>2</td>\n",
              "    </tr>\n",
              "    <tr>\n",
              "      <th>phoneservice</th>\n",
              "      <td>no</td>\n",
              "      <td>yes</td>\n",
              "      <td>yes</td>\n",
              "      <td>no</td>\n",
              "      <td>yes</td>\n",
              "    </tr>\n",
              "    <tr>\n",
              "      <th>multiplelines</th>\n",
              "      <td>no_phone_service</td>\n",
              "      <td>no</td>\n",
              "      <td>no</td>\n",
              "      <td>no_phone_service</td>\n",
              "      <td>no</td>\n",
              "    </tr>\n",
              "    <tr>\n",
              "      <th>internetservice</th>\n",
              "      <td>dsl</td>\n",
              "      <td>dsl</td>\n",
              "      <td>dsl</td>\n",
              "      <td>dsl</td>\n",
              "      <td>fiber_optic</td>\n",
              "    </tr>\n",
              "    <tr>\n",
              "      <th>onlinesecurity</th>\n",
              "      <td>no</td>\n",
              "      <td>yes</td>\n",
              "      <td>yes</td>\n",
              "      <td>yes</td>\n",
              "      <td>no</td>\n",
              "    </tr>\n",
              "    <tr>\n",
              "      <th>onlinebackup</th>\n",
              "      <td>yes</td>\n",
              "      <td>no</td>\n",
              "      <td>yes</td>\n",
              "      <td>no</td>\n",
              "      <td>no</td>\n",
              "    </tr>\n",
              "    <tr>\n",
              "      <th>deviceprotection</th>\n",
              "      <td>no</td>\n",
              "      <td>yes</td>\n",
              "      <td>no</td>\n",
              "      <td>yes</td>\n",
              "      <td>no</td>\n",
              "    </tr>\n",
              "    <tr>\n",
              "      <th>techsupport</th>\n",
              "      <td>no</td>\n",
              "      <td>no</td>\n",
              "      <td>no</td>\n",
              "      <td>yes</td>\n",
              "      <td>no</td>\n",
              "    </tr>\n",
              "    <tr>\n",
              "      <th>streamingtv</th>\n",
              "      <td>no</td>\n",
              "      <td>no</td>\n",
              "      <td>no</td>\n",
              "      <td>no</td>\n",
              "      <td>no</td>\n",
              "    </tr>\n",
              "    <tr>\n",
              "      <th>streamingmovies</th>\n",
              "      <td>no</td>\n",
              "      <td>no</td>\n",
              "      <td>no</td>\n",
              "      <td>no</td>\n",
              "      <td>no</td>\n",
              "    </tr>\n",
              "    <tr>\n",
              "      <th>contract</th>\n",
              "      <td>month-to-month</td>\n",
              "      <td>one_year</td>\n",
              "      <td>month-to-month</td>\n",
              "      <td>one_year</td>\n",
              "      <td>month-to-month</td>\n",
              "    </tr>\n",
              "    <tr>\n",
              "      <th>paperlessbilling</th>\n",
              "      <td>yes</td>\n",
              "      <td>no</td>\n",
              "      <td>yes</td>\n",
              "      <td>no</td>\n",
              "      <td>yes</td>\n",
              "    </tr>\n",
              "    <tr>\n",
              "      <th>paymentmethod</th>\n",
              "      <td>electronic_check</td>\n",
              "      <td>mailed_check</td>\n",
              "      <td>mailed_check</td>\n",
              "      <td>bank_transfer_(automatic)</td>\n",
              "      <td>electronic_check</td>\n",
              "    </tr>\n",
              "    <tr>\n",
              "      <th>monthlycharges</th>\n",
              "      <td>29.85</td>\n",
              "      <td>56.95</td>\n",
              "      <td>53.85</td>\n",
              "      <td>42.3</td>\n",
              "      <td>70.7</td>\n",
              "    </tr>\n",
              "    <tr>\n",
              "      <th>totalcharges</th>\n",
              "      <td>29.85</td>\n",
              "      <td>1889.5</td>\n",
              "      <td>108.15</td>\n",
              "      <td>1840.75</td>\n",
              "      <td>151.65</td>\n",
              "    </tr>\n",
              "    <tr>\n",
              "      <th>churn</th>\n",
              "      <td>no</td>\n",
              "      <td>no</td>\n",
              "      <td>yes</td>\n",
              "      <td>no</td>\n",
              "      <td>yes</td>\n",
              "    </tr>\n",
              "  </tbody>\n",
              "</table>\n",
              "</div>\n",
              "      <button class=\"colab-df-convert\" onclick=\"convertToInteractive('df-628abe4a-f6c5-413c-9683-1480079e82f6')\"\n",
              "              title=\"Convert this dataframe to an interactive table.\"\n",
              "              style=\"display:none;\">\n",
              "        \n",
              "  <svg xmlns=\"http://www.w3.org/2000/svg\" height=\"24px\"viewBox=\"0 0 24 24\"\n",
              "       width=\"24px\">\n",
              "    <path d=\"M0 0h24v24H0V0z\" fill=\"none\"/>\n",
              "    <path d=\"M18.56 5.44l.94 2.06.94-2.06 2.06-.94-2.06-.94-.94-2.06-.94 2.06-2.06.94zm-11 1L8.5 8.5l.94-2.06 2.06-.94-2.06-.94L8.5 2.5l-.94 2.06-2.06.94zm10 10l.94 2.06.94-2.06 2.06-.94-2.06-.94-.94-2.06-.94 2.06-2.06.94z\"/><path d=\"M17.41 7.96l-1.37-1.37c-.4-.4-.92-.59-1.43-.59-.52 0-1.04.2-1.43.59L10.3 9.45l-7.72 7.72c-.78.78-.78 2.05 0 2.83L4 21.41c.39.39.9.59 1.41.59.51 0 1.02-.2 1.41-.59l7.78-7.78 2.81-2.81c.8-.78.8-2.07 0-2.86zM5.41 20L4 18.59l7.72-7.72 1.47 1.35L5.41 20z\"/>\n",
              "  </svg>\n",
              "      </button>\n",
              "      \n",
              "  <style>\n",
              "    .colab-df-container {\n",
              "      display:flex;\n",
              "      flex-wrap:wrap;\n",
              "      gap: 12px;\n",
              "    }\n",
              "\n",
              "    .colab-df-convert {\n",
              "      background-color: #E8F0FE;\n",
              "      border: none;\n",
              "      border-radius: 50%;\n",
              "      cursor: pointer;\n",
              "      display: none;\n",
              "      fill: #1967D2;\n",
              "      height: 32px;\n",
              "      padding: 0 0 0 0;\n",
              "      width: 32px;\n",
              "    }\n",
              "\n",
              "    .colab-df-convert:hover {\n",
              "      background-color: #E2EBFA;\n",
              "      box-shadow: 0px 1px 2px rgba(60, 64, 67, 0.3), 0px 1px 3px 1px rgba(60, 64, 67, 0.15);\n",
              "      fill: #174EA6;\n",
              "    }\n",
              "\n",
              "    [theme=dark] .colab-df-convert {\n",
              "      background-color: #3B4455;\n",
              "      fill: #D2E3FC;\n",
              "    }\n",
              "\n",
              "    [theme=dark] .colab-df-convert:hover {\n",
              "      background-color: #434B5C;\n",
              "      box-shadow: 0px 1px 3px 1px rgba(0, 0, 0, 0.15);\n",
              "      filter: drop-shadow(0px 1px 2px rgba(0, 0, 0, 0.3));\n",
              "      fill: #FFFFFF;\n",
              "    }\n",
              "  </style>\n",
              "\n",
              "      <script>\n",
              "        const buttonEl =\n",
              "          document.querySelector('#df-628abe4a-f6c5-413c-9683-1480079e82f6 button.colab-df-convert');\n",
              "        buttonEl.style.display =\n",
              "          google.colab.kernel.accessAllowed ? 'block' : 'none';\n",
              "\n",
              "        async function convertToInteractive(key) {\n",
              "          const element = document.querySelector('#df-628abe4a-f6c5-413c-9683-1480079e82f6');\n",
              "          const dataTable =\n",
              "            await google.colab.kernel.invokeFunction('convertToInteractive',\n",
              "                                                     [key], {});\n",
              "          if (!dataTable) return;\n",
              "\n",
              "          const docLinkHtml = 'Like what you see? Visit the ' +\n",
              "            '<a target=\"_blank\" href=https://colab.research.google.com/notebooks/data_table.ipynb>data table notebook</a>'\n",
              "            + ' to learn more about interactive tables.';\n",
              "          element.innerHTML = '';\n",
              "          dataTable['output_type'] = 'display_data';\n",
              "          await google.colab.output.renderOutput(dataTable, element);\n",
              "          const docLink = document.createElement('div');\n",
              "          docLink.innerHTML = docLinkHtml;\n",
              "          element.appendChild(docLink);\n",
              "        }\n",
              "      </script>\n",
              "    </div>\n",
              "  </div>\n",
              "  "
            ]
          },
          "metadata": {},
          "execution_count": 9
        }
      ],
      "source": [
        "df.head().T"
      ],
      "id": "S4-OGf27NGDe"
    },
    {
      "cell_type": "code",
      "source": [
        "df.info()"
      ],
      "metadata": {
        "colab": {
          "base_uri": "https://localhost:8080/"
        },
        "id": "cTS716VpPG-v",
        "outputId": "de180235-1513-44e2-bb35-2171f881f57b"
      },
      "id": "cTS716VpPG-v",
      "execution_count": 15,
      "outputs": [
        {
          "output_type": "stream",
          "name": "stdout",
          "text": [
            "<class 'pandas.core.frame.DataFrame'>\n",
            "RangeIndex: 7043 entries, 0 to 7042\n",
            "Data columns (total 21 columns):\n",
            " #   Column            Non-Null Count  Dtype  \n",
            "---  ------            --------------  -----  \n",
            " 0   customerid        7043 non-null   object \n",
            " 1   gender            7043 non-null   object \n",
            " 2   seniorcitizen     7043 non-null   int64  \n",
            " 3   partner           7043 non-null   object \n",
            " 4   dependents        7043 non-null   object \n",
            " 5   tenure            7043 non-null   int64  \n",
            " 6   phoneservice      7043 non-null   object \n",
            " 7   multiplelines     7043 non-null   object \n",
            " 8   internetservice   7043 non-null   object \n",
            " 9   onlinesecurity    7043 non-null   object \n",
            " 10  onlinebackup      7043 non-null   object \n",
            " 11  deviceprotection  7043 non-null   object \n",
            " 12  techsupport       7043 non-null   object \n",
            " 13  streamingtv       7043 non-null   object \n",
            " 14  streamingmovies   7043 non-null   object \n",
            " 15  contract          7043 non-null   object \n",
            " 16  paperlessbilling  7043 non-null   object \n",
            " 17  paymentmethod     7043 non-null   object \n",
            " 18  monthlycharges    7043 non-null   float64\n",
            " 19  totalcharges      7043 non-null   object \n",
            " 20  churn             7043 non-null   object \n",
            "dtypes: float64(1), int64(2), object(18)\n",
            "memory usage: 1.1+ MB\n"
          ]
        }
      ]
    },
    {
      "cell_type": "code",
      "execution_count": 17,
      "metadata": {
        "id": "-6askqyjNGDe"
      },
      "outputs": [],
      "source": [
        "# convert total charge to numeric and deal with missing values\n",
        "tc = pd.to_numeric(df.totalcharges, errors='coerce')\n",
        "df.totalcharges = pd.to_numeric(df.totalcharges, errors='coerce')\n",
        "df.totalcharges = df.totalcharges.fillna(0)"
      ],
      "id": "-6askqyjNGDe"
    },
    {
      "cell_type": "code",
      "execution_count": 16,
      "metadata": {
        "id": "yUJYFLBuNGDf"
      },
      "outputs": [],
      "source": [
        "# convert churn to numeric value \n",
        "df.churn.head()\n",
        "df.churn = (df.churn == 'yes').astype(int)"
      ],
      "id": "yUJYFLBuNGDf"
    },
    {
      "cell_type": "markdown",
      "metadata": {
        "id": "-d9Qcyx3NGDf"
      },
      "source": [
        "#3.Setting up the validation framework\n",
        "\n",
        "* Perform the train/validation/test split with Scikit-Learn"
      ],
      "id": "-d9Qcyx3NGDf"
    },
    {
      "cell_type": "code",
      "execution_count": 18,
      "metadata": {
        "id": "c_kavkMRNGDf"
      },
      "outputs": [],
      "source": [
        "from sklearn.model_selection import train_test_split"
      ],
      "id": "c_kavkMRNGDf"
    },
    {
      "cell_type": "code",
      "execution_count": 19,
      "metadata": {
        "id": "RUWCQGyYNGDf"
      },
      "outputs": [],
      "source": [
        "df_full_train, df_test = train_test_split(df, test_size=0.2, random_state=1)\n",
        "df_train, df_val = train_test_split(df_full_train, test_size=0.25, random_state=1)"
      ],
      "id": "RUWCQGyYNGDf"
    },
    {
      "cell_type": "code",
      "execution_count": 20,
      "metadata": {
        "colab": {
          "base_uri": "https://localhost:8080/"
        },
        "id": "7NemjzFrNGDg",
        "outputId": "1a100579-a772-4161-8daf-cc1247b140a0"
      },
      "outputs": [
        {
          "output_type": "execute_result",
          "data": {
            "text/plain": [
              "(4225, 1409, 1409)"
            ]
          },
          "metadata": {},
          "execution_count": 20
        }
      ],
      "source": [
        "len(df_train), len(df_val), len(df_test)"
      ],
      "id": "7NemjzFrNGDg"
    },
    {
      "cell_type": "code",
      "execution_count": 21,
      "metadata": {
        "id": "5NSBA0U2NGDg"
      },
      "outputs": [],
      "source": [
        "df_train = df_train.reset_index(drop=True)\n",
        "df_val = df_val.reset_index(drop=True)\n",
        "df_test = df_test.reset_index(drop=True)"
      ],
      "id": "5NSBA0U2NGDg"
    },
    {
      "cell_type": "code",
      "execution_count": 22,
      "metadata": {
        "id": "2Fxm9AeINGDg"
      },
      "outputs": [],
      "source": [
        "y_train = df_train.churn.values\n",
        "y_val = df_val.churn.values\n",
        "y_test = df_test.churn.values\n",
        "\n",
        "del df_train['churn']\n",
        "del df_val['churn']\n",
        "del df_test['churn']"
      ],
      "id": "2Fxm9AeINGDg"
    },
    {
      "cell_type": "markdown",
      "metadata": {
        "id": "lTlc2DJVNGDg"
      },
      "source": [
        "#4. EDA\n",
        "\n",
        "* Check missing values\n",
        "* Look at the target variable (churn)\n",
        "* Look at numerical and categorical variables"
      ],
      "id": "lTlc2DJVNGDg"
    },
    {
      "cell_type": "code",
      "execution_count": 23,
      "metadata": {
        "id": "l0OnR04ZNGDg"
      },
      "outputs": [],
      "source": [
        "df_full_train = df_full_train.reset_index(drop=True)"
      ],
      "id": "l0OnR04ZNGDg"
    },
    {
      "cell_type": "code",
      "execution_count": 24,
      "metadata": {
        "colab": {
          "base_uri": "https://localhost:8080/"
        },
        "id": "02YOJ1qfNGDh",
        "outputId": "b7bf7b72-a96e-4692-89aa-d56de7c12e1e"
      },
      "outputs": [
        {
          "output_type": "execute_result",
          "data": {
            "text/plain": [
              "customerid          0\n",
              "gender              0\n",
              "seniorcitizen       0\n",
              "partner             0\n",
              "dependents          0\n",
              "tenure              0\n",
              "phoneservice        0\n",
              "multiplelines       0\n",
              "internetservice     0\n",
              "onlinesecurity      0\n",
              "onlinebackup        0\n",
              "deviceprotection    0\n",
              "techsupport         0\n",
              "streamingtv         0\n",
              "streamingmovies     0\n",
              "contract            0\n",
              "paperlessbilling    0\n",
              "paymentmethod       0\n",
              "monthlycharges      0\n",
              "totalcharges        0\n",
              "churn               0\n",
              "dtype: int64"
            ]
          },
          "metadata": {},
          "execution_count": 24
        }
      ],
      "source": [
        "# check missing value\n",
        " \n",
        "# df_full_train.info()\n",
        "df_full_train.isnull().sum()"
      ],
      "id": "02YOJ1qfNGDh"
    },
    {
      "cell_type": "code",
      "execution_count": 25,
      "metadata": {
        "colab": {
          "base_uri": "https://localhost:8080/"
        },
        "id": "SVJV3a4fNGDh",
        "outputId": "efb3e807-e380-48d9-cfe5-8bc4a64322e5"
      },
      "outputs": [
        {
          "output_type": "execute_result",
          "data": {
            "text/plain": [
              "0    0.730032\n",
              "1    0.269968\n",
              "Name: churn, dtype: float64"
            ]
          },
          "metadata": {},
          "execution_count": 25
        }
      ],
      "source": [
        "# check the distribution of target value\n",
        "df_full_train.churn.value_counts(normalize=True)"
      ],
      "id": "SVJV3a4fNGDh"
    },
    {
      "cell_type": "code",
      "execution_count": 26,
      "metadata": {
        "colab": {
          "base_uri": "https://localhost:8080/"
        },
        "id": "CmJSb-LDNGDh",
        "outputId": "e7cb65d5-3796-414f-8575-713ecd450501"
      },
      "outputs": [
        {
          "output_type": "execute_result",
          "data": {
            "text/plain": [
              "0.26996805111821087"
            ]
          },
          "metadata": {},
          "execution_count": 26
        }
      ],
      "source": [
        "# for binary data, mean value is ratio of ones\n",
        "df_full_train.churn.mean()"
      ],
      "id": "CmJSb-LDNGDh"
    },
    {
      "cell_type": "code",
      "execution_count": 27,
      "metadata": {
        "id": "CmDS0fqtNGDh"
      },
      "outputs": [],
      "source": [
        "numerical = ['tenure', 'monthlycharges', 'totalcharges']"
      ],
      "id": "CmDS0fqtNGDh"
    },
    {
      "cell_type": "code",
      "execution_count": 28,
      "metadata": {
        "id": "vuVnXfiVNGDh"
      },
      "outputs": [],
      "source": [
        "categorical = [\n",
        "    'gender',\n",
        "    'seniorcitizen',\n",
        "    'partner',\n",
        "    'dependents',\n",
        "    'phoneservice',\n",
        "    'multiplelines',\n",
        "    'internetservice',\n",
        "    'onlinesecurity',\n",
        "    'onlinebackup',\n",
        "    'deviceprotection',\n",
        "    'techsupport',\n",
        "    'streamingtv',\n",
        "    'streamingmovies',\n",
        "    'contract',\n",
        "    'paperlessbilling',\n",
        "    'paymentmethod',\n",
        "]"
      ],
      "id": "vuVnXfiVNGDh"
    },
    {
      "cell_type": "code",
      "execution_count": 29,
      "metadata": {
        "colab": {
          "base_uri": "https://localhost:8080/"
        },
        "id": "AZBS2Di2NGDh",
        "outputId": "48238606-4eb1-4fad-afd8-3a592dfbd133"
      },
      "outputs": [
        {
          "output_type": "execute_result",
          "data": {
            "text/plain": [
              "gender              2\n",
              "seniorcitizen       2\n",
              "partner             2\n",
              "dependents          2\n",
              "phoneservice        2\n",
              "multiplelines       3\n",
              "internetservice     3\n",
              "onlinesecurity      3\n",
              "onlinebackup        3\n",
              "deviceprotection    3\n",
              "techsupport         3\n",
              "streamingtv         3\n",
              "streamingmovies     3\n",
              "contract            3\n",
              "paperlessbilling    2\n",
              "paymentmethod       4\n",
              "dtype: int64"
            ]
          },
          "metadata": {},
          "execution_count": 29
        }
      ],
      "source": [
        "df_full_train[categorical].nunique()"
      ],
      "id": "AZBS2Di2NGDh"
    },
    {
      "cell_type": "markdown",
      "metadata": {
        "id": "xMdaDGm9NGDi"
      },
      "source": [
        "#5. Feature importance: Churn rate and risk ratio\n",
        "\n",
        "Feature importance analysis (part of EDA) - identifying which features affect our target variable\n",
        "\n",
        "* Churn rate\n",
        "* Risk ratio\n",
        "* Mutual information : categorical feature\n",
        "* Correlation : numerical feature"
      ],
      "id": "xMdaDGm9NGDi"
    },
    {
      "cell_type": "markdown",
      "metadata": {
        "id": "XqNaqlnTNGDi"
      },
      "source": [
        "### 5.1 Churn rate"
      ],
      "id": "XqNaqlnTNGDi"
    },
    {
      "cell_type": "code",
      "execution_count": null,
      "metadata": {
        "id": "ow6Tqqa3NGDi",
        "outputId": "1c2f584e-19c0-4c82-d744-25b7afd95b8a"
      },
      "outputs": [
        {
          "data": {
            "text/html": [
              "<div>\n",
              "<style scoped>\n",
              "    .dataframe tbody tr th:only-of-type {\n",
              "        vertical-align: middle;\n",
              "    }\n",
              "\n",
              "    .dataframe tbody tr th {\n",
              "        vertical-align: top;\n",
              "    }\n",
              "\n",
              "    .dataframe thead th {\n",
              "        text-align: right;\n",
              "    }\n",
              "</style>\n",
              "<table border=\"1\" class=\"dataframe\">\n",
              "  <thead>\n",
              "    <tr style=\"text-align: right;\">\n",
              "      <th></th>\n",
              "      <th>customerid</th>\n",
              "      <th>gender</th>\n",
              "      <th>seniorcitizen</th>\n",
              "      <th>partner</th>\n",
              "      <th>dependents</th>\n",
              "      <th>tenure</th>\n",
              "      <th>phoneservice</th>\n",
              "      <th>multiplelines</th>\n",
              "      <th>internetservice</th>\n",
              "      <th>onlinesecurity</th>\n",
              "      <th>...</th>\n",
              "      <th>deviceprotection</th>\n",
              "      <th>techsupport</th>\n",
              "      <th>streamingtv</th>\n",
              "      <th>streamingmovies</th>\n",
              "      <th>contract</th>\n",
              "      <th>paperlessbilling</th>\n",
              "      <th>paymentmethod</th>\n",
              "      <th>monthlycharges</th>\n",
              "      <th>totalcharges</th>\n",
              "      <th>churn</th>\n",
              "    </tr>\n",
              "  </thead>\n",
              "  <tbody>\n",
              "    <tr>\n",
              "      <th>0</th>\n",
              "      <td>5442-pptjy</td>\n",
              "      <td>male</td>\n",
              "      <td>0</td>\n",
              "      <td>yes</td>\n",
              "      <td>yes</td>\n",
              "      <td>12</td>\n",
              "      <td>yes</td>\n",
              "      <td>no</td>\n",
              "      <td>no</td>\n",
              "      <td>no_internet_service</td>\n",
              "      <td>...</td>\n",
              "      <td>no_internet_service</td>\n",
              "      <td>no_internet_service</td>\n",
              "      <td>no_internet_service</td>\n",
              "      <td>no_internet_service</td>\n",
              "      <td>two_year</td>\n",
              "      <td>no</td>\n",
              "      <td>mailed_check</td>\n",
              "      <td>19.70</td>\n",
              "      <td>258.35</td>\n",
              "      <td>0</td>\n",
              "    </tr>\n",
              "    <tr>\n",
              "      <th>1</th>\n",
              "      <td>6261-rcvns</td>\n",
              "      <td>female</td>\n",
              "      <td>0</td>\n",
              "      <td>no</td>\n",
              "      <td>no</td>\n",
              "      <td>42</td>\n",
              "      <td>yes</td>\n",
              "      <td>no</td>\n",
              "      <td>dsl</td>\n",
              "      <td>yes</td>\n",
              "      <td>...</td>\n",
              "      <td>yes</td>\n",
              "      <td>yes</td>\n",
              "      <td>no</td>\n",
              "      <td>yes</td>\n",
              "      <td>one_year</td>\n",
              "      <td>no</td>\n",
              "      <td>credit_card_(automatic)</td>\n",
              "      <td>73.90</td>\n",
              "      <td>3160.55</td>\n",
              "      <td>1</td>\n",
              "    </tr>\n",
              "    <tr>\n",
              "      <th>2</th>\n",
              "      <td>2176-osjuv</td>\n",
              "      <td>male</td>\n",
              "      <td>0</td>\n",
              "      <td>yes</td>\n",
              "      <td>no</td>\n",
              "      <td>71</td>\n",
              "      <td>yes</td>\n",
              "      <td>yes</td>\n",
              "      <td>dsl</td>\n",
              "      <td>yes</td>\n",
              "      <td>...</td>\n",
              "      <td>no</td>\n",
              "      <td>yes</td>\n",
              "      <td>no</td>\n",
              "      <td>no</td>\n",
              "      <td>two_year</td>\n",
              "      <td>no</td>\n",
              "      <td>bank_transfer_(automatic)</td>\n",
              "      <td>65.15</td>\n",
              "      <td>4681.75</td>\n",
              "      <td>0</td>\n",
              "    </tr>\n",
              "    <tr>\n",
              "      <th>3</th>\n",
              "      <td>6161-erdgd</td>\n",
              "      <td>male</td>\n",
              "      <td>0</td>\n",
              "      <td>yes</td>\n",
              "      <td>yes</td>\n",
              "      <td>71</td>\n",
              "      <td>yes</td>\n",
              "      <td>yes</td>\n",
              "      <td>dsl</td>\n",
              "      <td>yes</td>\n",
              "      <td>...</td>\n",
              "      <td>yes</td>\n",
              "      <td>yes</td>\n",
              "      <td>yes</td>\n",
              "      <td>yes</td>\n",
              "      <td>one_year</td>\n",
              "      <td>no</td>\n",
              "      <td>electronic_check</td>\n",
              "      <td>85.45</td>\n",
              "      <td>6300.85</td>\n",
              "      <td>0</td>\n",
              "    </tr>\n",
              "    <tr>\n",
              "      <th>4</th>\n",
              "      <td>2364-ufrom</td>\n",
              "      <td>male</td>\n",
              "      <td>0</td>\n",
              "      <td>no</td>\n",
              "      <td>no</td>\n",
              "      <td>30</td>\n",
              "      <td>yes</td>\n",
              "      <td>no</td>\n",
              "      <td>dsl</td>\n",
              "      <td>yes</td>\n",
              "      <td>...</td>\n",
              "      <td>no</td>\n",
              "      <td>yes</td>\n",
              "      <td>yes</td>\n",
              "      <td>no</td>\n",
              "      <td>one_year</td>\n",
              "      <td>no</td>\n",
              "      <td>electronic_check</td>\n",
              "      <td>70.40</td>\n",
              "      <td>2044.75</td>\n",
              "      <td>0</td>\n",
              "    </tr>\n",
              "  </tbody>\n",
              "</table>\n",
              "<p>5 rows × 21 columns</p>\n",
              "</div>"
            ],
            "text/plain": [
              "   customerid  gender  seniorcitizen partner dependents  tenure phoneservice  \\\n",
              "0  5442-pptjy    male              0     yes        yes      12          yes   \n",
              "1  6261-rcvns  female              0      no         no      42          yes   \n",
              "2  2176-osjuv    male              0     yes         no      71          yes   \n",
              "3  6161-erdgd    male              0     yes        yes      71          yes   \n",
              "4  2364-ufrom    male              0      no         no      30          yes   \n",
              "\n",
              "  multiplelines internetservice       onlinesecurity  ...  \\\n",
              "0            no              no  no_internet_service  ...   \n",
              "1            no             dsl                  yes  ...   \n",
              "2           yes             dsl                  yes  ...   \n",
              "3           yes             dsl                  yes  ...   \n",
              "4            no             dsl                  yes  ...   \n",
              "\n",
              "      deviceprotection          techsupport          streamingtv  \\\n",
              "0  no_internet_service  no_internet_service  no_internet_service   \n",
              "1                  yes                  yes                   no   \n",
              "2                   no                  yes                   no   \n",
              "3                  yes                  yes                  yes   \n",
              "4                   no                  yes                  yes   \n",
              "\n",
              "       streamingmovies  contract paperlessbilling              paymentmethod  \\\n",
              "0  no_internet_service  two_year               no               mailed_check   \n",
              "1                  yes  one_year               no    credit_card_(automatic)   \n",
              "2                   no  two_year               no  bank_transfer_(automatic)   \n",
              "3                  yes  one_year               no           electronic_check   \n",
              "4                   no  one_year               no           electronic_check   \n",
              "\n",
              "  monthlycharges  totalcharges  churn  \n",
              "0          19.70        258.35      0  \n",
              "1          73.90       3160.55      1  \n",
              "2          65.15       4681.75      0  \n",
              "3          85.45       6300.85      0  \n",
              "4          70.40       2044.75      0  \n",
              "\n",
              "[5 rows x 21 columns]"
            ]
          },
          "execution_count": 24,
          "metadata": {},
          "output_type": "execute_result"
        }
      ],
      "source": [
        "df_full_train.head()"
      ],
      "id": "ow6Tqqa3NGDi"
    },
    {
      "cell_type": "markdown",
      "source": [
        "By comparing global churn rate and group churn rate, decide which feature is important"
      ],
      "metadata": {
        "id": "9eVtrbfRe1bt"
      },
      "id": "9eVtrbfRe1bt"
    },
    {
      "cell_type": "code",
      "execution_count": null,
      "metadata": {
        "id": "dMQsoMmnNGDi",
        "outputId": "cdf78d14-e185-45e0-c174-875409032d59"
      },
      "outputs": [
        {
          "data": {
            "text/plain": [
              "0.27682403433476394"
            ]
          },
          "execution_count": 25,
          "metadata": {},
          "output_type": "execute_result"
        }
      ],
      "source": [
        "churn_female = df_full_train[df_full_train.gender == 'female'].churn.mean()\n",
        "churn_female"
      ],
      "id": "dMQsoMmnNGDi"
    },
    {
      "cell_type": "code",
      "execution_count": null,
      "metadata": {
        "id": "MVZqjMwBNGDi",
        "outputId": "d2dd1019-c553-4184-c152-a6b439adc606"
      },
      "outputs": [
        {
          "data": {
            "text/plain": [
              "0.2632135306553911"
            ]
          },
          "execution_count": 26,
          "metadata": {},
          "output_type": "execute_result"
        }
      ],
      "source": [
        "churn_male = df_full_train[df_full_train.gender == 'male'].churn.mean()\n",
        "churn_male"
      ],
      "id": "MVZqjMwBNGDi"
    },
    {
      "cell_type": "code",
      "execution_count": null,
      "metadata": {
        "id": "blQj0_9TNGDi",
        "outputId": "10cd4cbf-9385-4ae0-a33f-e93fcd13e8a8"
      },
      "outputs": [
        {
          "data": {
            "text/plain": [
              "0.26996805111821087"
            ]
          },
          "execution_count": 27,
          "metadata": {},
          "output_type": "execute_result"
        }
      ],
      "source": [
        "global_churn = df_full_train.churn.mean()\n",
        "global_churn"
      ],
      "id": "blQj0_9TNGDi"
    },
    {
      "cell_type": "code",
      "execution_count": null,
      "metadata": {
        "id": "-qRa2DjUNGDi",
        "outputId": "f53f7c48-a082-4dfd-ed9f-808103d3462f"
      },
      "outputs": [
        {
          "data": {
            "text/plain": [
              "-0.006855983216553063"
            ]
          },
          "execution_count": 28,
          "metadata": {},
          "output_type": "execute_result"
        }
      ],
      "source": [
        "global_churn - churn_female"
      ],
      "id": "-qRa2DjUNGDi"
    },
    {
      "cell_type": "code",
      "execution_count": null,
      "metadata": {
        "id": "QObou8_KNGDi",
        "outputId": "ba94b62d-1e94-4ef0-90b6-06fb9b2d1407"
      },
      "outputs": [
        {
          "data": {
            "text/plain": [
              "0.006754520462819769"
            ]
          },
          "execution_count": 29,
          "metadata": {},
          "output_type": "execute_result"
        }
      ],
      "source": [
        "global_churn - churn_male"
      ],
      "id": "QObou8_KNGDi"
    },
    {
      "cell_type": "code",
      "execution_count": null,
      "metadata": {
        "id": "0d-9YLnCNGDi",
        "outputId": "f140510f-32ec-491b-a131-21bf221ea49c"
      },
      "outputs": [
        {
          "data": {
            "text/plain": [
              "no     2932\n",
              "yes    2702\n",
              "Name: partner, dtype: int64"
            ]
          },
          "execution_count": 30,
          "metadata": {},
          "output_type": "execute_result"
        }
      ],
      "source": [
        "df_full_train.partner.value_counts()"
      ],
      "id": "0d-9YLnCNGDi"
    },
    {
      "cell_type": "code",
      "execution_count": null,
      "metadata": {
        "id": "_b5olm8TNGDj",
        "outputId": "08b7b599-4628-4990-d5cb-d69009188c60"
      },
      "outputs": [
        {
          "data": {
            "text/plain": [
              "0.20503330866025166"
            ]
          },
          "execution_count": 31,
          "metadata": {},
          "output_type": "execute_result"
        }
      ],
      "source": [
        "churn_partner = df_full_train[df_full_train.partner == 'yes'].churn.mean()\n",
        "churn_partner"
      ],
      "id": "_b5olm8TNGDj"
    },
    {
      "cell_type": "code",
      "execution_count": null,
      "metadata": {
        "id": "UnOquHuRNGDj",
        "outputId": "f9be483f-0c5b-4a6a-e9fd-d3fea6c54235"
      },
      "outputs": [
        {
          "data": {
            "text/plain": [
              "0.06493474245795922"
            ]
          },
          "execution_count": 32,
          "metadata": {},
          "output_type": "execute_result"
        }
      ],
      "source": [
        "global_churn - churn_partner"
      ],
      "id": "UnOquHuRNGDj"
    },
    {
      "cell_type": "code",
      "execution_count": null,
      "metadata": {
        "id": "t2aZGr95NGDj",
        "outputId": "b8207ad6-03c7-4b60-f9ec-21990624fe57"
      },
      "outputs": [
        {
          "data": {
            "text/plain": [
              "0.3298090040927694"
            ]
          },
          "execution_count": 33,
          "metadata": {},
          "output_type": "execute_result"
        }
      ],
      "source": [
        "churn_no_partner = df_full_train[df_full_train.partner == 'no'].churn.mean()\n",
        "churn_no_partner"
      ],
      "id": "t2aZGr95NGDj"
    },
    {
      "cell_type": "code",
      "execution_count": null,
      "metadata": {
        "id": "Kkt8a_LfNGDj",
        "outputId": "ffe98faf-4aa4-4235-9df2-aff11c370760"
      },
      "outputs": [
        {
          "data": {
            "text/plain": [
              "-0.05984095297455855"
            ]
          },
          "execution_count": 34,
          "metadata": {},
          "output_type": "execute_result"
        }
      ],
      "source": [
        "global_churn - churn_no_partner"
      ],
      "id": "Kkt8a_LfNGDj"
    },
    {
      "cell_type": "markdown",
      "metadata": {
        "id": "0V1wBLTENGDj"
      },
      "source": [
        "###5.2 Risk ratio"
      ],
      "id": "0V1wBLTENGDj"
    },
    {
      "cell_type": "code",
      "execution_count": null,
      "metadata": {
        "id": "90M0MXEPNGDj",
        "outputId": "ce2621ea-3b21-4790-f04a-de8e73ae1e29"
      },
      "outputs": [
        {
          "data": {
            "text/plain": [
              "1.2216593879412643"
            ]
          },
          "execution_count": 35,
          "metadata": {},
          "output_type": "execute_result"
        }
      ],
      "source": [
        "churn_no_partner / global_churn"
      ],
      "id": "90M0MXEPNGDj"
    },
    {
      "cell_type": "code",
      "execution_count": null,
      "metadata": {
        "id": "xfM99YiYNGDj",
        "outputId": "a711fd8c-44af-4f56-abc6-3a9b857ebfff"
      },
      "outputs": [
        {
          "data": {
            "text/plain": [
              "0.7594724924338315"
            ]
          },
          "execution_count": 36,
          "metadata": {},
          "output_type": "execute_result"
        }
      ],
      "source": [
        "churn_partner / global_churn"
      ],
      "id": "xfM99YiYNGDj"
    },
    {
      "cell_type": "markdown",
      "metadata": {
        "id": "hDVZI4NpNGDj"
      },
      "source": [
        "```\n",
        "SELECT\n",
        "    gender,\n",
        "    AVG(churn),\n",
        "    AVG(churn) - global_churn AS diff,\n",
        "    AVG(churn) / global_churn AS risk\n",
        "FROM\n",
        "    data\n",
        "GROUP BY\n",
        "    gender;\n",
        "```"
      ],
      "id": "hDVZI4NpNGDj"
    },
    {
      "cell_type": "code",
      "execution_count": null,
      "metadata": {
        "id": "qYjcsE9zNGDj"
      },
      "outputs": [],
      "source": [
        "from IPython.display import display"
      ],
      "id": "qYjcsE9zNGDj"
    },
    {
      "cell_type": "code",
      "execution_count": null,
      "metadata": {
        "id": "1ZrLOopXNGDj",
        "outputId": "a6a22cc5-02c9-42c6-c841-2450433a2ccf"
      },
      "outputs": [
        {
          "name": "stdout",
          "output_type": "stream",
          "text": [
            "gender\n"
          ]
        },
        {
          "data": {
            "text/html": [
              "<div>\n",
              "<style scoped>\n",
              "    .dataframe tbody tr th:only-of-type {\n",
              "        vertical-align: middle;\n",
              "    }\n",
              "\n",
              "    .dataframe tbody tr th {\n",
              "        vertical-align: top;\n",
              "    }\n",
              "\n",
              "    .dataframe thead th {\n",
              "        text-align: right;\n",
              "    }\n",
              "</style>\n",
              "<table border=\"1\" class=\"dataframe\">\n",
              "  <thead>\n",
              "    <tr style=\"text-align: right;\">\n",
              "      <th></th>\n",
              "      <th>mean</th>\n",
              "      <th>count</th>\n",
              "      <th>diff</th>\n",
              "      <th>risk</th>\n",
              "    </tr>\n",
              "    <tr>\n",
              "      <th>gender</th>\n",
              "      <th></th>\n",
              "      <th></th>\n",
              "      <th></th>\n",
              "      <th></th>\n",
              "    </tr>\n",
              "  </thead>\n",
              "  <tbody>\n",
              "    <tr>\n",
              "      <th>female</th>\n",
              "      <td>0.276824</td>\n",
              "      <td>2796</td>\n",
              "      <td>0.006856</td>\n",
              "      <td>1.025396</td>\n",
              "    </tr>\n",
              "    <tr>\n",
              "      <th>male</th>\n",
              "      <td>0.263214</td>\n",
              "      <td>2838</td>\n",
              "      <td>-0.006755</td>\n",
              "      <td>0.974980</td>\n",
              "    </tr>\n",
              "  </tbody>\n",
              "</table>\n",
              "</div>"
            ],
            "text/plain": [
              "            mean  count      diff      risk\n",
              "gender                                     \n",
              "female  0.276824   2796  0.006856  1.025396\n",
              "male    0.263214   2838 -0.006755  0.974980"
            ]
          },
          "metadata": {},
          "output_type": "display_data"
        },
        {
          "name": "stdout",
          "output_type": "stream",
          "text": [
            "\n",
            "\n",
            "seniorcitizen\n"
          ]
        },
        {
          "data": {
            "text/html": [
              "<div>\n",
              "<style scoped>\n",
              "    .dataframe tbody tr th:only-of-type {\n",
              "        vertical-align: middle;\n",
              "    }\n",
              "\n",
              "    .dataframe tbody tr th {\n",
              "        vertical-align: top;\n",
              "    }\n",
              "\n",
              "    .dataframe thead th {\n",
              "        text-align: right;\n",
              "    }\n",
              "</style>\n",
              "<table border=\"1\" class=\"dataframe\">\n",
              "  <thead>\n",
              "    <tr style=\"text-align: right;\">\n",
              "      <th></th>\n",
              "      <th>mean</th>\n",
              "      <th>count</th>\n",
              "      <th>diff</th>\n",
              "      <th>risk</th>\n",
              "    </tr>\n",
              "    <tr>\n",
              "      <th>seniorcitizen</th>\n",
              "      <th></th>\n",
              "      <th></th>\n",
              "      <th></th>\n",
              "      <th></th>\n",
              "    </tr>\n",
              "  </thead>\n",
              "  <tbody>\n",
              "    <tr>\n",
              "      <th>0</th>\n",
              "      <td>0.242270</td>\n",
              "      <td>4722</td>\n",
              "      <td>-0.027698</td>\n",
              "      <td>0.897403</td>\n",
              "    </tr>\n",
              "    <tr>\n",
              "      <th>1</th>\n",
              "      <td>0.413377</td>\n",
              "      <td>912</td>\n",
              "      <td>0.143409</td>\n",
              "      <td>1.531208</td>\n",
              "    </tr>\n",
              "  </tbody>\n",
              "</table>\n",
              "</div>"
            ],
            "text/plain": [
              "                   mean  count      diff      risk\n",
              "seniorcitizen                                     \n",
              "0              0.242270   4722 -0.027698  0.897403\n",
              "1              0.413377    912  0.143409  1.531208"
            ]
          },
          "metadata": {},
          "output_type": "display_data"
        },
        {
          "name": "stdout",
          "output_type": "stream",
          "text": [
            "\n",
            "\n",
            "partner\n"
          ]
        },
        {
          "data": {
            "text/html": [
              "<div>\n",
              "<style scoped>\n",
              "    .dataframe tbody tr th:only-of-type {\n",
              "        vertical-align: middle;\n",
              "    }\n",
              "\n",
              "    .dataframe tbody tr th {\n",
              "        vertical-align: top;\n",
              "    }\n",
              "\n",
              "    .dataframe thead th {\n",
              "        text-align: right;\n",
              "    }\n",
              "</style>\n",
              "<table border=\"1\" class=\"dataframe\">\n",
              "  <thead>\n",
              "    <tr style=\"text-align: right;\">\n",
              "      <th></th>\n",
              "      <th>mean</th>\n",
              "      <th>count</th>\n",
              "      <th>diff</th>\n",
              "      <th>risk</th>\n",
              "    </tr>\n",
              "    <tr>\n",
              "      <th>partner</th>\n",
              "      <th></th>\n",
              "      <th></th>\n",
              "      <th></th>\n",
              "      <th></th>\n",
              "    </tr>\n",
              "  </thead>\n",
              "  <tbody>\n",
              "    <tr>\n",
              "      <th>no</th>\n",
              "      <td>0.329809</td>\n",
              "      <td>2932</td>\n",
              "      <td>0.059841</td>\n",
              "      <td>1.221659</td>\n",
              "    </tr>\n",
              "    <tr>\n",
              "      <th>yes</th>\n",
              "      <td>0.205033</td>\n",
              "      <td>2702</td>\n",
              "      <td>-0.064935</td>\n",
              "      <td>0.759472</td>\n",
              "    </tr>\n",
              "  </tbody>\n",
              "</table>\n",
              "</div>"
            ],
            "text/plain": [
              "             mean  count      diff      risk\n",
              "partner                                     \n",
              "no       0.329809   2932  0.059841  1.221659\n",
              "yes      0.205033   2702 -0.064935  0.759472"
            ]
          },
          "metadata": {},
          "output_type": "display_data"
        },
        {
          "name": "stdout",
          "output_type": "stream",
          "text": [
            "\n",
            "\n",
            "dependents\n"
          ]
        },
        {
          "data": {
            "text/html": [
              "<div>\n",
              "<style scoped>\n",
              "    .dataframe tbody tr th:only-of-type {\n",
              "        vertical-align: middle;\n",
              "    }\n",
              "\n",
              "    .dataframe tbody tr th {\n",
              "        vertical-align: top;\n",
              "    }\n",
              "\n",
              "    .dataframe thead th {\n",
              "        text-align: right;\n",
              "    }\n",
              "</style>\n",
              "<table border=\"1\" class=\"dataframe\">\n",
              "  <thead>\n",
              "    <tr style=\"text-align: right;\">\n",
              "      <th></th>\n",
              "      <th>mean</th>\n",
              "      <th>count</th>\n",
              "      <th>diff</th>\n",
              "      <th>risk</th>\n",
              "    </tr>\n",
              "    <tr>\n",
              "      <th>dependents</th>\n",
              "      <th></th>\n",
              "      <th></th>\n",
              "      <th></th>\n",
              "      <th></th>\n",
              "    </tr>\n",
              "  </thead>\n",
              "  <tbody>\n",
              "    <tr>\n",
              "      <th>no</th>\n",
              "      <td>0.313760</td>\n",
              "      <td>3968</td>\n",
              "      <td>0.043792</td>\n",
              "      <td>1.162212</td>\n",
              "    </tr>\n",
              "    <tr>\n",
              "      <th>yes</th>\n",
              "      <td>0.165666</td>\n",
              "      <td>1666</td>\n",
              "      <td>-0.104302</td>\n",
              "      <td>0.613651</td>\n",
              "    </tr>\n",
              "  </tbody>\n",
              "</table>\n",
              "</div>"
            ],
            "text/plain": [
              "                mean  count      diff      risk\n",
              "dependents                                     \n",
              "no          0.313760   3968  0.043792  1.162212\n",
              "yes         0.165666   1666 -0.104302  0.613651"
            ]
          },
          "metadata": {},
          "output_type": "display_data"
        },
        {
          "name": "stdout",
          "output_type": "stream",
          "text": [
            "\n",
            "\n",
            "phoneservice\n"
          ]
        },
        {
          "data": {
            "text/html": [
              "<div>\n",
              "<style scoped>\n",
              "    .dataframe tbody tr th:only-of-type {\n",
              "        vertical-align: middle;\n",
              "    }\n",
              "\n",
              "    .dataframe tbody tr th {\n",
              "        vertical-align: top;\n",
              "    }\n",
              "\n",
              "    .dataframe thead th {\n",
              "        text-align: right;\n",
              "    }\n",
              "</style>\n",
              "<table border=\"1\" class=\"dataframe\">\n",
              "  <thead>\n",
              "    <tr style=\"text-align: right;\">\n",
              "      <th></th>\n",
              "      <th>mean</th>\n",
              "      <th>count</th>\n",
              "      <th>diff</th>\n",
              "      <th>risk</th>\n",
              "    </tr>\n",
              "    <tr>\n",
              "      <th>phoneservice</th>\n",
              "      <th></th>\n",
              "      <th></th>\n",
              "      <th></th>\n",
              "      <th></th>\n",
              "    </tr>\n",
              "  </thead>\n",
              "  <tbody>\n",
              "    <tr>\n",
              "      <th>no</th>\n",
              "      <td>0.241316</td>\n",
              "      <td>547</td>\n",
              "      <td>-0.028652</td>\n",
              "      <td>0.893870</td>\n",
              "    </tr>\n",
              "    <tr>\n",
              "      <th>yes</th>\n",
              "      <td>0.273049</td>\n",
              "      <td>5087</td>\n",
              "      <td>0.003081</td>\n",
              "      <td>1.011412</td>\n",
              "    </tr>\n",
              "  </tbody>\n",
              "</table>\n",
              "</div>"
            ],
            "text/plain": [
              "                  mean  count      diff      risk\n",
              "phoneservice                                     \n",
              "no            0.241316    547 -0.028652  0.893870\n",
              "yes           0.273049   5087  0.003081  1.011412"
            ]
          },
          "metadata": {},
          "output_type": "display_data"
        },
        {
          "name": "stdout",
          "output_type": "stream",
          "text": [
            "\n",
            "\n",
            "multiplelines\n"
          ]
        },
        {
          "data": {
            "text/html": [
              "<div>\n",
              "<style scoped>\n",
              "    .dataframe tbody tr th:only-of-type {\n",
              "        vertical-align: middle;\n",
              "    }\n",
              "\n",
              "    .dataframe tbody tr th {\n",
              "        vertical-align: top;\n",
              "    }\n",
              "\n",
              "    .dataframe thead th {\n",
              "        text-align: right;\n",
              "    }\n",
              "</style>\n",
              "<table border=\"1\" class=\"dataframe\">\n",
              "  <thead>\n",
              "    <tr style=\"text-align: right;\">\n",
              "      <th></th>\n",
              "      <th>mean</th>\n",
              "      <th>count</th>\n",
              "      <th>diff</th>\n",
              "      <th>risk</th>\n",
              "    </tr>\n",
              "    <tr>\n",
              "      <th>multiplelines</th>\n",
              "      <th></th>\n",
              "      <th></th>\n",
              "      <th></th>\n",
              "      <th></th>\n",
              "    </tr>\n",
              "  </thead>\n",
              "  <tbody>\n",
              "    <tr>\n",
              "      <th>no</th>\n",
              "      <td>0.257407</td>\n",
              "      <td>2700</td>\n",
              "      <td>-0.012561</td>\n",
              "      <td>0.953474</td>\n",
              "    </tr>\n",
              "    <tr>\n",
              "      <th>no_phone_service</th>\n",
              "      <td>0.241316</td>\n",
              "      <td>547</td>\n",
              "      <td>-0.028652</td>\n",
              "      <td>0.893870</td>\n",
              "    </tr>\n",
              "    <tr>\n",
              "      <th>yes</th>\n",
              "      <td>0.290742</td>\n",
              "      <td>2387</td>\n",
              "      <td>0.020773</td>\n",
              "      <td>1.076948</td>\n",
              "    </tr>\n",
              "  </tbody>\n",
              "</table>\n",
              "</div>"
            ],
            "text/plain": [
              "                      mean  count      diff      risk\n",
              "multiplelines                                        \n",
              "no                0.257407   2700 -0.012561  0.953474\n",
              "no_phone_service  0.241316    547 -0.028652  0.893870\n",
              "yes               0.290742   2387  0.020773  1.076948"
            ]
          },
          "metadata": {},
          "output_type": "display_data"
        },
        {
          "name": "stdout",
          "output_type": "stream",
          "text": [
            "\n",
            "\n",
            "internetservice\n"
          ]
        },
        {
          "data": {
            "text/html": [
              "<div>\n",
              "<style scoped>\n",
              "    .dataframe tbody tr th:only-of-type {\n",
              "        vertical-align: middle;\n",
              "    }\n",
              "\n",
              "    .dataframe tbody tr th {\n",
              "        vertical-align: top;\n",
              "    }\n",
              "\n",
              "    .dataframe thead th {\n",
              "        text-align: right;\n",
              "    }\n",
              "</style>\n",
              "<table border=\"1\" class=\"dataframe\">\n",
              "  <thead>\n",
              "    <tr style=\"text-align: right;\">\n",
              "      <th></th>\n",
              "      <th>mean</th>\n",
              "      <th>count</th>\n",
              "      <th>diff</th>\n",
              "      <th>risk</th>\n",
              "    </tr>\n",
              "    <tr>\n",
              "      <th>internetservice</th>\n",
              "      <th></th>\n",
              "      <th></th>\n",
              "      <th></th>\n",
              "      <th></th>\n",
              "    </tr>\n",
              "  </thead>\n",
              "  <tbody>\n",
              "    <tr>\n",
              "      <th>dsl</th>\n",
              "      <td>0.192347</td>\n",
              "      <td>1934</td>\n",
              "      <td>-0.077621</td>\n",
              "      <td>0.712482</td>\n",
              "    </tr>\n",
              "    <tr>\n",
              "      <th>fiber_optic</th>\n",
              "      <td>0.425171</td>\n",
              "      <td>2479</td>\n",
              "      <td>0.155203</td>\n",
              "      <td>1.574895</td>\n",
              "    </tr>\n",
              "    <tr>\n",
              "      <th>no</th>\n",
              "      <td>0.077805</td>\n",
              "      <td>1221</td>\n",
              "      <td>-0.192163</td>\n",
              "      <td>0.288201</td>\n",
              "    </tr>\n",
              "  </tbody>\n",
              "</table>\n",
              "</div>"
            ],
            "text/plain": [
              "                     mean  count      diff      risk\n",
              "internetservice                                     \n",
              "dsl              0.192347   1934 -0.077621  0.712482\n",
              "fiber_optic      0.425171   2479  0.155203  1.574895\n",
              "no               0.077805   1221 -0.192163  0.288201"
            ]
          },
          "metadata": {},
          "output_type": "display_data"
        },
        {
          "name": "stdout",
          "output_type": "stream",
          "text": [
            "\n",
            "\n",
            "onlinesecurity\n"
          ]
        },
        {
          "data": {
            "text/html": [
              "<div>\n",
              "<style scoped>\n",
              "    .dataframe tbody tr th:only-of-type {\n",
              "        vertical-align: middle;\n",
              "    }\n",
              "\n",
              "    .dataframe tbody tr th {\n",
              "        vertical-align: top;\n",
              "    }\n",
              "\n",
              "    .dataframe thead th {\n",
              "        text-align: right;\n",
              "    }\n",
              "</style>\n",
              "<table border=\"1\" class=\"dataframe\">\n",
              "  <thead>\n",
              "    <tr style=\"text-align: right;\">\n",
              "      <th></th>\n",
              "      <th>mean</th>\n",
              "      <th>count</th>\n",
              "      <th>diff</th>\n",
              "      <th>risk</th>\n",
              "    </tr>\n",
              "    <tr>\n",
              "      <th>onlinesecurity</th>\n",
              "      <th></th>\n",
              "      <th></th>\n",
              "      <th></th>\n",
              "      <th></th>\n",
              "    </tr>\n",
              "  </thead>\n",
              "  <tbody>\n",
              "    <tr>\n",
              "      <th>no</th>\n",
              "      <td>0.420921</td>\n",
              "      <td>2801</td>\n",
              "      <td>0.150953</td>\n",
              "      <td>1.559152</td>\n",
              "    </tr>\n",
              "    <tr>\n",
              "      <th>no_internet_service</th>\n",
              "      <td>0.077805</td>\n",
              "      <td>1221</td>\n",
              "      <td>-0.192163</td>\n",
              "      <td>0.288201</td>\n",
              "    </tr>\n",
              "    <tr>\n",
              "      <th>yes</th>\n",
              "      <td>0.153226</td>\n",
              "      <td>1612</td>\n",
              "      <td>-0.116742</td>\n",
              "      <td>0.567570</td>\n",
              "    </tr>\n",
              "  </tbody>\n",
              "</table>\n",
              "</div>"
            ],
            "text/plain": [
              "                         mean  count      diff      risk\n",
              "onlinesecurity                                          \n",
              "no                   0.420921   2801  0.150953  1.559152\n",
              "no_internet_service  0.077805   1221 -0.192163  0.288201\n",
              "yes                  0.153226   1612 -0.116742  0.567570"
            ]
          },
          "metadata": {},
          "output_type": "display_data"
        },
        {
          "name": "stdout",
          "output_type": "stream",
          "text": [
            "\n",
            "\n",
            "onlinebackup\n"
          ]
        },
        {
          "data": {
            "text/html": [
              "<div>\n",
              "<style scoped>\n",
              "    .dataframe tbody tr th:only-of-type {\n",
              "        vertical-align: middle;\n",
              "    }\n",
              "\n",
              "    .dataframe tbody tr th {\n",
              "        vertical-align: top;\n",
              "    }\n",
              "\n",
              "    .dataframe thead th {\n",
              "        text-align: right;\n",
              "    }\n",
              "</style>\n",
              "<table border=\"1\" class=\"dataframe\">\n",
              "  <thead>\n",
              "    <tr style=\"text-align: right;\">\n",
              "      <th></th>\n",
              "      <th>mean</th>\n",
              "      <th>count</th>\n",
              "      <th>diff</th>\n",
              "      <th>risk</th>\n",
              "    </tr>\n",
              "    <tr>\n",
              "      <th>onlinebackup</th>\n",
              "      <th></th>\n",
              "      <th></th>\n",
              "      <th></th>\n",
              "      <th></th>\n",
              "    </tr>\n",
              "  </thead>\n",
              "  <tbody>\n",
              "    <tr>\n",
              "      <th>no</th>\n",
              "      <td>0.404323</td>\n",
              "      <td>2498</td>\n",
              "      <td>0.134355</td>\n",
              "      <td>1.497672</td>\n",
              "    </tr>\n",
              "    <tr>\n",
              "      <th>no_internet_service</th>\n",
              "      <td>0.077805</td>\n",
              "      <td>1221</td>\n",
              "      <td>-0.192163</td>\n",
              "      <td>0.288201</td>\n",
              "    </tr>\n",
              "    <tr>\n",
              "      <th>yes</th>\n",
              "      <td>0.217232</td>\n",
              "      <td>1915</td>\n",
              "      <td>-0.052736</td>\n",
              "      <td>0.804660</td>\n",
              "    </tr>\n",
              "  </tbody>\n",
              "</table>\n",
              "</div>"
            ],
            "text/plain": [
              "                         mean  count      diff      risk\n",
              "onlinebackup                                            \n",
              "no                   0.404323   2498  0.134355  1.497672\n",
              "no_internet_service  0.077805   1221 -0.192163  0.288201\n",
              "yes                  0.217232   1915 -0.052736  0.804660"
            ]
          },
          "metadata": {},
          "output_type": "display_data"
        },
        {
          "name": "stdout",
          "output_type": "stream",
          "text": [
            "\n",
            "\n",
            "deviceprotection\n"
          ]
        },
        {
          "data": {
            "text/html": [
              "<div>\n",
              "<style scoped>\n",
              "    .dataframe tbody tr th:only-of-type {\n",
              "        vertical-align: middle;\n",
              "    }\n",
              "\n",
              "    .dataframe tbody tr th {\n",
              "        vertical-align: top;\n",
              "    }\n",
              "\n",
              "    .dataframe thead th {\n",
              "        text-align: right;\n",
              "    }\n",
              "</style>\n",
              "<table border=\"1\" class=\"dataframe\">\n",
              "  <thead>\n",
              "    <tr style=\"text-align: right;\">\n",
              "      <th></th>\n",
              "      <th>mean</th>\n",
              "      <th>count</th>\n",
              "      <th>diff</th>\n",
              "      <th>risk</th>\n",
              "    </tr>\n",
              "    <tr>\n",
              "      <th>deviceprotection</th>\n",
              "      <th></th>\n",
              "      <th></th>\n",
              "      <th></th>\n",
              "      <th></th>\n",
              "    </tr>\n",
              "  </thead>\n",
              "  <tbody>\n",
              "    <tr>\n",
              "      <th>no</th>\n",
              "      <td>0.395875</td>\n",
              "      <td>2473</td>\n",
              "      <td>0.125907</td>\n",
              "      <td>1.466379</td>\n",
              "    </tr>\n",
              "    <tr>\n",
              "      <th>no_internet_service</th>\n",
              "      <td>0.077805</td>\n",
              "      <td>1221</td>\n",
              "      <td>-0.192163</td>\n",
              "      <td>0.288201</td>\n",
              "    </tr>\n",
              "    <tr>\n",
              "      <th>yes</th>\n",
              "      <td>0.230412</td>\n",
              "      <td>1940</td>\n",
              "      <td>-0.039556</td>\n",
              "      <td>0.853480</td>\n",
              "    </tr>\n",
              "  </tbody>\n",
              "</table>\n",
              "</div>"
            ],
            "text/plain": [
              "                         mean  count      diff      risk\n",
              "deviceprotection                                        \n",
              "no                   0.395875   2473  0.125907  1.466379\n",
              "no_internet_service  0.077805   1221 -0.192163  0.288201\n",
              "yes                  0.230412   1940 -0.039556  0.853480"
            ]
          },
          "metadata": {},
          "output_type": "display_data"
        },
        {
          "name": "stdout",
          "output_type": "stream",
          "text": [
            "\n",
            "\n",
            "techsupport\n"
          ]
        },
        {
          "data": {
            "text/html": [
              "<div>\n",
              "<style scoped>\n",
              "    .dataframe tbody tr th:only-of-type {\n",
              "        vertical-align: middle;\n",
              "    }\n",
              "\n",
              "    .dataframe tbody tr th {\n",
              "        vertical-align: top;\n",
              "    }\n",
              "\n",
              "    .dataframe thead th {\n",
              "        text-align: right;\n",
              "    }\n",
              "</style>\n",
              "<table border=\"1\" class=\"dataframe\">\n",
              "  <thead>\n",
              "    <tr style=\"text-align: right;\">\n",
              "      <th></th>\n",
              "      <th>mean</th>\n",
              "      <th>count</th>\n",
              "      <th>diff</th>\n",
              "      <th>risk</th>\n",
              "    </tr>\n",
              "    <tr>\n",
              "      <th>techsupport</th>\n",
              "      <th></th>\n",
              "      <th></th>\n",
              "      <th></th>\n",
              "      <th></th>\n",
              "    </tr>\n",
              "  </thead>\n",
              "  <tbody>\n",
              "    <tr>\n",
              "      <th>no</th>\n",
              "      <td>0.418914</td>\n",
              "      <td>2781</td>\n",
              "      <td>0.148946</td>\n",
              "      <td>1.551717</td>\n",
              "    </tr>\n",
              "    <tr>\n",
              "      <th>no_internet_service</th>\n",
              "      <td>0.077805</td>\n",
              "      <td>1221</td>\n",
              "      <td>-0.192163</td>\n",
              "      <td>0.288201</td>\n",
              "    </tr>\n",
              "    <tr>\n",
              "      <th>yes</th>\n",
              "      <td>0.159926</td>\n",
              "      <td>1632</td>\n",
              "      <td>-0.110042</td>\n",
              "      <td>0.592390</td>\n",
              "    </tr>\n",
              "  </tbody>\n",
              "</table>\n",
              "</div>"
            ],
            "text/plain": [
              "                         mean  count      diff      risk\n",
              "techsupport                                             \n",
              "no                   0.418914   2781  0.148946  1.551717\n",
              "no_internet_service  0.077805   1221 -0.192163  0.288201\n",
              "yes                  0.159926   1632 -0.110042  0.592390"
            ]
          },
          "metadata": {},
          "output_type": "display_data"
        },
        {
          "name": "stdout",
          "output_type": "stream",
          "text": [
            "\n",
            "\n",
            "streamingtv\n"
          ]
        },
        {
          "data": {
            "text/html": [
              "<div>\n",
              "<style scoped>\n",
              "    .dataframe tbody tr th:only-of-type {\n",
              "        vertical-align: middle;\n",
              "    }\n",
              "\n",
              "    .dataframe tbody tr th {\n",
              "        vertical-align: top;\n",
              "    }\n",
              "\n",
              "    .dataframe thead th {\n",
              "        text-align: right;\n",
              "    }\n",
              "</style>\n",
              "<table border=\"1\" class=\"dataframe\">\n",
              "  <thead>\n",
              "    <tr style=\"text-align: right;\">\n",
              "      <th></th>\n",
              "      <th>mean</th>\n",
              "      <th>count</th>\n",
              "      <th>diff</th>\n",
              "      <th>risk</th>\n",
              "    </tr>\n",
              "    <tr>\n",
              "      <th>streamingtv</th>\n",
              "      <th></th>\n",
              "      <th></th>\n",
              "      <th></th>\n",
              "      <th></th>\n",
              "    </tr>\n",
              "  </thead>\n",
              "  <tbody>\n",
              "    <tr>\n",
              "      <th>no</th>\n",
              "      <td>0.342832</td>\n",
              "      <td>2246</td>\n",
              "      <td>0.072864</td>\n",
              "      <td>1.269897</td>\n",
              "    </tr>\n",
              "    <tr>\n",
              "      <th>no_internet_service</th>\n",
              "      <td>0.077805</td>\n",
              "      <td>1221</td>\n",
              "      <td>-0.192163</td>\n",
              "      <td>0.288201</td>\n",
              "    </tr>\n",
              "    <tr>\n",
              "      <th>yes</th>\n",
              "      <td>0.302723</td>\n",
              "      <td>2167</td>\n",
              "      <td>0.032755</td>\n",
              "      <td>1.121328</td>\n",
              "    </tr>\n",
              "  </tbody>\n",
              "</table>\n",
              "</div>"
            ],
            "text/plain": [
              "                         mean  count      diff      risk\n",
              "streamingtv                                             \n",
              "no                   0.342832   2246  0.072864  1.269897\n",
              "no_internet_service  0.077805   1221 -0.192163  0.288201\n",
              "yes                  0.302723   2167  0.032755  1.121328"
            ]
          },
          "metadata": {},
          "output_type": "display_data"
        },
        {
          "name": "stdout",
          "output_type": "stream",
          "text": [
            "\n",
            "\n",
            "streamingmovies\n"
          ]
        },
        {
          "data": {
            "text/html": [
              "<div>\n",
              "<style scoped>\n",
              "    .dataframe tbody tr th:only-of-type {\n",
              "        vertical-align: middle;\n",
              "    }\n",
              "\n",
              "    .dataframe tbody tr th {\n",
              "        vertical-align: top;\n",
              "    }\n",
              "\n",
              "    .dataframe thead th {\n",
              "        text-align: right;\n",
              "    }\n",
              "</style>\n",
              "<table border=\"1\" class=\"dataframe\">\n",
              "  <thead>\n",
              "    <tr style=\"text-align: right;\">\n",
              "      <th></th>\n",
              "      <th>mean</th>\n",
              "      <th>count</th>\n",
              "      <th>diff</th>\n",
              "      <th>risk</th>\n",
              "    </tr>\n",
              "    <tr>\n",
              "      <th>streamingmovies</th>\n",
              "      <th></th>\n",
              "      <th></th>\n",
              "      <th></th>\n",
              "      <th></th>\n",
              "    </tr>\n",
              "  </thead>\n",
              "  <tbody>\n",
              "    <tr>\n",
              "      <th>no</th>\n",
              "      <td>0.338906</td>\n",
              "      <td>2213</td>\n",
              "      <td>0.068938</td>\n",
              "      <td>1.255358</td>\n",
              "    </tr>\n",
              "    <tr>\n",
              "      <th>no_internet_service</th>\n",
              "      <td>0.077805</td>\n",
              "      <td>1221</td>\n",
              "      <td>-0.192163</td>\n",
              "      <td>0.288201</td>\n",
              "    </tr>\n",
              "    <tr>\n",
              "      <th>yes</th>\n",
              "      <td>0.307273</td>\n",
              "      <td>2200</td>\n",
              "      <td>0.037305</td>\n",
              "      <td>1.138182</td>\n",
              "    </tr>\n",
              "  </tbody>\n",
              "</table>\n",
              "</div>"
            ],
            "text/plain": [
              "                         mean  count      diff      risk\n",
              "streamingmovies                                         \n",
              "no                   0.338906   2213  0.068938  1.255358\n",
              "no_internet_service  0.077805   1221 -0.192163  0.288201\n",
              "yes                  0.307273   2200  0.037305  1.138182"
            ]
          },
          "metadata": {},
          "output_type": "display_data"
        },
        {
          "name": "stdout",
          "output_type": "stream",
          "text": [
            "\n",
            "\n",
            "contract\n"
          ]
        },
        {
          "data": {
            "text/html": [
              "<div>\n",
              "<style scoped>\n",
              "    .dataframe tbody tr th:only-of-type {\n",
              "        vertical-align: middle;\n",
              "    }\n",
              "\n",
              "    .dataframe tbody tr th {\n",
              "        vertical-align: top;\n",
              "    }\n",
              "\n",
              "    .dataframe thead th {\n",
              "        text-align: right;\n",
              "    }\n",
              "</style>\n",
              "<table border=\"1\" class=\"dataframe\">\n",
              "  <thead>\n",
              "    <tr style=\"text-align: right;\">\n",
              "      <th></th>\n",
              "      <th>mean</th>\n",
              "      <th>count</th>\n",
              "      <th>diff</th>\n",
              "      <th>risk</th>\n",
              "    </tr>\n",
              "    <tr>\n",
              "      <th>contract</th>\n",
              "      <th></th>\n",
              "      <th></th>\n",
              "      <th></th>\n",
              "      <th></th>\n",
              "    </tr>\n",
              "  </thead>\n",
              "  <tbody>\n",
              "    <tr>\n",
              "      <th>month-to-month</th>\n",
              "      <td>0.431701</td>\n",
              "      <td>3104</td>\n",
              "      <td>0.161733</td>\n",
              "      <td>1.599082</td>\n",
              "    </tr>\n",
              "    <tr>\n",
              "      <th>one_year</th>\n",
              "      <td>0.120573</td>\n",
              "      <td>1186</td>\n",
              "      <td>-0.149395</td>\n",
              "      <td>0.446621</td>\n",
              "    </tr>\n",
              "    <tr>\n",
              "      <th>two_year</th>\n",
              "      <td>0.028274</td>\n",
              "      <td>1344</td>\n",
              "      <td>-0.241694</td>\n",
              "      <td>0.104730</td>\n",
              "    </tr>\n",
              "  </tbody>\n",
              "</table>\n",
              "</div>"
            ],
            "text/plain": [
              "                    mean  count      diff      risk\n",
              "contract                                           \n",
              "month-to-month  0.431701   3104  0.161733  1.599082\n",
              "one_year        0.120573   1186 -0.149395  0.446621\n",
              "two_year        0.028274   1344 -0.241694  0.104730"
            ]
          },
          "metadata": {},
          "output_type": "display_data"
        },
        {
          "name": "stdout",
          "output_type": "stream",
          "text": [
            "\n",
            "\n",
            "paperlessbilling\n"
          ]
        },
        {
          "data": {
            "text/html": [
              "<div>\n",
              "<style scoped>\n",
              "    .dataframe tbody tr th:only-of-type {\n",
              "        vertical-align: middle;\n",
              "    }\n",
              "\n",
              "    .dataframe tbody tr th {\n",
              "        vertical-align: top;\n",
              "    }\n",
              "\n",
              "    .dataframe thead th {\n",
              "        text-align: right;\n",
              "    }\n",
              "</style>\n",
              "<table border=\"1\" class=\"dataframe\">\n",
              "  <thead>\n",
              "    <tr style=\"text-align: right;\">\n",
              "      <th></th>\n",
              "      <th>mean</th>\n",
              "      <th>count</th>\n",
              "      <th>diff</th>\n",
              "      <th>risk</th>\n",
              "    </tr>\n",
              "    <tr>\n",
              "      <th>paperlessbilling</th>\n",
              "      <th></th>\n",
              "      <th></th>\n",
              "      <th></th>\n",
              "      <th></th>\n",
              "    </tr>\n",
              "  </thead>\n",
              "  <tbody>\n",
              "    <tr>\n",
              "      <th>no</th>\n",
              "      <td>0.172071</td>\n",
              "      <td>2313</td>\n",
              "      <td>-0.097897</td>\n",
              "      <td>0.637375</td>\n",
              "    </tr>\n",
              "    <tr>\n",
              "      <th>yes</th>\n",
              "      <td>0.338151</td>\n",
              "      <td>3321</td>\n",
              "      <td>0.068183</td>\n",
              "      <td>1.252560</td>\n",
              "    </tr>\n",
              "  </tbody>\n",
              "</table>\n",
              "</div>"
            ],
            "text/plain": [
              "                      mean  count      diff      risk\n",
              "paperlessbilling                                     \n",
              "no                0.172071   2313 -0.097897  0.637375\n",
              "yes               0.338151   3321  0.068183  1.252560"
            ]
          },
          "metadata": {},
          "output_type": "display_data"
        },
        {
          "name": "stdout",
          "output_type": "stream",
          "text": [
            "\n",
            "\n",
            "paymentmethod\n"
          ]
        },
        {
          "data": {
            "text/html": [
              "<div>\n",
              "<style scoped>\n",
              "    .dataframe tbody tr th:only-of-type {\n",
              "        vertical-align: middle;\n",
              "    }\n",
              "\n",
              "    .dataframe tbody tr th {\n",
              "        vertical-align: top;\n",
              "    }\n",
              "\n",
              "    .dataframe thead th {\n",
              "        text-align: right;\n",
              "    }\n",
              "</style>\n",
              "<table border=\"1\" class=\"dataframe\">\n",
              "  <thead>\n",
              "    <tr style=\"text-align: right;\">\n",
              "      <th></th>\n",
              "      <th>mean</th>\n",
              "      <th>count</th>\n",
              "      <th>diff</th>\n",
              "      <th>risk</th>\n",
              "    </tr>\n",
              "    <tr>\n",
              "      <th>paymentmethod</th>\n",
              "      <th></th>\n",
              "      <th></th>\n",
              "      <th></th>\n",
              "      <th></th>\n",
              "    </tr>\n",
              "  </thead>\n",
              "  <tbody>\n",
              "    <tr>\n",
              "      <th>bank_transfer_(automatic)</th>\n",
              "      <td>0.168171</td>\n",
              "      <td>1219</td>\n",
              "      <td>-0.101797</td>\n",
              "      <td>0.622928</td>\n",
              "    </tr>\n",
              "    <tr>\n",
              "      <th>credit_card_(automatic)</th>\n",
              "      <td>0.164339</td>\n",
              "      <td>1217</td>\n",
              "      <td>-0.105630</td>\n",
              "      <td>0.608733</td>\n",
              "    </tr>\n",
              "    <tr>\n",
              "      <th>electronic_check</th>\n",
              "      <td>0.455890</td>\n",
              "      <td>1893</td>\n",
              "      <td>0.185922</td>\n",
              "      <td>1.688682</td>\n",
              "    </tr>\n",
              "    <tr>\n",
              "      <th>mailed_check</th>\n",
              "      <td>0.193870</td>\n",
              "      <td>1305</td>\n",
              "      <td>-0.076098</td>\n",
              "      <td>0.718121</td>\n",
              "    </tr>\n",
              "  </tbody>\n",
              "</table>\n",
              "</div>"
            ],
            "text/plain": [
              "                               mean  count      diff      risk\n",
              "paymentmethod                                                 \n",
              "bank_transfer_(automatic)  0.168171   1219 -0.101797  0.622928\n",
              "credit_card_(automatic)    0.164339   1217 -0.105630  0.608733\n",
              "electronic_check           0.455890   1893  0.185922  1.688682\n",
              "mailed_check               0.193870   1305 -0.076098  0.718121"
            ]
          },
          "metadata": {},
          "output_type": "display_data"
        },
        {
          "name": "stdout",
          "output_type": "stream",
          "text": [
            "\n",
            "\n"
          ]
        }
      ],
      "source": [
        "for c in categorical:\n",
        "    print(c)\n",
        "    df_group = df_full_train.groupby(c).churn.agg(['mean', 'count'])\n",
        "    df_group['diff'] = df_group['mean'] - global_churn\n",
        "    df_group['risk'] = df_group['mean'] / global_churn\n",
        "    display(df_group)\n",
        "    print()\n",
        "    print()"
      ],
      "id": "1ZrLOopXNGDj"
    },
    {
      "cell_type": "markdown",
      "metadata": {
        "id": "y3odMm9jNGDk"
      },
      "source": [
        "### 5.3 Feature importance: Mutual information\n",
        "\n",
        "Mutual information - concept from information theory, it tells us how much \n",
        "we can learn about one variable if we know the value of another\n",
        "\n",
        "* https://en.wikipedia.org/wiki/Mutual_information"
      ],
      "id": "y3odMm9jNGDk"
    },
    {
      "cell_type": "code",
      "execution_count": null,
      "metadata": {
        "id": "bEs1jSiBNGDk"
      },
      "outputs": [],
      "source": [
        "from sklearn.metrics import mutual_info_score"
      ],
      "id": "bEs1jSiBNGDk"
    },
    {
      "cell_type": "code",
      "execution_count": null,
      "metadata": {
        "id": "z47WiWjvNGDk",
        "outputId": "1c0412bb-35e8-4ea5-c1c1-2586696d8f1d"
      },
      "outputs": [
        {
          "data": {
            "text/plain": [
              "0.0001174846211139946"
            ]
          },
          "execution_count": 41,
          "metadata": {},
          "output_type": "execute_result"
        }
      ],
      "source": [
        "mutual_info_score(df_full_train.gender, df_full_train.churn)"
      ],
      "id": "z47WiWjvNGDk"
    },
    {
      "cell_type": "code",
      "execution_count": null,
      "metadata": {
        "id": "7dcYIZy5NGDk",
        "outputId": "9cdf1857-cb7a-49f4-ccd6-b4d5cbdebf5d"
      },
      "outputs": [
        {
          "data": {
            "text/plain": [
              "0.0983203874041556"
            ]
          },
          "execution_count": 42,
          "metadata": {},
          "output_type": "execute_result"
        }
      ],
      "source": [
        "mutual_info_score(df_full_train.contract, df_full_train.churn)"
      ],
      "id": "7dcYIZy5NGDk"
    },
    {
      "cell_type": "code",
      "execution_count": null,
      "metadata": {
        "id": "7Cq-HgQBNGDk",
        "outputId": "95aafb29-bd02-4668-9363-f9bd59f90f32"
      },
      "outputs": [
        {
          "data": {
            "text/plain": [
              "0.009967689095399745"
            ]
          },
          "execution_count": 43,
          "metadata": {},
          "output_type": "execute_result"
        }
      ],
      "source": [
        "mutual_info_score(df_full_train.partner, df_full_train.churn)"
      ],
      "id": "7Cq-HgQBNGDk"
    },
    {
      "cell_type": "code",
      "execution_count": null,
      "metadata": {
        "id": "SmASjz-rNGDk"
      },
      "outputs": [],
      "source": [
        "def mutual_info_churn_score(series):\n",
        "    return mutual_info_score(series, df_full_train.churn)"
      ],
      "id": "SmASjz-rNGDk"
    },
    {
      "cell_type": "code",
      "execution_count": null,
      "metadata": {
        "id": "Ksbh8rLeNGDk",
        "outputId": "4c53e0f5-1ea2-4ed9-9c42-b7a9d81db9eb"
      },
      "outputs": [
        {
          "data": {
            "text/plain": [
              "contract            0.098320\n",
              "onlinesecurity      0.063085\n",
              "techsupport         0.061032\n",
              "internetservice     0.055868\n",
              "onlinebackup        0.046923\n",
              "deviceprotection    0.043453\n",
              "paymentmethod       0.043210\n",
              "streamingtv         0.031853\n",
              "streamingmovies     0.031581\n",
              "paperlessbilling    0.017589\n",
              "dependents          0.012346\n",
              "partner             0.009968\n",
              "seniorcitizen       0.009410\n",
              "multiplelines       0.000857\n",
              "phoneservice        0.000229\n",
              "gender              0.000117\n",
              "dtype: float64"
            ]
          },
          "execution_count": 45,
          "metadata": {},
          "output_type": "execute_result"
        }
      ],
      "source": [
        "mi = df_full_train[categorical].apply(mutual_info_churn_score)\n",
        "mi.sort_values(ascending=False)"
      ],
      "id": "Ksbh8rLeNGDk"
    },
    {
      "cell_type": "markdown",
      "metadata": {
        "id": "YGvPHhXfNGDk"
      },
      "source": [
        "### 5.4 Feature importance: Correlation\n",
        "\n",
        "How about numerical columns?\n",
        "\n",
        "* Correlation coefficient - https://en.wikipedia.org/wiki/Pearson_correlation_coefficient"
      ],
      "id": "YGvPHhXfNGDk"
    },
    {
      "cell_type": "code",
      "execution_count": null,
      "metadata": {
        "id": "1lC82J8jNGDk",
        "outputId": "1650ce49-8296-4c7b-9f21-8be8313dc37c"
      },
      "outputs": [
        {
          "data": {
            "text/plain": [
              "72"
            ]
          },
          "execution_count": 46,
          "metadata": {},
          "output_type": "execute_result"
        }
      ],
      "source": [
        "df_full_train.tenure.max()"
      ],
      "id": "1lC82J8jNGDk"
    },
    {
      "cell_type": "code",
      "execution_count": null,
      "metadata": {
        "id": "oygIHC6XNGDk",
        "outputId": "d9143c6c-3f0d-4889-d680-7e188498e07a"
      },
      "outputs": [
        {
          "data": {
            "text/plain": [
              "tenure            0.351885\n",
              "monthlycharges    0.196805\n",
              "totalcharges      0.196353\n",
              "dtype: float64"
            ]
          },
          "execution_count": 47,
          "metadata": {},
          "output_type": "execute_result"
        }
      ],
      "source": [
        "df_full_train[numerical].corrwith(df_full_train.churn).abs()"
      ],
      "id": "oygIHC6XNGDk"
    },
    {
      "cell_type": "code",
      "execution_count": null,
      "metadata": {
        "id": "0yGUkUiMNGDk",
        "outputId": "0ca78d73-07d4-4468-d4e8-9e0e64692e80"
      },
      "outputs": [
        {
          "data": {
            "text/plain": [
              "0.5953420669577875"
            ]
          },
          "execution_count": 48,
          "metadata": {},
          "output_type": "execute_result"
        }
      ],
      "source": [
        "df_full_train[df_full_train.tenure <= 2].churn.mean()"
      ],
      "id": "0yGUkUiMNGDk"
    },
    {
      "cell_type": "code",
      "execution_count": null,
      "metadata": {
        "id": "aoMbi9mTNGDl",
        "outputId": "08e51e0c-ee6b-4939-b9b0-dc09a3f19f3a"
      },
      "outputs": [
        {
          "data": {
            "text/plain": [
              "0.3994413407821229"
            ]
          },
          "execution_count": 49,
          "metadata": {},
          "output_type": "execute_result"
        }
      ],
      "source": [
        "df_full_train[(df_full_train.tenure > 2) & (df_full_train.tenure <= 12)].churn.mean()"
      ],
      "id": "aoMbi9mTNGDl"
    },
    {
      "cell_type": "code",
      "execution_count": null,
      "metadata": {
        "id": "de1nT2X2NGDl",
        "outputId": "bcb72e55-3822-415b-8307-4155d7245bd9"
      },
      "outputs": [
        {
          "data": {
            "text/plain": [
              "0.17634908339788277"
            ]
          },
          "execution_count": 50,
          "metadata": {},
          "output_type": "execute_result"
        }
      ],
      "source": [
        "df_full_train[df_full_train.tenure > 12].churn.mean()"
      ],
      "id": "de1nT2X2NGDl"
    },
    {
      "cell_type": "code",
      "execution_count": null,
      "metadata": {
        "id": "MHkICVwDNGDl",
        "outputId": "db28dc52-d7f5-411a-d13d-9272c070de0e"
      },
      "outputs": [
        {
          "data": {
            "text/plain": [
              "0.08795411089866156"
            ]
          },
          "execution_count": 51,
          "metadata": {},
          "output_type": "execute_result"
        }
      ],
      "source": [
        "df_full_train[df_full_train.monthlycharges <= 20].churn.mean()"
      ],
      "id": "MHkICVwDNGDl"
    },
    {
      "cell_type": "code",
      "execution_count": null,
      "metadata": {
        "id": "TMG3gLkNNGDl",
        "outputId": "d75431c0-0b04-4db0-b5e0-a4b9f8b71035"
      },
      "outputs": [
        {
          "data": {
            "text/plain": [
              "0.18340943683409436"
            ]
          },
          "execution_count": 52,
          "metadata": {},
          "output_type": "execute_result"
        }
      ],
      "source": [
        "df_full_train[(df_full_train.monthlycharges > 20) & (df_full_train.monthlycharges <= 50)].churn.mean()"
      ],
      "id": "TMG3gLkNNGDl"
    },
    {
      "cell_type": "code",
      "execution_count": null,
      "metadata": {
        "id": "9zU00PnINGDl",
        "outputId": "11d4afba-75ed-4f93-8aeb-241a9f114b07"
      },
      "outputs": [
        {
          "data": {
            "text/plain": [
              "0.32499341585462205"
            ]
          },
          "execution_count": 53,
          "metadata": {},
          "output_type": "execute_result"
        }
      ],
      "source": [
        "df_full_train[df_full_train.monthlycharges > 50].churn.mean()"
      ],
      "id": "9zU00PnINGDl"
    },
    {
      "cell_type": "markdown",
      "metadata": {
        "id": "HnYqeqJgNGDl"
      },
      "source": [
        "#6. One-hot encoding\n",
        "\n",
        "* Use Scikit-Learn to encode categorical features"
      ],
      "id": "HnYqeqJgNGDl"
    },
    {
      "cell_type": "code",
      "execution_count": null,
      "metadata": {
        "id": "vjVpC0e5NGDl"
      },
      "outputs": [],
      "source": [
        "from sklearn.feature_extraction import DictVectorizer"
      ],
      "id": "vjVpC0e5NGDl"
    },
    {
      "cell_type": "code",
      "execution_count": null,
      "metadata": {
        "id": "m9K37nnFNGDl"
      },
      "outputs": [],
      "source": [
        "dv = DictVectorizer(sparse=False)\n",
        "\n",
        "train_dict = df_train[categorical + numerical].to_dict(orient='records')\n",
        "X_train = dv.fit_transform(train_dict)\n",
        "\n",
        "val_dict = df_val[categorical + numerical].to_dict(orient='records')\n",
        "X_val = dv.transform(val_dict)"
      ],
      "id": "m9K37nnFNGDl"
    },
    {
      "cell_type": "markdown",
      "metadata": {
        "id": "WsadWrroNGDl"
      },
      "source": [
        "#7. Logistic regression model\n",
        "\n",
        "* Binary classification\n",
        "* Linear vs logistic regression"
      ],
      "id": "WsadWrroNGDl"
    },
    {
      "cell_type": "code",
      "execution_count": null,
      "metadata": {
        "id": "SZ5ulMpuNGDl"
      },
      "outputs": [],
      "source": [
        "def sigmoid(z):\n",
        "    return 1 / (1 + np.exp(-z))"
      ],
      "id": "SZ5ulMpuNGDl"
    },
    {
      "cell_type": "code",
      "execution_count": null,
      "metadata": {
        "id": "fAfekOaGNGDl"
      },
      "outputs": [],
      "source": [
        "z = np.linspace(-7, 7, 51)"
      ],
      "id": "fAfekOaGNGDl"
    },
    {
      "cell_type": "code",
      "execution_count": null,
      "metadata": {
        "id": "p7WLPJnCNGDl",
        "outputId": "5ee8e4ad-c4a2-4bf1-f32b-c5dcc99d435e"
      },
      "outputs": [
        {
          "data": {
            "text/plain": [
              "1.0"
            ]
          },
          "execution_count": 58,
          "metadata": {},
          "output_type": "execute_result"
        }
      ],
      "source": [
        "sigmoid(10000)"
      ],
      "id": "p7WLPJnCNGDl"
    },
    {
      "cell_type": "code",
      "execution_count": null,
      "metadata": {
        "id": "amZOc9WCNGDl",
        "outputId": "863f942d-0826-4503-aaa1-1d022af1eb81"
      },
      "outputs": [
        {
          "data": {
            "text/plain": [
              "[<matplotlib.lines.Line2D at 0x7f342d0bf080>]"
            ]
          },
          "execution_count": 59,
          "metadata": {},
          "output_type": "execute_result"
        },
        {
          "data": {
            "image/png": "[encoded data removed]",
            "text/plain": [
              "<Figure size 432x288 with 1 Axes>"
            ]
          },
          "metadata": {
            "needs_background": "light"
          },
          "output_type": "display_data"
        }
      ],
      "source": [
        "plt.plot(z, sigmoid(z))"
      ],
      "id": "amZOc9WCNGDl"
    },
    {
      "cell_type": "code",
      "execution_count": null,
      "metadata": {
        "id": "h1wCEC40NGDm"
      },
      "outputs": [],
      "source": [
        "def linear_regression(xi):\n",
        "    result = w0\n",
        "    \n",
        "    for j in range(len(w)):\n",
        "        result = result + xi[j] * w[j]\n",
        "        \n",
        "    return result"
      ],
      "id": "h1wCEC40NGDm"
    },
    {
      "cell_type": "code",
      "execution_count": null,
      "metadata": {
        "id": "0zxZiPPENGDm"
      },
      "outputs": [],
      "source": [
        "def logistic_regression(xi):\n",
        "    score = w0\n",
        "    \n",
        "    for j in range(len(w)):\n",
        "        score = score + xi[j] * w[j]\n",
        "        \n",
        "    result = sigmoid(score)\n",
        "    return result"
      ],
      "id": "0zxZiPPENGDm"
    },
    {
      "cell_type": "markdown",
      "metadata": {
        "id": "bWEi_iP1NGDm"
      },
      "source": [
        "## 8. Training logistic regression with Scikit-Learn\n",
        "\n",
        "* Train a model with Scikit-Learn\n",
        "* Apply it to the validation dataset\n",
        "* Calculate the accuracy"
      ],
      "id": "bWEi_iP1NGDm"
    },
    {
      "cell_type": "code",
      "execution_count": null,
      "metadata": {
        "id": "4CUser5ONGDm"
      },
      "outputs": [],
      "source": [
        "from sklearn.linear_model import LogisticRegression"
      ],
      "id": "4CUser5ONGDm"
    },
    {
      "cell_type": "code",
      "execution_count": null,
      "metadata": {
        "id": "5spZMp5ONGDm",
        "outputId": "c050fde2-1aed-4749-c020-dd2e4376ee61"
      },
      "outputs": [
        {
          "data": {
            "text/plain": [
              "LogisticRegression(C=1.0, class_weight=None, dual=False, fit_intercept=True,\n",
              "                   intercept_scaling=1, l1_ratio=None, max_iter=100,\n",
              "                   multi_class='warn', n_jobs=None, penalty='l2',\n",
              "                   random_state=None, solver='lbfgs', tol=0.0001, verbose=0,\n",
              "                   warm_start=False)"
            ]
          },
          "execution_count": 63,
          "metadata": {},
          "output_type": "execute_result"
        }
      ],
      "source": [
        "model = LogisticRegression(solver='lbfgs')\n",
        "# solver='lbfgs' is the default solver in newer version of sklearn\n",
        "# for older versions, you need to specify it explicitly\n",
        "model.fit(X_train, y_train)"
      ],
      "id": "5spZMp5ONGDm"
    },
    {
      "cell_type": "code",
      "execution_count": null,
      "metadata": {
        "id": "gtxTQW4fNGDm",
        "outputId": "0757e070-2cb7-44a1-d669-ad1fc23c2378"
      },
      "outputs": [
        {
          "data": {
            "text/plain": [
              "-0.10903395348323511"
            ]
          },
          "execution_count": 64,
          "metadata": {},
          "output_type": "execute_result"
        }
      ],
      "source": [
        "# bias\n",
        "model.intercept_[0]"
      ],
      "id": "gtxTQW4fNGDm"
    },
    {
      "cell_type": "code",
      "execution_count": null,
      "metadata": {
        "id": "W7LJGzg-NGDm",
        "outputId": "29d4efca-d524-4b32-e189-10fb8240258a"
      },
      "outputs": [
        {
          "data": {
            "text/plain": [
              "array([ 0.475, -0.175, -0.408, -0.03 , -0.078,  0.063, -0.089, -0.081,\n",
              "       -0.034, -0.073, -0.335,  0.316, -0.089,  0.004, -0.258,  0.141,\n",
              "        0.009,  0.063, -0.089, -0.081,  0.266, -0.089, -0.284, -0.231,\n",
              "        0.124, -0.166,  0.058, -0.087, -0.032,  0.07 , -0.059,  0.141,\n",
              "       -0.249,  0.215, -0.12 , -0.089,  0.102, -0.071, -0.089,  0.052,\n",
              "        0.213, -0.089, -0.232, -0.07 ,  0.   ])"
            ]
          },
          "execution_count": 65,
          "metadata": {},
          "output_type": "execute_result"
        }
      ],
      "source": [
        "# weights\n",
        "model.coef_[0].round(3)"
      ],
      "id": "W7LJGzg-NGDm"
    },
    {
      "cell_type": "markdown",
      "source": [
        "### Test prediction and Evaluation metric"
      ],
      "metadata": {
        "id": "oe3LTCa4mvFq"
      },
      "id": "oe3LTCa4mvFq"
    },
    {
      "cell_type": "code",
      "source": [
        "model.predict(X_train) # hard prediction "
      ],
      "metadata": {
        "id": "smdgyvJvmxEG"
      },
      "id": "smdgyvJvmxEG",
      "execution_count": null,
      "outputs": []
    },
    {
      "cell_type": "code",
      "source": [
        "model.predict_proba(X_val) # [prob of 0, pob of1]"
      ],
      "metadata": {
        "id": "R02h0X9pm6Jb"
      },
      "id": "R02h0X9pm6Jb",
      "execution_count": null,
      "outputs": []
    },
    {
      "cell_type": "code",
      "execution_count": null,
      "metadata": {
        "id": "EJBdxxyfNGDm"
      },
      "outputs": [],
      "source": [
        "y_pred = model.predict_proba(X_val)[:, 1]"
      ],
      "id": "EJBdxxyfNGDm"
    },
    {
      "cell_type": "code",
      "execution_count": null,
      "metadata": {
        "id": "-cBn8Zp0NGDm"
      },
      "outputs": [],
      "source": [
        "churn_decision = (y_pred >= 0.5)"
      ],
      "id": "-cBn8Zp0NGDm"
    },
    {
      "cell_type": "code",
      "execution_count": null,
      "metadata": {
        "id": "xBedIte2NGDm"
      },
      "outputs": [],
      "source": [
        "# accuracy \n",
        "(y_val == churn_decision).mean()"
      ],
      "id": "xBedIte2NGDm"
    },
    {
      "cell_type": "code",
      "execution_count": null,
      "metadata": {
        "id": "HI77YlpQNGDm"
      },
      "outputs": [],
      "source": [
        "# visualize\n",
        "df_pred = pd.DataFrame()\n",
        "df_pred['probability'] = y_pred\n",
        "df_pred['prediction'] = churn_decision.astype(int)\n",
        "df_pred['actual'] = y_val"
      ],
      "id": "HI77YlpQNGDm"
    },
    {
      "cell_type": "code",
      "execution_count": null,
      "metadata": {
        "id": "xZdMTlMdNGDm"
      },
      "outputs": [],
      "source": [
        "df_pred['correct'] = df_pred.prediction == df_pred.actual"
      ],
      "id": "xZdMTlMdNGDm"
    },
    {
      "cell_type": "code",
      "source": [
        "df_pred"
      ],
      "metadata": {
        "id": "VkqKRFwUn6L7"
      },
      "id": "VkqKRFwUn6L7",
      "execution_count": null,
      "outputs": []
    },
    {
      "cell_type": "code",
      "execution_count": null,
      "metadata": {
        "id": "O4PwUMYcNGDn",
        "outputId": "49c09e39-918f-4d09-b118-2397f128699f"
      },
      "outputs": [
        {
          "data": {
            "text/plain": [
              "0.8034066713981547"
            ]
          },
          "execution_count": 71,
          "metadata": {},
          "output_type": "execute_result"
        }
      ],
      "source": [
        "df_pred.correct.mean()"
      ],
      "id": "O4PwUMYcNGDn"
    },
    {
      "cell_type": "code",
      "execution_count": null,
      "metadata": {
        "id": "54zND3ziNGDn",
        "outputId": "8d806e0f-9261-4e05-e9d7-c8b88a63764a"
      },
      "outputs": [
        {
          "data": {
            "text/plain": [
              "array([0, 0, 0, ..., 0, 1, 1])"
            ]
          },
          "execution_count": 72,
          "metadata": {},
          "output_type": "execute_result"
        }
      ],
      "source": [
        "churn_decision.astype(int)"
      ],
      "id": "54zND3ziNGDn"
    },
    {
      "cell_type": "markdown",
      "metadata": {
        "id": "JDsLPGdRNGDn"
      },
      "source": [
        "#10. Model interpretation\n",
        "\n",
        "* Look at the coefficients\n",
        "* Train a smaller model with fewer features"
      ],
      "id": "JDsLPGdRNGDn"
    },
    {
      "cell_type": "code",
      "execution_count": null,
      "metadata": {
        "scrolled": true,
        "id": "t_3hpl2BNGDn",
        "outputId": "a68b8981-f5e8-4578-e4b0-48e5ea590be8"
      },
      "outputs": [
        {
          "data": {
            "text/plain": [
              "{'contract=month-to-month': 0.475,\n",
              " 'contract=one_year': -0.175,\n",
              " 'contract=two_year': -0.408,\n",
              " 'dependents=no': -0.03,\n",
              " 'dependents=yes': -0.078,\n",
              " 'deviceprotection=no': 0.063,\n",
              " 'deviceprotection=no_internet_service': -0.089,\n",
              " 'deviceprotection=yes': -0.081,\n",
              " 'gender=female': -0.034,\n",
              " 'gender=male': -0.073,\n",
              " 'internetservice=dsl': -0.335,\n",
              " 'internetservice=fiber_optic': 0.316,\n",
              " 'internetservice=no': -0.089,\n",
              " 'monthlycharges': 0.004,\n",
              " 'multiplelines=no': -0.258,\n",
              " 'multiplelines=no_phone_service': 0.141,\n",
              " 'multiplelines=yes': 0.009,\n",
              " 'onlinebackup=no': 0.063,\n",
              " 'onlinebackup=no_internet_service': -0.089,\n",
              " 'onlinebackup=yes': -0.081,\n",
              " 'onlinesecurity=no': 0.266,\n",
              " 'onlinesecurity=no_internet_service': -0.089,\n",
              " 'onlinesecurity=yes': -0.284,\n",
              " 'paperlessbilling=no': -0.231,\n",
              " 'paperlessbilling=yes': 0.124,\n",
              " 'partner=no': -0.166,\n",
              " 'partner=yes': 0.058,\n",
              " 'paymentmethod=bank_transfer_(automatic)': -0.087,\n",
              " 'paymentmethod=credit_card_(automatic)': -0.032,\n",
              " 'paymentmethod=electronic_check': 0.07,\n",
              " 'paymentmethod=mailed_check': -0.059,\n",
              " 'phoneservice=no': 0.141,\n",
              " 'phoneservice=yes': -0.249,\n",
              " 'seniorcitizen': 0.215,\n",
              " 'streamingmovies=no': -0.12,\n",
              " 'streamingmovies=no_internet_service': -0.089,\n",
              " 'streamingmovies=yes': 0.102,\n",
              " 'streamingtv=no': -0.071,\n",
              " 'streamingtv=no_internet_service': -0.089,\n",
              " 'streamingtv=yes': 0.052,\n",
              " 'techsupport=no': 0.213,\n",
              " 'techsupport=no_internet_service': -0.089,\n",
              " 'techsupport=yes': -0.232,\n",
              " 'tenure': -0.07,\n",
              " 'totalcharges': 0.0}"
            ]
          },
          "execution_count": 75,
          "metadata": {},
          "output_type": "execute_result"
        }
      ],
      "source": [
        "dict(zip(dv.get_feature_names(), model.coef_[0].round(3)))"
      ],
      "id": "t_3hpl2BNGDn"
    },
    {
      "cell_type": "code",
      "execution_count": null,
      "metadata": {
        "id": "11HNRpRdNGDo"
      },
      "outputs": [],
      "source": [
        "small = ['contract', 'tenure', 'monthlycharges']"
      ],
      "id": "11HNRpRdNGDo"
    },
    {
      "cell_type": "code",
      "execution_count": null,
      "metadata": {
        "id": "iVQkBugBNGDo",
        "outputId": "4050775e-c624-4d45-f984-84b998d51055"
      },
      "outputs": [
        {
          "data": {
            "text/plain": [
              "[{'contract': 'two_year', 'tenure': 72, 'monthlycharges': 115.5},\n",
              " {'contract': 'month-to-month', 'tenure': 10, 'monthlycharges': 95.25},\n",
              " {'contract': 'month-to-month', 'tenure': 5, 'monthlycharges': 75.55},\n",
              " {'contract': 'month-to-month', 'tenure': 5, 'monthlycharges': 80.85},\n",
              " {'contract': 'two_year', 'tenure': 18, 'monthlycharges': 20.1},\n",
              " {'contract': 'month-to-month', 'tenure': 4, 'monthlycharges': 30.5},\n",
              " {'contract': 'month-to-month', 'tenure': 1, 'monthlycharges': 75.1},\n",
              " {'contract': 'month-to-month', 'tenure': 1, 'monthlycharges': 70.3},\n",
              " {'contract': 'two_year', 'tenure': 72, 'monthlycharges': 19.75},\n",
              " {'contract': 'month-to-month', 'tenure': 6, 'monthlycharges': 109.9}]"
            ]
          },
          "execution_count": 77,
          "metadata": {},
          "output_type": "execute_result"
        }
      ],
      "source": [
        "df_train[small].iloc[:10].to_dict(orient='records')"
      ],
      "id": "iVQkBugBNGDo"
    },
    {
      "cell_type": "code",
      "execution_count": null,
      "metadata": {
        "id": "0Ly4hiaENGDo"
      },
      "outputs": [],
      "source": [
        "dicts_train_small = df_train[small].to_dict(orient='records')\n",
        "dicts_val_small = df_val[small].to_dict(orient='records')"
      ],
      "id": "0Ly4hiaENGDo"
    },
    {
      "cell_type": "code",
      "execution_count": null,
      "metadata": {
        "id": "l2MNO3MQNGDo",
        "outputId": "d1769e20-aeb0-47fd-b96b-cf226d9b01f4"
      },
      "outputs": [
        {
          "data": {
            "text/plain": [
              "DictVectorizer(dtype=<class 'numpy.float64'>, separator='=', sort=True,\n",
              "               sparse=False)"
            ]
          },
          "execution_count": 79,
          "metadata": {},
          "output_type": "execute_result"
        }
      ],
      "source": [
        "dv_small = DictVectorizer(sparse=False)\n",
        "dv_small.fit(dicts_train_small)"
      ],
      "id": "l2MNO3MQNGDo"
    },
    {
      "cell_type": "code",
      "execution_count": null,
      "metadata": {
        "id": "C6MKdlRjNGDo",
        "outputId": "43850947-7e9f-45d2-b4fa-73920c052645"
      },
      "outputs": [
        {
          "data": {
            "text/plain": [
              "['contract=month-to-month',\n",
              " 'contract=one_year',\n",
              " 'contract=two_year',\n",
              " 'monthlycharges',\n",
              " 'tenure']"
            ]
          },
          "execution_count": 80,
          "metadata": {},
          "output_type": "execute_result"
        }
      ],
      "source": [
        "dv_small.get_feature_names()"
      ],
      "id": "C6MKdlRjNGDo"
    },
    {
      "cell_type": "code",
      "execution_count": null,
      "metadata": {
        "id": "YyjYSgP_NGDo"
      },
      "outputs": [],
      "source": [
        "X_train_small = dv_small.transform(dicts_train_small)"
      ],
      "id": "YyjYSgP_NGDo"
    },
    {
      "cell_type": "code",
      "execution_count": null,
      "metadata": {
        "id": "HzEnKkBcNGDo",
        "outputId": "a2bac92a-f082-416b-84f9-3fee02477e98"
      },
      "outputs": [
        {
          "data": {
            "text/plain": [
              "LogisticRegression(C=1.0, class_weight=None, dual=False, fit_intercept=True,\n",
              "                   intercept_scaling=1, l1_ratio=None, max_iter=100,\n",
              "                   multi_class='warn', n_jobs=None, penalty='l2',\n",
              "                   random_state=None, solver='lbfgs', tol=0.0001, verbose=0,\n",
              "                   warm_start=False)"
            ]
          },
          "execution_count": 82,
          "metadata": {},
          "output_type": "execute_result"
        }
      ],
      "source": [
        "model_small = LogisticRegression(solver='lbfgs')\n",
        "model_small.fit(X_train_small, y_train)"
      ],
      "id": "HzEnKkBcNGDo"
    },
    {
      "cell_type": "code",
      "execution_count": null,
      "metadata": {
        "id": "kIbvlzYnNGDo",
        "outputId": "c838d2a8-7974-4d44-e1cf-d2c660361256"
      },
      "outputs": [
        {
          "data": {
            "text/plain": [
              "-2.476775657751665"
            ]
          },
          "execution_count": 83,
          "metadata": {},
          "output_type": "execute_result"
        }
      ],
      "source": [
        "w0 = model_small.intercept_[0]\n",
        "w0"
      ],
      "id": "kIbvlzYnNGDo"
    },
    {
      "cell_type": "code",
      "execution_count": null,
      "metadata": {
        "id": "DUvVWKrMNGDp",
        "outputId": "c75426b0-cbda-4993-eef9-2ba4c05f0966"
      },
      "outputs": [
        {
          "data": {
            "text/plain": [
              "array([ 0.97 , -0.025, -0.949,  0.027, -0.036])"
            ]
          },
          "execution_count": 84,
          "metadata": {},
          "output_type": "execute_result"
        }
      ],
      "source": [
        "w = model_small.coef_[0]\n",
        "w.round(3)"
      ],
      "id": "DUvVWKrMNGDp"
    },
    {
      "cell_type": "code",
      "execution_count": null,
      "metadata": {
        "id": "x9CTLUG4NGDp",
        "outputId": "a9f07df4-17af-4e18-a776-a0ab510ac4af"
      },
      "outputs": [
        {
          "data": {
            "text/plain": [
              "{'contract=month-to-month': 0.97,\n",
              " 'contract=one_year': -0.025,\n",
              " 'contract=two_year': -0.949,\n",
              " 'monthlycharges': 0.027,\n",
              " 'tenure': -0.036}"
            ]
          },
          "execution_count": 85,
          "metadata": {},
          "output_type": "execute_result"
        }
      ],
      "source": [
        "dict(zip(dv_small.get_feature_names(), w.round(3)))"
      ],
      "id": "x9CTLUG4NGDp"
    },
    {
      "cell_type": "code",
      "execution_count": null,
      "metadata": {
        "id": "rDfSOT8QNGDp",
        "outputId": "c18ec95f-13d2-4b24-acaa-d4a12fb7081c"
      },
      "outputs": [
        {
          "data": {
            "text/plain": [
              "-3.473"
            ]
          },
          "execution_count": 86,
          "metadata": {},
          "output_type": "execute_result"
        }
      ],
      "source": [
        "-2.47 + (-0.949) + 30 * 0.027 + 24 * (-0.036)"
      ],
      "id": "rDfSOT8QNGDp"
    },
    {
      "cell_type": "code",
      "execution_count": null,
      "metadata": {
        "id": "npCOZmbcNGDp",
        "outputId": "44e13cab-e47e-4ef8-f7c5-0563d2033a09"
      },
      "outputs": [
        {
          "data": {
            "text/plain": [
              "0.030090303318277657"
            ]
          },
          "execution_count": 87,
          "metadata": {},
          "output_type": "execute_result"
        }
      ],
      "source": [
        "sigmoid(_)"
      ],
      "id": "npCOZmbcNGDp"
    },
    {
      "cell_type": "markdown",
      "metadata": {
        "id": "HyOwKHwXNGDp"
      },
      "source": [
        "## 3.12 Using the model"
      ],
      "id": "HyOwKHwXNGDp"
    },
    {
      "cell_type": "code",
      "execution_count": null,
      "metadata": {
        "id": "rmKESI9vNGDq"
      },
      "outputs": [],
      "source": [
        "dicts_full_train = df_full_train[categorical + numerical].to_dict(orient='records')"
      ],
      "id": "rmKESI9vNGDq"
    },
    {
      "cell_type": "code",
      "execution_count": null,
      "metadata": {
        "id": "R8qk0zogNGDq"
      },
      "outputs": [],
      "source": [
        "dv = DictVectorizer(sparse=False)\n",
        "X_full_train = dv.fit_transform(dicts_full_train)"
      ],
      "id": "R8qk0zogNGDq"
    },
    {
      "cell_type": "code",
      "execution_count": null,
      "metadata": {
        "id": "siJWacH2NGDq"
      },
      "outputs": [],
      "source": [
        "y_full_train = df_full_train.churn.values"
      ],
      "id": "siJWacH2NGDq"
    },
    {
      "cell_type": "code",
      "execution_count": null,
      "metadata": {
        "id": "OGdZpMscNGDq",
        "outputId": "1cb5d352-390d-4803-bc65-4fdd2b4fc124"
      },
      "outputs": [
        {
          "data": {
            "text/plain": [
              "LogisticRegression(C=1.0, class_weight=None, dual=False, fit_intercept=True,\n",
              "                   intercept_scaling=1, l1_ratio=None, max_iter=100,\n",
              "                   multi_class='warn', n_jobs=None, penalty='l2',\n",
              "                   random_state=None, solver='lbfgs', tol=0.0001, verbose=0,\n",
              "                   warm_start=False)"
            ]
          },
          "execution_count": 91,
          "metadata": {},
          "output_type": "execute_result"
        }
      ],
      "source": [
        "model = LogisticRegression(solver='lbfgs')\n",
        "model.fit(X_full_train, y_full_train)"
      ],
      "id": "OGdZpMscNGDq"
    },
    {
      "cell_type": "code",
      "execution_count": null,
      "metadata": {
        "id": "hYM3o3BRNGDq"
      },
      "outputs": [],
      "source": [
        "dicts_test = df_test[categorical + numerical].to_dict(orient='records')"
      ],
      "id": "hYM3o3BRNGDq"
    },
    {
      "cell_type": "code",
      "execution_count": null,
      "metadata": {
        "id": "nPVb5Z77NGDq"
      },
      "outputs": [],
      "source": [
        "X_test = dv.transform(dicts_test)"
      ],
      "id": "nPVb5Z77NGDq"
    },
    {
      "cell_type": "code",
      "execution_count": null,
      "metadata": {
        "id": "gZgqN_c3NGDq"
      },
      "outputs": [],
      "source": [
        "y_pred = model.predict_proba(X_test)[:, 1]"
      ],
      "id": "gZgqN_c3NGDq"
    },
    {
      "cell_type": "code",
      "execution_count": null,
      "metadata": {
        "id": "GaL-jep7NGDq"
      },
      "outputs": [],
      "source": [
        "churn_decision = (y_pred >= 0.5)"
      ],
      "id": "GaL-jep7NGDq"
    },
    {
      "cell_type": "code",
      "execution_count": null,
      "metadata": {
        "id": "OddN5aBVNGDq",
        "outputId": "43a4d6fc-69b1-4ce4-f056-912ce20a7710"
      },
      "outputs": [
        {
          "data": {
            "text/plain": [
              "0.815471965933286"
            ]
          },
          "execution_count": 96,
          "metadata": {},
          "output_type": "execute_result"
        }
      ],
      "source": [
        "(churn_decision == y_test).mean()"
      ],
      "id": "OddN5aBVNGDq"
    },
    {
      "cell_type": "code",
      "execution_count": null,
      "metadata": {
        "id": "fHnt4Jk5NGDq",
        "outputId": "b17d3234-c457-4c93-be2b-4e3b9286e374"
      },
      "outputs": [
        {
          "data": {
            "text/plain": [
              "array([0, 0, 0, ..., 0, 0, 1])"
            ]
          },
          "execution_count": 97,
          "metadata": {},
          "output_type": "execute_result"
        }
      ],
      "source": [
        "y_test"
      ],
      "id": "fHnt4Jk5NGDq"
    },
    {
      "cell_type": "code",
      "execution_count": null,
      "metadata": {
        "id": "IqW9y3WbNGDq",
        "outputId": "517c78ae-30fc-44d6-a959-57b6b590a8c1"
      },
      "outputs": [
        {
          "data": {
            "text/plain": [
              "{'gender': 'female',\n",
              " 'seniorcitizen': 0,\n",
              " 'partner': 'yes',\n",
              " 'dependents': 'yes',\n",
              " 'phoneservice': 'yes',\n",
              " 'multiplelines': 'yes',\n",
              " 'internetservice': 'fiber_optic',\n",
              " 'onlinesecurity': 'yes',\n",
              " 'onlinebackup': 'no',\n",
              " 'deviceprotection': 'yes',\n",
              " 'techsupport': 'no',\n",
              " 'streamingtv': 'yes',\n",
              " 'streamingmovies': 'yes',\n",
              " 'contract': 'month-to-month',\n",
              " 'paperlessbilling': 'yes',\n",
              " 'paymentmethod': 'electronic_check',\n",
              " 'tenure': 17,\n",
              " 'monthlycharges': 104.2,\n",
              " 'totalcharges': 1743.5}"
            ]
          },
          "execution_count": 98,
          "metadata": {},
          "output_type": "execute_result"
        }
      ],
      "source": [
        "customer = dicts_test[-1]\n",
        "customer"
      ],
      "id": "IqW9y3WbNGDq"
    },
    {
      "cell_type": "code",
      "execution_count": null,
      "metadata": {
        "id": "hfQqCzTINGDr"
      },
      "outputs": [],
      "source": [
        "X_small = dv.transform([customer])"
      ],
      "id": "hfQqCzTINGDr"
    },
    {
      "cell_type": "code",
      "execution_count": null,
      "metadata": {
        "id": "rHESFV-SNGDr",
        "outputId": "6e51d57b-ded4-4036-cf59-c8ace99dba3b"
      },
      "outputs": [
        {
          "data": {
            "text/plain": [
              "0.5968852088293909"
            ]
          },
          "execution_count": 100,
          "metadata": {},
          "output_type": "execute_result"
        }
      ],
      "source": [
        "model.predict_proba(X_small)[0, 1]"
      ],
      "id": "rHESFV-SNGDr"
    },
    {
      "cell_type": "code",
      "execution_count": null,
      "metadata": {
        "id": "g-uxZCvVNGDr",
        "outputId": "b42a27e3-5d22-45d8-da45-60b1a19d47df"
      },
      "outputs": [
        {
          "data": {
            "text/plain": [
              "1"
            ]
          },
          "execution_count": 101,
          "metadata": {},
          "output_type": "execute_result"
        }
      ],
      "source": [
        "y_test[-1]"
      ],
      "id": "g-uxZCvVNGDr"
    },
    {
      "cell_type": "markdown",
      "metadata": {
        "id": "FoVhgAGlNGDr"
      },
      "source": [
        "## Summary\n",
        "\n",
        "* Feature importance - risk, mutual information, correlation\n",
        "* One-hot encoding can be implemented with `DictVectorizer`\n",
        "* Logistic regression - linear model like linear regression\n",
        "* Output of log reg - probability\n",
        "* Interpretation of weights is similar to linear regression"
      ],
      "id": "FoVhgAGlNGDr"
    }
  ],
  "metadata": {
    "kernelspec": {
      "display_name": "Python 3",
      "language": "python",
      "name": "python3"
    },
    "language_info": {
      "codemirror_mode": {
        "name": "ipython",
        "version": 3
      },
      "file_extension": ".py",
      "mimetype": "text/x-python",
      "name": "python",
      "nbconvert_exporter": "python",
      "pygments_lexer": "ipython3",
      "version": "3.6.9"
    },
    "colab": {
      "provenance": []
    }
  },
  "nbformat": 4,
  "nbformat_minor": 5
}