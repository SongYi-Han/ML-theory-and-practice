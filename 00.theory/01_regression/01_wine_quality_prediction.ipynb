{
  "nbformat": 4,
  "nbformat_minor": 0,
  "metadata": {
    "colab": {
      "provenance": []
    },
    "kernelspec": {
      "name": "python3",
      "display_name": "Python 3"
    },
    "language_info": {
      "name": "python"
    }
  },
  "cells": [
    {
      "cell_type": "markdown",
      "source": [
        "# Linear Regression to predict wine score\n",
        "\n",
        "## Task1. Train a linear model\n",
        "    - using least squares method\n",
        "    - implement the model from scratch using NumPy \n",
        "    - Use learning curves plot to understand whether the linear moel is overfitting or underfitting\n",
        "We will use the winequality dataset for this practical. The original dataset is available here:\n",
        "https://archive.ics.uci.edu/ml/datasets/Wine+Quality. \n",
        "In order to make it easier to import the dataset, the dataset has been converted to the numpy array format and shuffled. you can find out the datset in dataset repository.\n",
        "\n",
        "\n",
        "\n"
      ],
      "metadata": {
        "id": "3_7wEbf960iI"
      }
    },
    {
      "cell_type": "markdown",
      "source": [
        "### 1.1 load the package"
      ],
      "metadata": {
        "id": "x8GxUaec74Ai"
      }
    },
    {
      "cell_type": "code",
      "source": [
        "import numpy as np\n",
        "import matplotlib.pyplot as plt\n",
        "import _pickle as cp"
      ],
      "metadata": {
        "id": "lIYWKGTV7yW0"
      },
      "execution_count": 1,
      "outputs": []
    },
    {
      "cell_type": "markdown",
      "source": [
        "### 1.2 load the dataset "
      ],
      "metadata": {
        "id": "M31Dzahi7x4W"
      }
    },
    {
      "cell_type": "code",
      "source": [
        "# load the white wine dataset\n",
        "# X is the feature matrix that stores the feature values of the data records\n",
        "# y is the label vector that stores the labels of the data records\n",
        "X, y = cp.load(open('winequality-white.pickle', 'rb'))\n",
        "\n",
        "# check the size of the data\n",
        "print(\"X is a {} matrix, which contains {} data records and {} features.\".format(X.shape, X.shape[0], X.shape[1]))\n",
        "print(\"y is a {}-dimentional vector, which stores the corresponding labels of the data records in X\".format(y.shape[0]))\n"
      ],
      "metadata": {
        "colab": {
          "base_uri": "https://localhost:8080/"
        },
        "id": "E3CvOGr08BRx",
        "outputId": "cdc9ef7c-ed67-4568-eb11-87e3ba6c5227"
      },
      "execution_count": 2,
      "outputs": [
        {
          "output_type": "stream",
          "name": "stdout",
          "text": [
            "X is a (4898, 11) matrix, which contains 4898 data records and 11 features.\n",
            "y is a 4898-dimentional vector, which stores the corresponding labels of the data records in X\n"
          ]
        }
      ]
    },
    {
      "cell_type": "markdown",
      "source": [
        "### 1.3 split traing/test dataset \n",
        "In practice, we should sample randomly 80% of the data as training data and the rest as the test data."
      ],
      "metadata": {
        "id": "hUWNkm1G8V7p"
      }
    },
    {
      "cell_type": "code",
      "source": [
        "\n",
        "def split_data(X, y, split_coeff):\n",
        "  '''\n",
        "  The parameter split_coeff is a percentage value such that\n",
        "  the first split_coeff of the dataset goes to the training dataset \n",
        "  and the remaining data goes to the test dataset.\n",
        "  '''\n",
        "  N, _ = X.shape # get the number of records (rows)\n",
        "  train_size = int(split_coeff * N) # use the first split_coeff of the data as the training data\n",
        "  X_train = X[:train_size] # the first training_size records\n",
        "  y_train = y[:train_size]\n",
        "  X_test = X[train_size:] # the last test_size records\n",
        "  y_test = y[train_size:]\n",
        "  \n",
        "  return X_train, y_train, X_test, y_test\n",
        "\n",
        "X_train, y_train, X_test, y_test = split_data(X, y, 0.8) # split the data with split_coeff=0.8\n",
        "\n",
        "# check the size of the splitted dataset\n",
        "print(\"Shape of X_train:\", X_train.shape)\n",
        "print(\"Shape of y_train:\", y_train.shape)\n",
        "print(\"Shape of X_test:\", X_test.shape)\n",
        "print(\"Shape of y_test:\", y_test.shape)"
      ],
      "metadata": {
        "colab": {
          "base_uri": "https://localhost:8080/"
        },
        "id": "_Cb2mLTb8nM2",
        "outputId": "5fb82552-0602-4bd5-db40-25ce1cc342d9"
      },
      "execution_count": 3,
      "outputs": [
        {
          "output_type": "stream",
          "name": "stdout",
          "text": [
            "Shape of X_train: (3918, 11)\n",
            "Shape of y_train: (3918,)\n",
            "Shape of X_test: (980, 11)\n",
            "Shape of y_test: (980,)\n"
          ]
        }
      ]
    },
    {
      "cell_type": "markdown",
      "source": [
        "### 1.4 understand datasets \n",
        "Let’s first check\n",
        "the distribution of the y-values in the training data.  \n",
        "Make a bar chart showing the distribution of y-values in the training data then you will find that the values are integers between 3 and 9 indicating the quality of the wine.  \n"
      ],
      "metadata": {
        "id": "LhvPAsJO7xpz"
      }
    },
    {
      "cell_type": "code",
      "source": [
        "def plot_bar_chart_score(y_train):\n",
        "\n",
        "    y_train_ints = np.array(y_train)\n",
        "    y_train_counts = np.bincount(y_train_ints.astype('int'))\n",
        "    x_labels = np.nonzero(y_train_counts)[0]\n",
        "\n",
        "    plt.title(\"Distribution of scores of wines\")\n",
        "    plt.xlabel(\"Score\")\n",
        "    plt.ylabel(\"Number of wines\")\n",
        "    plt.bar(x_labels, y_train_counts[y_train_counts != 0])\n",
        "    plt.show()\n",
        "\n",
        "plot_bar_chart_score(y_train)"
      ],
      "metadata": {
        "colab": {
          "base_uri": "https://localhost:8080/",
          "height": 295
        },
        "id": "8iZrHcUj-GTS",
        "outputId": "1011bc16-41e6-40ac-d20e-22f6591c3cab"
      },
      "execution_count": 4,
      "outputs": [
        {
          "output_type": "display_data",
          "data": {
            "text/plain": [
              "<Figure size 432x288 with 1 Axes>"
            ],
            "image/png": "[encoded data removed]"
          },
          "metadata": {
            "needs_background": "light"
          }
        }
      ]
    },
    {
      "cell_type": "markdown",
      "source": [
        "### 1.5 implement baseline model\n",
        "build a trivial predictor, which always returns the mean of the y-values of the training data. The linear regression models we build later should perform better than this trivial model."
      ],
      "metadata": {
        "id": "ucNH45c7_HEY"
      }
    },
    {
      "cell_type": "code",
      "source": [
        "def compute_average(y_train):\n",
        "    return np.mean(y_train)\n",
        "\n",
        "y_train_avg = compute_average(y_train)\n",
        "print(\"Average of y on the training label values is {}\".format(y_train_avg))\n",
        "\n",
        "# The trivial predictor returns the average value.\n",
        "def trivial_predictor(X_test, y_train_avg):\n",
        "  return y_train_avg\n"
      ],
      "metadata": {
        "colab": {
          "base_uri": "https://localhost:8080/"
        },
        "id": "9AvHIWuD_XIu",
        "outputId": "c0fa9feb-196c-4195-c628-16146cb0b7a0"
      },
      "execution_count": 5,
      "outputs": [
        {
          "output_type": "stream",
          "name": "stdout",
          "text": [
            "Average of y on the training label values is 5.878764675855028\n"
          ]
        }
      ]
    },
    {
      "cell_type": "markdown",
      "source": [
        "### 1.6 test baseline model \n",
        "we now evaluate the trivial predictor on the training data and test data. We use mean squared error (MSE) to measure the performance of the predictor. "
      ],
      "metadata": {
        "id": "5vLZiJbr_vLA"
      }
    },
    {
      "cell_type": "code",
      "source": [
        "# Implement a function that can report the mean squared error of a predictor on the given data\n",
        "# Input: data and predictor\n",
        "# Output: mean squared error of the predictor on the given data\n",
        "\n",
        "def test_predictor(X, y, predictor: callable=None):\n",
        "    \n",
        "    y_predicted = np.apply_along_axis(predictor, 1, X) # apply the predictor to each row of X to get the predictions\n",
        "    mse = np.square(np.subtract(y, y_predicted)).mean() # compute mse\n",
        "\n",
        "    return mse\n",
        "\n",
        "# we use the lambda function here to pass the function trivial predictor to the function test_predictor.\n",
        "mse_trivial_predictor_train = test_predictor(X_train, y_train, lambda x: trivial_predictor(x, y_train_avg))\n",
        "mse_trivial_predictor_test = test_predictor(X_test, y_test, lambda x: trivial_predictor(x, y_train_avg))\n",
        "\n",
        "# Report the result\n",
        "print('Trivial Predictor')\n",
        "print('--------------------------------------------------------------------------------\\n')\n",
        "print('MSE (Training) = %.4f' % mse_trivial_predictor_train)\n",
        "print('MSE (Testing)  = %.4f' % mse_trivial_predictor_test)"
      ],
      "metadata": {
        "colab": {
          "base_uri": "https://localhost:8080/"
        },
        "id": "Fe9v1z_v_66S",
        "outputId": "33d968b3-ea91-4526-be1b-16ea602817df"
      },
      "execution_count": 6,
      "outputs": [
        {
          "output_type": "stream",
          "name": "stdout",
          "text": [
            "Trivial Predictor\n",
            "--------------------------------------------------------------------------------\n",
            "\n",
            "MSE (Training) = 0.7768\n",
            "MSE (Testing)  = 0.8139\n"
          ]
        }
      ]
    },
    {
      "cell_type": "markdown",
      "source": [
        "### 1.7 standardize the datasets\n",
        "Before training the model, we need to standardize the data, i.e., transform the data so that every feature has mean 0 and variance 1. \n",
        "\n",
        "https://en.wikipedia.org/wiki/Standard_score\n",
        "\n",
        "We first standardize the training data. \n",
        "Then we apply the same transformation to the test data, i.e. standardize the test data using the means and the standard deviations of the training data. "
      ],
      "metadata": {
        "id": "usKvd3jUCBNJ"
      }
    },
    {
      "cell_type": "code",
      "source": [
        "# implement a function that can standardize the data and returns the mean and std of the data.\n",
        "# Input: training data\n",
        "# Output: standardize training data, standard deviations and means\n",
        "def standardize_data(X):\n",
        "    mean = np.mean(X, axis = 0)\n",
        "    sigma = np.std(X, axis = 0)\n",
        "    X_std = (X - mean)/sigma\n",
        "\n",
        "    return X_std, mean, sigma\n",
        "\n",
        "# Standardize the teaining data \n",
        "X_train_std, X_train_mean, X_train_sigma = standardize_data(X_train)\n",
        "print(\"X_train_std:\", X_train_std.shape)\n",
        "print(\"Mean:\", X_train_mean)\n",
        "print(\"Standard deviation:\", X_train_sigma)\n",
        "\n",
        "# Standardize the test data using the means and standrad deviations of the training data\n",
        "X_test_std = (X_test - X_train_mean)/X_train_sigma\n",
        "print(X_test_std.shape)"
      ],
      "metadata": {
        "colab": {
          "base_uri": "https://localhost:8080/"
        },
        "id": "J6rdcY-fCVfW",
        "outputId": "62d7cc9d-6421-464e-fa0f-5aaf7ad6befa"
      },
      "execution_count": 7,
      "outputs": [
        {
          "output_type": "stream",
          "name": "stdout",
          "text": [
            "X_train_std: (3918, 11)\n",
            "Mean: [6.85427514e+00 2.78390761e-01 3.34892802e-01 6.42623788e+00\n",
            " 4.58213374e-02 3.53263144e+01 1.38513272e+02 9.94040729e-01\n",
            " 3.18647524e+00 4.89055641e-01 1.05115799e+01]\n",
            "Standard deviation: [8.39100902e-01 9.95630176e-02 1.24249975e-01 5.06377532e+00\n",
            " 2.16660282e-02 1.71004677e+01 4.23956179e+01 2.97972269e-03\n",
            " 1.49949475e-01 1.12992053e-01 1.22536544e+00]\n",
            "(980, 11)\n"
          ]
        }
      ]
    },
    {
      "cell_type": "markdown",
      "source": [
        "#### Note : We have standardized X-values. Do we need to standardize the y-values? Why?  \n",
        "We don't need to standarize the y-value. The reason why we standardize X-value is it is input of linear regression model which includes interaction terms and polynomial terms. This means that if the independent variables (each features) have significant difference in scale, bias can be introduced in those terms and mislead the result. However, y-values are output value of our model, which has only one feature : quality of wine scored between 1 to 9. Accordingly, it makes more sense to keep the y-values as original values, otherwise standarization will rather change the meaning of score. For this reason standatization for y-value is unneccessary. \n",
        "  \n"
      ],
      "metadata": {
        "id": "YYQ9NAefDUfV"
      }
    },
    {
      "cell_type": "markdown",
      "source": [
        "### 1.8 Train the Linear Model using Least Squares Method\n",
        "\n",
        "Let us train a linear model on the training data and then check its MSE. \n",
        "We use the closed form solution of the least squares estimate to get the parameters of the linear model.  \n",
        "\n",
        " * Don't forget to add the bias term to the matrix X. \n",
        " * The linear model should perform better than the trivial predictor which returns simple mean of the labels!\n",
        "\n"
      ],
      "metadata": {
        "id": "RvPubPD_Bg_u"
      }
    },
    {
      "cell_type": "code",
      "source": [
        "# implement a function that adds a column of ones to the front of the input matrix\n",
        "def expand_with_ones(X):\n",
        "\n",
        "    n, m = X.shape\n",
        "    X_ones = np.ones((n,1))\n",
        "    X_out = np.hstack((X_ones,X))\n",
        "    \n",
        "    return X_out\n",
        "\n",
        "def least_squares_compute_parameters(X_input, y):\n",
        "    # 1. add the bias column to the data\n",
        "    X = expand_with_ones(X_input)\n",
        "\n",
        "    # 2. compute the weight based on the expanded X and y using the least-squares method\n",
        "    XT = np.transpose(X)\n",
        "    w = np.dot(np.dot(np.linalg.inv(np.dot(XT,X)),XT),y)\n",
        "\n",
        "    return w\n",
        "\n",
        "w = least_squares_compute_parameters(X_train_std, y_train) \n",
        "print(\"w:\", w.shape)"
      ],
      "metadata": {
        "colab": {
          "base_uri": "https://localhost:8080/"
        },
        "id": "XrXcKZckDx9l",
        "outputId": "99d99519-c9f2-4870-c05e-01ae3fdb28bb"
      },
      "execution_count": 8,
      "outputs": [
        {
          "output_type": "stream",
          "name": "stdout",
          "text": [
            "w: (12,)\n"
          ]
        }
      ]
    },
    {
      "cell_type": "code",
      "source": [
        "# Implement the linear model predictor\n",
        "# Input: test data and parameters\n",
        "# Output: predicted values\n",
        "def linear_model_predictor(X, w):\n",
        "    return np.dot(X, w)\n"
      ],
      "metadata": {
        "id": "8VTXV-rhEbJu"
      },
      "execution_count": 9,
      "outputs": []
    },
    {
      "cell_type": "markdown",
      "source": [
        "### 1.9 Evaluate the linear model \n",
        "using test datset and compute its mse "
      ],
      "metadata": {
        "id": "OI_pUg2dEjLQ"
      }
    },
    {
      "cell_type": "code",
      "source": [
        "# use the function test_predictor to evaluate the linear model predictor\n",
        "mse_linear_model_predictor = test_predictor(expand_with_ones(X_test_std), y_test, lambda x: linear_model_predictor(x, w))\n",
        "print(\"Mean squared error is {}\".format(mse_linear_model_predictor))"
      ],
      "metadata": {
        "colab": {
          "base_uri": "https://localhost:8080/"
        },
        "id": "122K4ddJEqDm",
        "outputId": "95cf1ba1-8be6-49ba-94e0-ed03ef9c4eba"
      },
      "execution_count": 10,
      "outputs": [
        {
          "output_type": "stream",
          "name": "stdout",
          "text": [
            "Mean squared error is 0.5607292042283472\n"
          ]
        }
      ]
    },
    {
      "cell_type": "markdown",
      "source": [
        "### 1.10 plot the Learning curve\n",
        "\n",
        "\n",
        "Let us check if the linear model is overfitting or underfitting. Since the dataset is somewhat large and there are only 11 features, the model shouldn't be overfitting.  \n",
        "\n",
        "To check it, we need to check the learning curves, i.e. how the performance of the model changes when it is trained with increasingly more data. \n",
        "We train the model on the increasingly more data ([20, 40, ..., 600] data records), and evaluate the model by computing the MSE of the model on both the training data and the test data. \n"
      ],
      "metadata": {
        "id": "9KWT8-Y0E2uC"
      }
    },
    {
      "cell_type": "code",
      "source": [
        "# Input: training data and test data\n",
        "# Output: mse of the linear model predictor on both the training and test data\n",
        "def train_and_test(X_train, y_train, X_test, y_test):\n",
        "    \n",
        "    #1. standarize\n",
        "    X_train_std, X_train_mean, X_train_sigma = standardize_data(X_train)\n",
        "    X_test_std = (X_test - X_train_mean)/X_train_sigma\n",
        "\n",
        "    #2. calculate w \n",
        "    W = least_squares_compute_parameters(X_train_std, y_train)\n",
        "\n",
        "    #3. calculate mse \n",
        "    mse_train = test_predictor(expand_with_ones(X_train_std), y_train, lambda x: linear_model_predictor(x, W))\n",
        "    mse_test = test_predictor(expand_with_ones(X_test_std), y_test, lambda x: linear_model_predictor(x, W))\n",
        "\n",
        "    return mse_train, mse_test\n",
        "\n",
        "mse_train, mse_test = train_and_test(X_train, y_train, X_test, y_test)\n",
        "\n",
        "print('Linear Model')\n",
        "print('-----------------------\\n')\n",
        "print('MSE (Training) = %.4f' % mse_train)\n",
        "print('MSE (Testing)  = %.4f' % mse_test)\n"
      ],
      "metadata": {
        "colab": {
          "base_uri": "https://localhost:8080/"
        },
        "id": "fclSIp6-TnsI",
        "outputId": "68379324-1751-4d84-f322-af24cfa879ad"
      },
      "execution_count": 11,
      "outputs": [
        {
          "output_type": "stream",
          "name": "stdout",
          "text": [
            "Linear Model\n",
            "-----------------------\n",
            "\n",
            "MSE (Training) = 0.5640\n",
            "MSE (Testing)  = 0.5607\n"
          ]
        }
      ]
    },
    {
      "cell_type": "code",
      "source": [
        "mse_train_v = []\n",
        "mse_test_v = []\n",
        "\n",
        "TRAINING_SIZE_MAX = 601\n",
        "TRAINING_SIZE_MIN = 20\n",
        "\n",
        "# compute the MSE over data with sizes from TRAINING_SIZE_MIN to TRAINING_SIZE_MAX with increasing step 20\n",
        "for train_size in range(TRAINING_SIZE_MIN, TRAINING_SIZE_MAX, 20):\n",
        "  #  1. use the first train_size data records from the X_train and y_train as the training data\n",
        "  #  2. train and compute the MSE on both training and test data using the train_and_test function\n",
        "  #  3. add the computed MSE to the lists mse_train_v and mse_test_v\n",
        "\n",
        "    X_train_batch = X[:train_size]\n",
        "    y_train_batch = y[:train_size]\n",
        "    mse_train, mse_test = train_and_test(X_train_batch, y_train_batch, X_test, y_test)\n",
        "    \n",
        "    mse_train_v.append(mse_train)\n",
        "    mse_test_v.append(mse_test)\n",
        "\n",
        "# The below code generates the learning curves plot\n",
        "plt.figure(2)\n",
        "plt.title(\"Learning Curve\")\n",
        "plt.plot(np.arange(TRAINING_SIZE_MIN, TRAINING_SIZE_MAX, 20), mse_train_v, 'r--', label=\"Training Error\")\n",
        "plt.plot(np.arange(TRAINING_SIZE_MIN, TRAINING_SIZE_MAX, 20), mse_test_v, 'b-', label=\"Test Error\")\n",
        "plt.xlabel('Dataset Size')\n",
        "plt.ylabel('Mean Squared Error')\n",
        "plt.legend(loc='upper right')\n",
        "plt.show()"
      ],
      "metadata": {
        "colab": {
          "base_uri": "https://localhost:8080/",
          "height": 295
        },
        "id": "VUHXI6Y_T1qK",
        "outputId": "4acab974-d33f-4eda-b637-09eecb71102d"
      },
      "execution_count": 12,
      "outputs": [
        {
          "output_type": "display_data",
          "data": {
            "text/plain": [
              "<Figure size 432x288 with 1 Axes>"
            ],
            "image/png": "[encoded data removed]"
          },
          "metadata": {
            "needs_background": "light"
          }
        }
      ]
    },
    {
      "cell_type": "markdown",
      "source": [
        "### 1.11 Interpretation of the result \n",
        "Learning curve shows the trend of the training and test error as function of the training data size. In our result, both errors quickly start to plateau and meet at the same level after about 300 data is used. This means adding more data does not decrease both errors. However, in our case, both training and test error is pretty low enough, we can say our model fits and generalizes the dataset well. "
      ],
      "metadata": {
        "id": "H7V10aVCUTmG"
      }
    },
    {
      "cell_type": "markdown",
      "source": [
        "## Task2. Improve linear models with \n",
        "    - regularization (Ridge and Lasso)\n",
        "    - polynomial basis expansion\n",
        "    - use validation data to choose the hyperparameters\n",
        "    - Use k-fold cross validation to choose the optimal hyperparameters"
      ],
      "metadata": {
        "id": "tYMdK-y07wpv"
      }
    },
    {
      "cell_type": "markdown",
      "source": [
        "### 2.1 import pakages\n"
      ],
      "metadata": {
        "id": "6TyJv27SU389"
      }
    },
    {
      "cell_type": "code",
      "source": [
        "# import the preprocessing libs for standarization and basis expansion\n",
        "from sklearn.preprocessing import StandardScaler, PolynomialFeatures \n",
        "\n",
        "# Ridge and Lasso linear model\n",
        "from sklearn.linear_model import Ridge, Lasso "
      ],
      "metadata": {
        "id": "UUsr_yMLU6dR"
      },
      "execution_count": 13,
      "outputs": []
    },
    {
      "cell_type": "markdown",
      "source": [
        "### 2.2 expand basis\n",
        "Let's implement the function for expanding the basis of the dataset using `PolynomialFeatures`"
      ],
      "metadata": {
        "id": "loNC8-YCU7PV"
      }
    },
    {
      "cell_type": "code",
      "source": [
        "def expand_basis(X, degree):\n",
        "    # expand the basis of X for the input degree\n",
        "    poly = PolynomialFeatures(degree)\n",
        "    return poly.fit_transform(X)\n"
      ],
      "metadata": {
        "id": "N8ci3QUgVIXK"
      },
      "execution_count": 14,
      "outputs": []
    },
    {
      "cell_type": "markdown",
      "source": [
        "### 2.3 Data preparation \n",
        "We need to expand and standardize the the data,\n",
        "and prepare the training, test and validation data.\n",
        "You should set the last 20% of the training data as the validation data.\n",
        "\n",
        "* use `StandardScaler` and `std_scaler` to standardize the data\n",
        "\n",
        "**NOTE**\n",
        "\n",
        "**Why standardisation is required before basis expansion?**\n",
        "\n",
        "Assume we have a dataset with two features x1 and x2, where x1 has a small scale while x2 has a large scale. When we perform basis expansion, we  get a new feature x1x2. Since x2 has a larger scale than x1, it is likely x2 will contribute more to the value of the new feature x1x2, which means a bias is introduce here. \n",
        "The correct way is to standardise the features before the basis expansion. In this case x1 and x2 have the same scale, so they contribute same to the new feature x1x2, i.e. no bias is introduced. \n",
        "\n",
        "\n",
        "**Why standardise the training data in step 5?**\n",
        "\n",
        "Ridge and Lasso regularisation require the data to have mean of 0 and standard deviation of 1. However, after the basis expansion and splitting in step 4, the training data might not have the desired distribution, so we need to perform the standardisation on the training data. \n",
        "\n",
        " \n",
        "**Why not standardise both training and validation data together?**\n",
        "\n",
        "When we use validation data to chose the hyperparameters, we treat the validation data like the test data -- we should not assume we can access these data. So we should standardise the training data and perform the same operation to the validation data. "
      ],
      "metadata": {
        "id": "1_0VPJATVjsu"
      }
    },
    {
      "cell_type": "code",
      "source": [
        "def prepare_data(X, y, degree):\n",
        "\n",
        "    # 1. split the data (X, y) into training data (X_train, y_train) and test data (X_test, y_test)\n",
        "    # 2. standardize the training data and do the same transformation to the test data\n",
        "    # 3. expand the basis of the training data and test data\n",
        "    # 4. split the expanded training data into training data (X_train_n, y_train_n) and validation data (X_train_v, y_train_v)\n",
        "    # 5. standardize the training data and do the same transformation to the validation data\n",
        "\n",
        "    #1. split train / test dataset\n",
        "    X_train, y_train, X_test, y_test = split_data(X, y, 0.8)\n",
        "\n",
        "    #2. standarize\n",
        "    scaler = StandardScaler()\n",
        "    X_train = scaler.fit_transform(X_train)\n",
        "    X_test = scaler.transform(X_test)\n",
        "\n",
        "    #3. basis expansion\n",
        "    X_train = expand_basis(X_train, degree)\n",
        "    X_test = expand_basis(X_test, degree)\n",
        "\n",
        "    #4. split train / validation dataset\n",
        "    X_train_n, y_train_n, X_train_v, y_train_v = split_data(X_train, y_train, 0.8)\n",
        "    \n",
        "    #5. standarize \n",
        "    X_train_n= scaler.fit_transform(X_train_n)\n",
        "    X_train_v= scaler.transform(X_train_v)\n",
        "\n",
        "\n",
        "    return X_train, y_train, X_train_n, y_train_n, X_train_v, y_train_v, X_test, y_test\n",
        "\n",
        "X_train, y_train, X_train_n, y_train_n, X_train_v, y_train_v, X_test, y_test = prepare_data(X, y, 2) # here we expand the dataset with degree 2"
      ],
      "metadata": {
        "id": "ZnMniI49rmUF"
      },
      "execution_count": 15,
      "outputs": []
    },
    {
      "cell_type": "markdown",
      "source": [
        "### 2.4 find hyperparameters (lambda) for Ridge and Lasso model\n",
        "\n",
        "We use the Ridge and Lasso models from scikit-learn: https://scikit-learn.org/stable/modules/generated/sklearn.linear_model.Ridge.html\n",
        "\n",
        "We train Ridge or Lasso models with different lambda values (from 10^-4 to 10^2) and check their performance on the validation data. The lambda value that results the best performance is then the optimal lambda."
      ],
      "metadata": {
        "id": "p97hq0RCsDPo"
      }
    },
    {
      "cell_type": "code",
      "source": [
        "# The function takes the training and validation data as inputs, and returns the lambda value that results the minimal mse\n",
        "# We use is_ridge to indicate which the model is considered (is_ridge = True indicates Ridge while is_ridge = False indicates Lasso)\n",
        "def choose_hyper_param(X_train_n, y_train_n, X_train_v, y_train_v, is_ridge: bool):\n",
        "    mse_list = []\n",
        "    lam_list = []\n",
        "\n",
        "    for pow_lam in range(-4, 3):\n",
        "        lam = 10 ** pow_lam\n",
        "\n",
        "        if is_ridge:\n",
        "          reg = Ridge(lam)\n",
        "        else:\n",
        "          reg = Lasso(lam)\n",
        "  \n",
        "        reg.fit(X_train_n, y_train_n)\n",
        "\n",
        "        y_hat = reg.predict(X_train_v)\n",
        "        mse = (np.square(y_train_v - y_hat)).mean()\n",
        "\n",
        "        mse_list.append(mse) \n",
        "        lam_list.append(lam)\n",
        "\n",
        "    # get the index of the lambda value that has the minimal use\n",
        "    lambda_idx_min = np.argmin(np.array(mse_list))\n",
        "\n",
        "    # plot of the lambda values and their mse\n",
        "    plt.figure()\n",
        "    plt.semilogx(lam_list, mse_list)\n",
        "\n",
        "    # return the optimal lambda value\n",
        "    return lam_list[lambda_idx_min]\n",
        "\n",
        "# call the function to choose the lambda for Ridge and Lasso\n",
        "lam_ridge = choose_hyper_param(X_train_n, y_train_n, X_train_v, y_train_v, True)\n",
        "lam_lasso = choose_hyper_param(X_train_n, y_train_n, X_train_v, y_train_v, False)\n",
        "\n",
        "print(\"Ridge lambda:\", lam_ridge)\n",
        "print(\"Lasso lambda:\", lam_lasso)"
      ],
      "metadata": {
        "colab": {
          "base_uri": "https://localhost:8080/",
          "height": 650
        },
        "id": "G9uYnmbasW4f",
        "outputId": "698be5af-d1ea-410b-bebc-402e25da816f"
      },
      "execution_count": 16,
      "outputs": [
        {
          "output_type": "stream",
          "name": "stderr",
          "text": [
            "/usr/local/lib/python3.7/dist-packages/sklearn/linear_model/_coordinate_descent.py:648: ConvergenceWarning: Objective did not converge. You might want to increase the number of iterations, check the scale of the features or consider increasing regularisation. Duality gap: 2.680e+02, tolerance: 2.424e-01\n",
            "  coef_, l1_reg, l2_reg, X, y, max_iter, tol, rng, random, positive\n",
            "/usr/local/lib/python3.7/dist-packages/sklearn/linear_model/_coordinate_descent.py:648: ConvergenceWarning: Objective did not converge. You might want to increase the number of iterations, check the scale of the features or consider increasing regularisation. Duality gap: 9.041e-01, tolerance: 2.424e-01\n",
            "  coef_, l1_reg, l2_reg, X, y, max_iter, tol, rng, random, positive\n"
          ]
        },
        {
          "output_type": "stream",
          "name": "stdout",
          "text": [
            "Ridge lambda: 1\n",
            "Lasso lambda: 0.001\n"
          ]
        },
        {
          "output_type": "display_data",
          "data": {
            "text/plain": [
              "<Figure size 432x288 with 1 Axes>"
            ],
            "image/png": "[encoded data removed]"
          },
          "metadata": {
            "needs_background": "light"
          }
        },
        {
          "output_type": "display_data",
          "data": {
            "text/plain": [
              "<Figure size 432x288 with 1 Axes>"
            ],
            "image/png": "[encoded data removed]"
          },
          "metadata": {
            "needs_background": "light"
          }
        }
      ]
    },
    {
      "cell_type": "markdown",
      "source": [
        "### 2.5 train models with optimal hyperparameters\n",
        "\n"
      ],
      "metadata": {
        "id": "nEXmv9KAtTF2"
      }
    },
    {
      "cell_type": "code",
      "source": [
        "params = [(\"Ridge\",Ridge,lam_ridge), (\"Lasso\",Lasso,lam_lasso)]\n",
        "res = {}\n",
        "\n",
        "for param in params:\n",
        "  res[param[0]] = []\n",
        "\n",
        "  reg = param[1](param[2])\n",
        "  reg.fit(X_train, y_train)\n",
        "  \n",
        "  y_train_hat = reg.predict(X_train)\n",
        "  mse_train = (np.square(y_train - y_train_hat)).mean()\n",
        "  res[param[0]].append(mse_train)\n",
        "  \n",
        "  y_test_hat = reg.predict(X_test)\n",
        "  mse_test = (np.square(y_test - y_test_hat)).mean()\n",
        "  res[param[0]].append(mse_test)\n",
        "\n",
        "mse_ridge_train, mse_ridge_test, mse_lasso_train, mse_lasso_test = res[\"Ridge\"][0], res[\"Ridge\"][1], res[\"Lasso\"][0], res[\"Lasso\"][1]\n",
        "\n",
        "\n",
        "# Report the result\n",
        "print('For Ridge Regression with using degree %d polynomial expansion and lambda = %.4f' % (2, lam_ridge))\n",
        "print('--------------------------------------------------------------------------------\\n')\n",
        "print('MSE (Training) = %.4f' % mse_ridge_train)\n",
        "print('MSE (Testing)  = %.4f' % mse_ridge_test)\n",
        "\n",
        "print('\\n\\nFor Lasso with using degree %d polynomial expansion and lambda = %.4f' % (2, lam_lasso))\n",
        "print('---------------------------------------------------------------------\\n')\n",
        "print('MSE (Training) = %.4f' % mse_lasso_train)\n",
        "print('MSE (Testing)  = %.4f' % mse_lasso_test)"
      ],
      "metadata": {
        "colab": {
          "base_uri": "https://localhost:8080/"
        },
        "id": "hO18Alu4tcUc",
        "outputId": "c138c9fa-6eb3-4edf-d4b0-90a08e61f320"
      },
      "execution_count": 17,
      "outputs": [
        {
          "output_type": "stream",
          "name": "stdout",
          "text": [
            "For Ridge Regression with using degree 2 polynomial expansion and lambda = 1.0000\n",
            "--------------------------------------------------------------------------------\n",
            "\n",
            "MSE (Training) = 0.4952\n",
            "MSE (Testing)  = 0.5125\n",
            "\n",
            "\n",
            "For Lasso with using degree 2 polynomial expansion and lambda = 0.0010\n",
            "---------------------------------------------------------------------\n",
            "\n",
            "MSE (Training) = 0.4962\n",
            "MSE (Testing)  = 0.5098\n"
          ]
        },
        {
          "output_type": "stream",
          "name": "stderr",
          "text": [
            "/usr/local/lib/python3.7/dist-packages/sklearn/linear_model/_coordinate_descent.py:648: ConvergenceWarning: Objective did not converge. You might want to increase the number of iterations, check the scale of the features or consider increasing regularisation. Duality gap: 6.057e-01, tolerance: 3.043e-01\n",
            "  coef_, l1_reg, l2_reg, X, y, max_iter, tol, rng, random, positive\n"
          ]
        }
      ]
    },
    {
      "cell_type": "markdown",
      "source": [
        "### 2.6  basis expansions with higher degrees \n",
        "try basis expansions with higher degrees (up to degree 4) and find the degree that results the best performance. \n",
        "\n",
        "Instead of always using the same validation set, you should use k-fold cross validation to find the optimal hyperparameters. (use `KFold`)\n",
        "\n",
        "report the optimal hyperparameters (the basis expansion degree and the lambdas) and the MSE of the Ridge and Lasso when you apply the optimal hyperparameters. \n",
        "\n"
      ],
      "metadata": {
        "id": "KjfdhLYwtrIX"
      }
    },
    {
      "cell_type": "code",
      "source": [
        "from sklearn.model_selection import KFold"
      ],
      "metadata": {
        "id": "6xvW4fuQuLrd"
      },
      "execution_count": 18,
      "outputs": []
    },
    {
      "cell_type": "code",
      "source": [
        "# 1. split dataset to train and test set with the ratio of 80:20\n",
        "X_train, y_train, X_test, y_test = split_data(X, y, 0.8)\n",
        "\n",
        "# 2. Standarize input data \n",
        "X_train_std, X_train_mean, X_train_sigma = standardize_data(X_train)\n",
        "X_test_std = (X_test - X_train_mean)/X_train_sigma\n",
        "\n",
        "# 3. Find a optimal model with different hyperparameters (polynomial bais expansion degree 1 to 4 and regularizer lambda 10^-4 to 10^3)\n",
        "degree = [1,2,3,4]\n",
        "lams = [10**x for x in range(-4,4)]\n",
        "res = { \"ridge\" : {\"mse_list\": [],\"hyp_list\": []}, #degree, lamda\n",
        "        \"lasso\" : {\"mse_list\": [],\"hyp_list\": []}}\n",
        "params = [(\"ridge\", Ridge),(\"lasso\", Lasso)]\n",
        "\n",
        "\n",
        "scaler = StandardScaler()\n",
        "kf = KFold(n_splits=5)\n",
        "\n",
        "for i in degree:\n",
        "  # basis expansion based on different degree 1 to 4\n",
        "  X_train = expand_basis(X_train_std, i)\n",
        "  X_test = expand_basis(X_test_std, i)\n",
        "\n",
        "  mse_list_r = [] # degree i with min lambda of ridge model\n",
        "  mse_list_l = [] # degree i with min lambda of lasso model\n",
        "\n",
        "  mse = { \"ridge\": [],\n",
        "          \"lasso\": []}\n",
        "  lam_list = []\n",
        "\n",
        "  # test for each model with lambda 10^-4 to 10^3\n",
        "  for lam in lams:\n",
        "    kf_mse = { \"ridge\": [],\n",
        "                \"lasso\": []\n",
        "               }\n",
        "\n",
        "    # validate with kf = 5 \n",
        "    for n_i, v_i in kf.split(X_train):\n",
        "      X_train_n, X_train_v = X_train[n_i], X_train[v_i]\n",
        "      y_train_n, y_train_v = y_train[n_i], y_train[v_i]\n",
        "\n",
        "      # standarise train and validation set \n",
        "      X_train_n = scaler.fit_transform(X_train_n)\n",
        "      X_train_v = scaler.transform(X_train_v)\n",
        "\n",
        "      # train with each regularizer and store mse \n",
        "      for param in params:\n",
        "        reg = param[1](lam)\n",
        "        reg.fit(X_train_n, y_train_n)\n",
        "        y_hat = reg.predict(X_train_v)\n",
        "        mse = (np.square(y_train_v - y_hat)).mean()\n",
        "        kf_mse[param[0]].append(mse)\n",
        "\n",
        "    #calculate mean of kf_mse and store\n",
        "    mse_list_r.append(np.mean(kf_mse[\"ridge\"]))\n",
        "    mse_list_l.append(np.mean(kf_mse[\"lasso\"])) \n",
        "    lam_list.append(lam)\n",
        "\n",
        "  res[\"ridge\"][\"mse_list\"].append(min(mse_list_r))\n",
        "  res[\"lasso\"][\"mse_list\"].append(min(mse_list_l))\n",
        "\n",
        "  lambda_idx_min_r = np.argmin(np.array(mse_list_r))\n",
        "  res[\"ridge\"][\"hyp_list\"].append((i, lam_list[lambda_idx_min_r]))\n",
        "  lambda_idx_min_l = np.argmin(np.array(mse_list_l))\n",
        "  res[\"lasso\"][\"hyp_list\"].append((i, lam_list[lambda_idx_min_l]))\n",
        "  \n"
      ],
      "metadata": {
        "id": "I7s4a6F0uMIG"
      },
      "execution_count": null,
      "outputs": []
    },
    {
      "cell_type": "code",
      "source": [
        "# 4. find optimal hyps\n",
        "\n",
        "min_mse_r = min(res[\"ridge\"][\"mse_list\"])\n",
        "hyp_idx_min_r = np.argmin(np.array(res[\"ridge\"][\"mse_list\"]))\n",
        "optimal_hyp_r = res[\"ridge\"][\"hyp_list\"][hyp_idx_min_r]\n",
        "\n",
        "min_mse_l = min(res[\"lasso\"][\"mse_list\"])\n",
        "hyp_idx_min_l = np.argmin(np.array(res[\"lasso\"][\"mse_list\"]))\n",
        "optimal_hyp_l = res[\"lasso\"][\"hyp_list\"][hyp_idx_min_l]\n",
        "\n",
        "# 5. report optimal hyps\n",
        "print(\"The optimal hyperparameters for Ridge model: degree %d and lambda %4f with validation mse %4f\" % (optimal_hyp_r[0], optimal_hyp_r[1], min_mse_r) )\n",
        "print(\"The optimal hyperparameters for Lasso model: degree %d and lambda %4f with validation mse %4f\" % (optimal_hyp_l[0], optimal_hyp_l[1], min_mse_l) )\n"
      ],
      "metadata": {
        "colab": {
          "base_uri": "https://localhost:8080/"
        },
        "id": "YSkLEClauQtm",
        "outputId": "29ddd595-a37e-417e-dea6-22f7f1178f7e"
      },
      "execution_count": 20,
      "outputs": [
        {
          "output_type": "stream",
          "name": "stdout",
          "text": [
            "The optimal hyperparameters for Ridge model: degree 2 and lambda 10.000000 with validation mse 0.538901\n",
            "The optimal hyperparameters for Lasso model: degree 2 and lambda 0.001000 with validation mse 0.537769\n"
          ]
        }
      ]
    },
    {
      "cell_type": "code",
      "source": [
        "# 6. Report tarin error and test error of model with optimal hyperpameter \n",
        "\n",
        "def mse_optimal(model, lam, X_train, y_train, X_test, y_test):\n",
        "  reg = model(lam)  \n",
        "  reg.fit(X_train, y_train)\n",
        "  y_train_hat = reg.predict(X_train)\n",
        "  mse_train = (np.square(y_train - y_train_hat)).mean()\n",
        "\n",
        "  y_test_hat = reg.predict(X_test)\n",
        "  mse_test = (np.square(y_test - y_test_hat)).mean()\n",
        "\n",
        "  return mse_train, mse_test"
      ],
      "metadata": {
        "id": "Wj2WxLoiuVG0"
      },
      "execution_count": 21,
      "outputs": []
    },
    {
      "cell_type": "code",
      "source": [
        "#Split train / test dataset\n",
        "X_train, y_train, X_test, y_test = split_data(X, y, 0.8)\n",
        "\n",
        "#standarize\n",
        "scaler = StandardScaler()\n",
        "X_train = scaler.fit_transform(X_train)\n",
        "X_test = scaler.transform(X_test)\n",
        "\n",
        "#basis expansion\n",
        "X_train = expand_basis(X_train, 2)\n",
        "X_test = expand_basis(X_test, 2)\n",
        "\n",
        "# calculate tarin error and test error\n",
        "mse_ridge_train, mse_ridge_test = mse_optimal(Ridge, optimal_hyp_r[1], X_train, y_train, X_test, y_test)\n",
        "mse_lasso_train, mse_lasso_test = mse_optimal(Lasso,optimal_hyp_l[1], X_train, y_train, X_test, y_test)\n",
        "\n",
        "print('For Ridge Regression with using degree %d polynomial expansion and lambda = %.3f' % (optimal_hyp_r[0], optimal_hyp_r[1]))\n",
        "print('--------------------------------------------------------------------------------\\n')\n",
        "print('MSE (Training) = %.4f' % mse_ridge_train)\n",
        "print('MSE (Testing)  = %.4f' % mse_ridge_test)\n",
        "\n",
        "print('\\n\\nFor Lasso with using degree %d polynomial expansion and lambda = %.3f' % (optimal_hyp_l[0], optimal_hyp_l[1]))\n",
        "print('---------------------------------------------------------------------\\n')\n",
        "print('MSE (Training) = %.4f' % mse_lasso_train)\n",
        "print('MSE (Testing)  = %.4f' % mse_lasso_test)"
      ],
      "metadata": {
        "colab": {
          "base_uri": "https://localhost:8080/"
        },
        "id": "lbUQjcxBudo7",
        "outputId": "cdc67e67-ffcb-45e5-cf67-e56b5e49a3a4"
      },
      "execution_count": 22,
      "outputs": [
        {
          "output_type": "stream",
          "name": "stdout",
          "text": [
            "For Ridge Regression with using degree 2 polynomial expansion and lambda = 10.000\n",
            "--------------------------------------------------------------------------------\n",
            "\n",
            "MSE (Training) = 0.4955\n",
            "MSE (Testing)  = 0.5117\n",
            "\n",
            "\n",
            "For Lasso with using degree 2 polynomial expansion and lambda = 0.001\n",
            "---------------------------------------------------------------------\n",
            "\n",
            "MSE (Training) = 0.4962\n",
            "MSE (Testing)  = 0.5098\n"
          ]
        },
        {
          "output_type": "stream",
          "name": "stderr",
          "text": [
            "/usr/local/lib/python3.7/dist-packages/sklearn/linear_model/_coordinate_descent.py:648: ConvergenceWarning: Objective did not converge. You might want to increase the number of iterations, check the scale of the features or consider increasing regularisation. Duality gap: 6.057e-01, tolerance: 3.043e-01\n",
            "  coef_, l1_reg, l2_reg, X, y, max_iter, tol, rng, random, positive\n"
          ]
        }
      ]
    },
    {
      "cell_type": "markdown",
      "source": [
        "**Interpretation**  \n",
        "\n",
        "It is interesting that we got different lambda value for Ridge model, even though with the same polynomial degree that we tried above. We think this is because Ridge model is somewwhat sensitive to different train/validation set. it seems around 4000 data set is not enough to get stable results.  "
      ],
      "metadata": {
        "id": "RBJhdBEbuumX"
      }
    }
  ]
}