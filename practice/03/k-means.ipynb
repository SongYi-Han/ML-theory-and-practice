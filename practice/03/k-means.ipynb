{
 "cells": [
  {
   "cell_type": "code",
   "execution_count": 21,
   "id": "e4fc14a2",
   "metadata": {},
   "outputs": [
    {
     "name": "stderr",
     "output_type": "stream",
     "text": [
      "Fontconfig warning: ignoring UTF-8: not a valid region tag\n"
     ]
    }
   ],
   "source": [
    "import csv\n",
    "import matplotlib.pyplot as plt\n",
    "from numpy import array, vstack, genfromtxt\n",
    "import numpy as np\n",
    "from scipy.cluster.vq import kmeans\n",
    "from scipy.cluster.vq import vq"
   ]
  },
  {
   "cell_type": "code",
   "execution_count": 23,
   "id": "a3503a98",
   "metadata": {},
   "outputs": [
    {
     "data": {
      "image/png": "[encoded data removed]",
      "text/plain": [
       "<Figure size 432x288 with 1 Axes>"
      ]
     },
     "metadata": {
      "needs_background": "light"
     },
     "output_type": "display_data"
    }
   ],
   "source": [
    "def readData(filename, columns):\n",
    "    csv = genfromtxt(filename, delimiter=\",\",\n",
    "                    usecols=(map(int, columns.split(\",\"))))\n",
    "    return csv\n",
    "\n",
    "def writeResult(filename, idx):\n",
    "    w = open(filename, 'w', encoding=\"utf-8\")\n",
    "    \n",
    "    for i in range(len(idx)):\n",
    "        w.write(\"{}\\n\".format(idx[i]))\n",
    "    w.close()\n",
    "    \n",
    "# read dataset from local \n",
    "columns = \"0,1,2,3\"\n",
    "read_data = readData(\"iris.data\", columns)\n",
    "\n",
    "# train k-means model\n",
    "n_clusters = 3\n",
    "centroids, _ = kmeans(read_data, n_clusters)\n",
    "\n",
    "# assign data to corresponding cluster and export\n",
    "idx, _ = vq(read_data, centroids)\n",
    "writeResult(\"result.txt\", idx)\n",
    "\n",
    "np.savetxt(\"iris-centroid.csv\", centroids, delimiter=\",\")\n",
    "\n",
    "# show the result \n",
    "for i in range(n_clusters):\n",
    "    plt.plot(read_data[idx==i,0], read_data[idx==i,1], 'o', markersize=3)\n",
    "    plt.plot(centroids[i:,0],centroids[i:,1],'^r', markersize=10)\n",
    "\n",
    "plt.show()"
   ]
  },
  {
   "cell_type": "code",
   "execution_count": 24,
   "id": "b5b06619",
   "metadata": {},
   "outputs": [
    {
     "name": "stdout",
     "output_type": "stream",
     "text": [
      "[[6.85384615 3.07692308 5.71538462 2.05384615]\n",
      " [5.88360656 2.74098361 4.38852459 1.43442623]\n",
      " [5.006      3.418      1.464      0.244     ]]\n"
     ]
    }
   ],
   "source": [
    "print(centroids)"
   ]
  },
  {
   "cell_type": "code",
   "execution_count": 29,
   "id": "13553158",
   "metadata": {},
   "outputs": [
    {
     "name": "stdout",
     "output_type": "stream",
     "text": [
      "[3.07692308 2.74098361 3.418     ]\n"
     ]
    }
   ],
   "source": [
    "print(centroids[0:,1])"
   ]
  },
  {
   "cell_type": "code",
   "execution_count": null,
   "id": "4368f859",
   "metadata": {},
   "outputs": [],
   "source": []
  }
 ],
 "metadata": {
  "kernelspec": {
   "display_name": "Python 3 (ipykernel)",
   "language": "python",
   "name": "python3"
  },
  "language_info": {
   "codemirror_mode": {
    "name": "ipython",
    "version": 3
   },
   "file_extension": ".py",
   "mimetype": "text/x-python",
   "name": "python",
   "nbconvert_exporter": "python",
   "pygments_lexer": "ipython3",
   "version": "3.9.14"
  }
 },
 "nbformat": 4,
 "nbformat_minor": 5
}
