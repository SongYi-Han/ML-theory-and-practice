{
  "nbformat": 4,
  "nbformat_minor": 0,
  "metadata": {
    "colab": {
      "provenance": []
    },
    "kernelspec": {
      "name": "python3",
      "display_name": "Python 3"
    },
    "language_info": {
      "name": "python"
    }
  },
  "cells": [
    {
      "cell_type": "markdown",
      "source": [
        "# Generative and Discriminative Models\n",
        "\n",
        "The goal of this practical is to qualitatively reproduce some of the experimental results in this paper :\n",
        "\n",
        "**On Discriminative vs. Generative classifiers:  A comparison of logistic regression\n",
        "and naive Bayes** (*Andrew Y. Ng and Michael I. Jordan*, \n",
        "Advances in Neural Information Processing Systems 2001)"
      ],
      "metadata": {
        "id": "zXqA1Usq2-wx"
      }
    },
    {
      "cell_type": "markdown",
      "source": [
        "## Task1. implement Naïve Bayes Classifier (NBC)\n",
        "\n",
        "implement a Naïve Bayes Classifier from scartch using NumPy. \n",
        "The classifier should be able to handle binary and continuous features and categorical features. \n",
        "Suppose the data has 3\n",
        "different features, the first being binary, the second being continuous and the third being categorical. the classifier can initialise as follows:\n",
        "\n",
        "    nbc = NBC(feature_types=['b', 'r', 'c'])"
      ],
      "metadata": {
        "id": "DK-Hs2Yl3ewK"
      }
    },
    {
      "cell_type": "markdown",
      "source": [
        "Along the lines of classifiers provided in sklearn, you want to implement two more functions,\n",
        "**fit** and **predict**. \n",
        "Recall the joint distribution of a generative model: $p(\\mathbf{x}, y \\mid \\theta, \\pi) = p(y \\mid \\pi) \\cdot p(\\mathbf{x} \\mid y, \\theta)$.\n",
        "The **fit** function is to estimate all the parameters ($\\theta$ and $\\pi$) of the NBC, i.e., train the classifier. The **predict** function is to compute the probabilities that the new input belongs to all classes and\n",
        "then return the class that has the largest probability, i.e., make the prediction.\n",
        "\n",
        "    nbc.fit(X_train, y_train)\n",
        "    ypredicted = nbc.predict(X_test)\n",
        "    test_accuracy = np.mean(ypredicted == ytest)"
      ],
      "metadata": {
        "id": "v0B_hm2S4Xiz"
      }
    },
    {
      "cell_type": "markdown",
      "source": [
        "### 1.1 import libraries"
      ],
      "metadata": {
        "id": "CVRxbNxi4hUD"
      }
    },
    {
      "cell_type": "code",
      "source": [
        "%matplotlib inline\n",
        "import pylab\n",
        "pylab.rcParams['figure.figsize'] = (10., 10.)\n",
        "\n",
        "import pickle as cp\n",
        "import matplotlib.pyplot as plt\n",
        "import numpy as np\n",
        "import pandas as pd\n",
        "import math\n",
        "\n",
        "from scipy.stats import norm\n",
        "from scipy.stats import multivariate_normal, multinomial\n",
        "from scipy.stats import bernoulli"
      ],
      "metadata": {
        "id": "vwPwNLTx39ih"
      },
      "execution_count": 1,
      "outputs": []
    },
    {
      "cell_type": "markdown",
      "source": [
        "### 1.2 implement Class-conditional distributions\n",
        "\n",
        "Before implementing NBC, we first implement the class-conditional distributions $p(\\mathbf{x} \\mid y, \\theta)$. implementation have two functions: **estimate** and **get_log_probability**. \n",
        "\n",
        "- The **estimate** function takes data as input and models the data using some distribution $p(x \\mid \\theta)$, where $\\theta$ is the parameters of this distribution. The function estimates the parameters $\\theta$ using maximum likelihood estimators (MLE). \n",
        "For example, in the case of continuous features, we use the Gaussian distribution to model the data. The estimate function will find the parameters $\\mu$ and $\\sigma$ for the Gaussian distribution with respect to the input data. \n",
        "\n",
        "- The **get_log_probability** function takes as input a new data point $x_{new}$ and returns the log of $p(x_{new} \\mid \\theta)$. For the Gaussian distribution, the function get_probability will return $\\mathcal{N}(x_{new} \\mid \\mu, \\sigma)$. "
      ],
      "metadata": {
        "id": "dDiAEKjP4sM8"
      }
    },
    {
      "cell_type": "markdown",
      "source": [
        "For different types of features, you need to use different distributions.  \n",
        "\n",
        "- For **continuous features**: Use Gaussian distribution\n",
        "    https://docs.scipy.org/doc/scipy/reference/generated/scipy.stats.norm.html\n",
        "- For **binary features**: Use Bernoulli distribution \n",
        "    https://docs.scipy.org/doc/scipy/reference/generated/scipy.stats.bernoulli.html\n",
        "- For **categorical features**: Use Multinoulli distribution (The multinoulli distribution is a special case of the multinomial distribution, where the number of trials is 1)\n",
        "    https://docs.scipy.org/doc/scipy/reference/generated/scipy.stats.multinomial.html\n",
        "\n",
        "import statistic libraries (e.g., `scipy.stats`) for the implementation of the distributions. \n",
        "\n"
      ],
      "metadata": {
        "id": "c348hBRD5IDf"
      }
    },
    {
      "cell_type": "markdown",
      "source": [
        "**Implementation Issues:**\n",
        "- The probabilities can be very small. To avoid underflow issues, we should compute the log of the probabilities. Read more: (Mur) Chapter 3.5.3 \n",
        "- The variance for Gaussian distributions should never be exactly 0, so in\n",
        "case your calculated variance is 0, you may want to set it to a small value such as 1e − 6. This is to ensure that your code never encounters division by zero or\n",
        "taking logarithms of 0 errors. \n",
        "- Laplace/Additive smoothing: we want to ensure that the estimates for the parameter for the Bernoulli and Multinoulli random variables is never exactly 0 or 1. For this reason we should consider using Laplace smoothing (https://en.wikipedia.org/wiki/Additive_smoothing).\n",
        "in this taks, let's set alpha to 1.\n",
        "- For simplicity, we assume the data values for binary features are integers from {0,1} and the data for a categorical feature with M categories are integers from {0, ..., M-1}.\n"
      ],
      "metadata": {
        "id": "fXVoiIxt5DVZ"
      }
    },
    {
      "cell_type": "code",
      "source": [
        "ALPHA = 1.0 # for additive smoothing\n",
        "\n",
        "# Distribution for continuous features\n",
        "class ContFeatureParam:\n",
        "    def estimate(self, X):\n",
        "        # Estimate the parameters for the Gaussian distribution \n",
        "        # so that it best describes the input data X\n",
        "        # params of Gaussian distribution : mean, var \n",
        "        self.mean = np.mean(X)\n",
        "        self.var = np.var(X)\n",
        "        \n",
        "        if self.var == 0:\n",
        "            self.var == 10**-6\n",
        "\n",
        "    def get_log_probability(self, X_new):\n",
        "        # return the log of the density values for the input values X_new\n",
        "        l_prob = norm.logpdf(X_new, loc=self.mean, scale=self.var)\n",
        "        \n",
        "        return l_prob\n",
        "\n",
        "# Distribution for binary features\n",
        "class BinFeatureParam:\n",
        "    def estimate(self, X):\n",
        "        # Estimate the parameters for the Bernoulli distribution \n",
        "        # so that it best describes the input data X\n",
        "        # X is a vector with binary values\n",
        "        self.success = np.sum(X,axis=0)\n",
        "        self.p = (self.success+ALPHA)/(len(X)+2*ALPHA)\n",
        "\n",
        "    def get_log_probability(self, X_new):\n",
        "        # return the log of the probability values for the input values X_new\n",
        "        l_prob = bernoulli.logpmf(X_new, self.p, loc=0)\n",
        "        return l_prob\n",
        "\n",
        "\n",
        "# Distribution for categorical features\n",
        "class CatFeatureParam:\n",
        "    # we need to know the number of categories for the categorical feature\n",
        "    def __init__(self, num_of_categories):\n",
        "        self.n_category = num_of_categories\n",
        "        self.train_occurs = [0]*self.n_category # prepare a vector with size of n_of_categories\n",
        "        self.p_category = [] # probability vector along with the order of categories\n",
        "    \n",
        "    def estimate(self, X):\n",
        "        # Estimate the parameters for the Multinoulli distribution \n",
        "        # so that it best describes the input data X\n",
        "       \n",
        "        # counting occurence of input variables\n",
        "        for i in X:            \n",
        "            self.train_occurs[i] += 1 \n",
        "        \n",
        "        # fill the p_caterogy vector \n",
        "        for occur in self.train_occurs:\n",
        "            p = (occur+ALPHA)/(len(X)+(self.n_category)*ALPHA)\n",
        "            self.p_category.append(p)  # we might need a smoothing \n",
        "\n",
        "    def get_log_probability(self, X_new):\n",
        "        # return the log of the probability values for the input values X_new\n",
        "        occur_vecs = [] # list of one-hot encoding vec \n",
        "        \n",
        "        for i in X_new:\n",
        "            occur_vec = [0]*self.n_category # create fixed size (n_of_categories) of vec\n",
        "            occur_vec[i] += 1               # one-hot encoding\n",
        "            occur_vecs.append(occur_vec)\n",
        "\n",
        "        l_prob = multinomial.logpmf(occur_vecs, 1, self.p_category)\n",
        "\n",
        "        return l_prob"
      ],
      "metadata": {
        "id": "qg8GS_jW4pTh"
      },
      "execution_count": 2,
      "outputs": []
    },
    {
      "cell_type": "markdown",
      "source": [
        "**Test**"
      ],
      "metadata": {
        "id": "Et6PvqsZ728K"
      }
    },
    {
      "cell_type": "code",
      "source": [
        "# continuous features\n",
        "\n",
        "X = np.array([2.70508547,2.10499698,1.76019132,3.42016431,3.47037973,3.67435061,1.84749286,4.3388506,2.27818252,4.65165335])\n",
        "\n",
        "param = ContFeatureParam()\n",
        "param.estimate(X)\n",
        "probs = param.get_log_probability(np.array([0,1,2,3]))\n",
        "print(probs)"
      ],
      "metadata": {
        "colab": {
          "base_uri": "https://localhost:8080/"
        },
        "id": "KrrvCbba75Hu",
        "outputId": "9e4bcf18-be4f-4994-a64d-8967304468d9"
      },
      "execution_count": 3,
      "outputs": [
        {
          "output_type": "stream",
          "name": "stdout",
          "text": [
            "[-5.80509439 -3.08847556 -1.44768796 -0.88273157]\n"
          ]
        }
      ]
    },
    {
      "cell_type": "code",
      "source": [
        "# binary features\n",
        "\n",
        "X = np.array([0,0,1,1,0,1,0,1,1,1])\n",
        "\n",
        "param = BinFeatureParam()\n",
        "param.estimate(X)\n",
        "probs = param.get_log_probability(np.array([0,1]))\n",
        "print(probs)"
      ],
      "metadata": {
        "colab": {
          "base_uri": "https://localhost:8080/"
        },
        "id": "JZ-fHeT8786u",
        "outputId": "8a73ced0-a40d-4146-dab8-7335409e3a27"
      },
      "execution_count": 4,
      "outputs": [
        {
          "output_type": "stream",
          "name": "stdout",
          "text": [
            "[-0.87546874 -0.5389965 ]\n"
          ]
        }
      ]
    },
    {
      "cell_type": "code",
      "source": [
        "# categorical features (bonus task)\n",
        "\n",
        "X = np.array([0,6,5,4,0,6,6,4,1,1,2,3,8,8,1,6,4,9,0,2,2,3,8,0,2])\n",
        "\n",
        "param = CatFeatureParam(num_of_categories=10)\n",
        "param.estimate(X)\n",
        "probs = param.get_log_probability(np.array([0,1,2,3,4,5,6,7,8,9]))\n",
        "print(probs)"
      ],
      "metadata": {
        "colab": {
          "base_uri": "https://localhost:8080/"
        },
        "id": "KtPSlEHk7-oW",
        "outputId": "be310b8e-0fe9-40de-ca21-404678c688f3"
      },
      "execution_count": 5,
      "outputs": [
        {
          "output_type": "stream",
          "name": "stdout",
          "text": [
            "[-1.94591015 -2.1690537  -1.94591015 -2.45673577 -2.1690537  -2.86220088\n",
            " -1.94591015 -3.55534806 -2.1690537  -2.86220088]\n"
          ]
        }
      ]
    },
    {
      "cell_type": "markdown",
      "source": [
        "### 1.3 Implement NBC\n",
        "\n",
        "We are now ready to implement NBC. We follow the structure of models in scikit-learn. We implement NBC as a class with functions **init**, **fit** and **predict**.\n",
        "The **init** function takes as input the types of features and initialise the classifier. The **fit** function takes the training data as input and estimates the parameters. The **predict** function predicts the label for the input data. "
      ],
      "metadata": {
        "id": "_Ww7gBas8PB0"
      }
    },
    {
      "cell_type": "markdown",
      "source": [
        "**Implementation Issues:**\n",
        "- use matrix operations rather than loops. In general, loops over classes or features are OK, but loops over the rows of data are not a good idea.\n",
        "- The probabilities can be very small. To avoid underflow issues,do the calculations in log space. Read more: (Mur) Chapter 3.5.3\n"
      ],
      "metadata": {
        "id": "U_nS6xBN8YMi"
      }
    },
    {
      "cell_type": "code",
      "source": [
        "class NBC:\n",
        "    # Inputs:\n",
        "    #   feature_types: the array of the types of the features, e.g., feature_types=['b', 'r', 'c']\n",
        "    \n",
        "    def __init__(self, feature_types=[]):\n",
        "        self.feature_types = feature_types     \n",
        "        \n",
        "    # The function uses the input data to estimate all the parameters of the NBC\n",
        "    def fit(self, X, y):\n",
        "        '''\n",
        "        parameters:\n",
        "            X : [array] 1*j array of dataset\n",
        "            y : [array] 1d array of labels \n",
        "        '''\n",
        "        \n",
        "        self.pis = {}   # key: category, value: pi_c\n",
        "        self.models= {} # key: category, value: parameterized model for each feature in one category\n",
        "        \n",
        "        self.labels,count=np.unique(y,return_counts=True)\n",
        "  \n",
        "        # combine X and y into a dataframe\n",
        "        total_c = len(y)\n",
        "        d = {'data': list(X), 'y': y}\n",
        "        df = pd.DataFrame(data=d)\n",
        "        \n",
        "        # learn parameters for each feature j per category c \n",
        "        for i, label in enumerate(self.labels):\n",
        "            # 1. calculate pi_c per categories (num_variables_in_c/total_variables)\n",
        "            pi_c = count[i]/total_c\n",
        "            self.pis[label] = pi_c\n",
        "            \n",
        "            df_c = df[y==label] # slice dataframe corresponding the category (label)\n",
        "            x_c = df_c['data']  # list of dataset rows in category c\n",
        "            \n",
        "            models =[] # parameterized model with the ordered of features (colums j)\n",
        "            \n",
        "            # 2. calculate theta for each feature j\n",
        "            for j, feature in enumerate(self.feature_types):\n",
        "                x_jc = [x[j] for x in x_c] # extract value of jth colum (feature)\n",
        "                if feature == 'r':\n",
        "                    model = ContFeatureParam()\n",
        "                    model.estimate(x_jc)\n",
        "                    models.append(model)\n",
        "                elif feature == 'b':\n",
        "                    model = BinFeatureParam()\n",
        "                    model.estimate(x_jc)\n",
        "                    models.append(model)\n",
        "                elif feature == 'c':\n",
        "                    max_cat = max(X[:,j])\n",
        "                    num_of_categories = max_cat + 1\n",
        "                    model = CatFeatureParam(num_of_categories)\n",
        "                    model.estimate(x_jc)\n",
        "                    models.append(model)\n",
        "            self.models[label] = models\n",
        "            \n",
        "                \n",
        "    # The function takes the data X as input, and predicts the class for the data\n",
        "    def predict(self, X):  \n",
        "        '''\n",
        "        parameters:\n",
        "            X      : [array] n*d array of unseend dataset \n",
        "            \n",
        "        return\n",
        "            y_hats : [list] list of predicted labels\n",
        "        '''\n",
        "        p_cs = [] # c*d array, c number of list consist of list of p_c of each datapoint\n",
        "        \n",
        "        # 1. calculating class-conditional distribution\n",
        "        for i, label in enumerate(self.labels):\n",
        "            \n",
        "            # prepare n size of vector to sum up the probability colunmwise \n",
        "            pi_c = math.log(self.pis[label])\n",
        "            p_c = [pi_c]*len(X) # p = log(pi_c) + sum(log(p_feature))\n",
        "            \n",
        "            #2. calculating p(x|theta) feature by featrue\n",
        "            for j, feature in enumerate(self.feature_types):\n",
        "                x_new_j = X[:,j]\n",
        "                \n",
        "                p_c += self.models[label][j].get_log_probability(x_new_j)\n",
        "                \n",
        "            p_cs.append(p_c)\n",
        "        \n",
        "        p_cs = np.transpose(p_cs) # n*c array (list of c probabilty for each label of each datapoint)\n",
        "        y_hats = [np.argmax(p_c) for p_c in p_cs] # pick the maximum probability among the possible catecories\n",
        "        \n",
        "        return y_hats\n",
        "                "
      ],
      "metadata": {
        "id": "7bBogbse8t1-"
      },
      "execution_count": 6,
      "outputs": []
    },
    {
      "cell_type": "markdown",
      "source": [
        "**Tests**"
      ],
      "metadata": {
        "id": "BZUmbhd99I7y"
      }
    },
    {
      "cell_type": "code",
      "source": [
        "# All features of the iris dataset are continuous.\n",
        "\n",
        "from sklearn.datasets import load_iris\n",
        "iris = load_iris()\n",
        "X, y = iris['data'], iris['target']\n",
        "\n",
        "N, D = X.shape\n",
        "Ntrain = int(0.8 * N)\n",
        "Xtrain = X[:Ntrain]\n",
        "ytrain = y[:Ntrain]\n",
        "Xtest = X[Ntrain:]\n",
        "ytest = y[Ntrain:]\n",
        "\n",
        "\n",
        "nbc_iris = NBC(feature_types=['r', 'r', 'r', 'r'])\n",
        "nbc_iris.fit(Xtrain, ytrain)\n",
        "yhat = nbc_iris.predict(Xtest)\n",
        "test_accuracy = np.mean(yhat == ytest)\n",
        "\n",
        "print(\"Accuracy:\", test_accuracy) # should be larger than 90%\n",
        "print(yhat)\n",
        "#print(list(ytest))"
      ],
      "metadata": {
        "colab": {
          "base_uri": "https://localhost:8080/"
        },
        "id": "KSPkbcJl9H_a",
        "outputId": "a7d65456-8cc3-436d-9a85-88466f90a7b3"
      },
      "execution_count": 7,
      "outputs": [
        {
          "output_type": "stream",
          "name": "stdout",
          "text": [
            "Accuracy: 0.9333333333333333\n",
            "[2, 2, 2, 2, 2, 2, 2, 2, 2, 2, 2, 2, 2, 1, 1, 2, 2, 2, 2, 2, 2, 2, 2, 2, 2, 2, 2, 2, 2, 2]\n"
          ]
        }
      ]
    },
    {
      "cell_type": "code",
      "source": [
        "# All features of this dataset are binary\n",
        "import pandas as pd\n",
        "data = pd.read_csv('binary_test.csv', header=None)\n",
        "data = data.to_numpy()\n",
        "\n",
        "X = data[:,1:]\n",
        "y = data[:,0]\n",
        "\n",
        "N, D = X.shape\n",
        "Ntrain = int(0.8 * N)\n",
        "Xtrain = X[:Ntrain]\n",
        "ytrain = y[:Ntrain]\n",
        "Xtest = X[Ntrain:]\n",
        "ytest = y[Ntrain:]\n",
        "\n",
        "\n",
        "nbc = NBC(feature_types=['b'] * 16)\n",
        "nbc.fit(Xtrain, ytrain)\n",
        "yhat = nbc.predict(Xtest)\n",
        "test_accuracy = np.mean(yhat == ytest)\n",
        "\n",
        "print(\"Accuracy:\", test_accuracy) # should be larger than 85%\n",
        "print(yhat)"
      ],
      "metadata": {
        "colab": {
          "base_uri": "https://localhost:8080/"
        },
        "id": "Ncp8zUU6_fLs",
        "outputId": "b744ec67-4d59-4f8c-fb2f-641a7a0802c1"
      },
      "execution_count": 8,
      "outputs": [
        {
          "output_type": "stream",
          "name": "stdout",
          "text": [
            "Accuracy: 0.8723404255319149\n",
            "[1, 0, 1, 1, 0, 1, 1, 0, 0, 1, 1, 1, 0, 1, 1, 1, 1, 1, 0, 1, 1, 0, 1, 0, 0, 1, 1, 1, 0, 1, 1, 1, 0, 1, 0, 1, 0, 0, 0, 1, 0, 0, 0, 0, 1, 1, 0]\n"
          ]
        }
      ]
    },
    {
      "cell_type": "code",
      "source": [
        "# All features of this dataset are categorical (bonus task)\n",
        "\n",
        "data = pd.read_csv('categorical_test.csv', header=None)\n",
        "data = data.to_numpy()\n",
        "\n",
        "X = data[:,:-1]\n",
        "y = data[:,-1]\n",
        "\n",
        "N, D = X.shape\n",
        "Ntrain = int(0.8 * N)\n",
        "Xtrain = X[:Ntrain]\n",
        "ytrain = y[:Ntrain]\n",
        "Xtest = X[Ntrain:]\n",
        "ytest = y[Ntrain:]\n",
        "\n",
        "\n",
        "nbc = NBC(feature_types=['c'] * 9)\n",
        "nbc.fit(Xtrain, ytrain)\n",
        "yhat = nbc.predict(Xtest)\n",
        "test_accuracy = np.mean(yhat == ytest)\n",
        "\n",
        "print(\"Accuracy:\", test_accuracy) # should be larger than 65%\n",
        "print(yhat) "
      ],
      "metadata": {
        "colab": {
          "base_uri": "https://localhost:8080/"
        },
        "id": "mjVhC47G_g0Y",
        "outputId": "84279c53-e452-4bfc-a737-daa5c396568e"
      },
      "execution_count": 9,
      "outputs": [
        {
          "output_type": "stream",
          "name": "stdout",
          "text": [
            "Accuracy: 0.6896551724137931\n",
            "[0, 1, 0, 1, 1, 0, 1, 1, 0, 1, 0, 0, 1, 0, 1, 0, 0, 0, 0, 0, 0, 0, 1, 0, 0, 1, 1, 0, 1, 0, 1, 0, 0, 0, 0, 1, 0, 1, 0, 0, 0, 0, 0, 0, 1, 0, 0, 0, 0, 0, 0, 0, 1, 0, 0, 0, 0, 0]\n"
          ]
        }
      ]
    },
    {
      "cell_type": "markdown",
      "source": [
        "## Task2. Compare NBS and Logistic Regression\n",
        "For logistic regression, use the implementation in scikit-learn."
      ],
      "metadata": {
        "id": "-gyaPZNV_07a"
      }
    },
    {
      "cell_type": "code",
      "source": [
        "from sklearn.linear_model import LogisticRegression"
      ],
      "metadata": {
        "id": "2USfk3XMAK-F"
      },
      "execution_count": 10,
      "outputs": []
    },
    {
      "cell_type": "markdown",
      "source": [
        "### Experiments\n",
        "\n",
        "The experiment is to compare the classification error of the NBC and LR trained on increasingly larger training datasets. \n",
        "Since the datasets are so small, you should do this multiple times and\n",
        "average the classification error. One run should look as follows:\n",
        "- Shuffle the data, put 20% aside for testing.\n",
        "    \n",
        "    ```N, D = X.shape\n",
        "    Ntrain = int(0.8 * N)\n",
        "    shuffler = np.random.permutation(N)\n",
        "    Xtrain = X[shuffler[:Ntrain]]\n",
        "    ytrain = y[shuffler[:Ntrain]]\n",
        "    Xtest = X[shuffler[Ntrain:]]\n",
        "    ytest = y[shuffler[Ntrain:]]\n",
        "    \n",
        "    ```  \n",
        "\n",
        "\n",
        "- Train the classifiers with increasingly more data. For example, we can train classifiers with 10%, 20%, ..., 100% of the training data. For each case store the classification errors on the test set of the classifiers.\n",
        "\n",
        "repeat this with at least 200 random permutations (possibly as large as 1000)\n",
        "to average out the test error across the runs. In the end, we will get average test errors as a function of the size of the training data. \n"
      ],
      "metadata": {
        "id": "Lg1Ovk4FATDN"
      }
    },
    {
      "cell_type": "code",
      "source": [
        "from sklearn.model_selection import train_test_split\n",
        "\n",
        "def compareNBCvsLR(nbc, lr, X, y, num_runs=200, num_splits=10):\n",
        "  # inputs:\n",
        "  #   nbc: Naive Bayes Classifier\n",
        "  #   lr: Logistic Regression Classifier\n",
        "  #   X, y: data\n",
        "  #   num_runs: we need repeat num_runs times and store average results\n",
        "  #   num_splits: we want to compare the two models on increasingly larger training sets.\n",
        "  #               num_splits defines the number of increasing steps. \n",
        "  # outputs:\n",
        "  #   the arrays of the test errors across the runs of the two classifiers \n",
        "\n",
        "    test_errs_nbc = [] # test errors with different ratio of tarining set\n",
        "    test_errs_lr = []\n",
        "    \n",
        "    N, _ = X.shape\n",
        "    idx_test = int(0.2 * N)\n",
        "    \n",
        "    for ratio in range(1,num_splits+1):\n",
        "        test_err_nbc = 0 # sum of test errors with n times trial\n",
        "        test_err_lr = 0\n",
        "        \n",
        "        idx_split = int(N*(0.1*ratio))\n",
        "\n",
        "        for i in range(num_runs): \n",
        "            # try num_runs different trainset and average the test error \n",
        "            shuffler = np.random.permutation(N)\n",
        "            Xtrain = X[shuffler[:idx_split]]\n",
        "            ytrain = y[shuffler[:idx_split]]\n",
        "            Xtest = X[shuffler[-idx_test:]]\n",
        "            ytest = y[shuffler[-idx_test:]]\n",
        "\n",
        "            ## nbc\n",
        "            nbc.fit(Xtrain,ytrain)\n",
        "            yhat_nbc = nbc.predict(Xtest)\n",
        "            test_err_nbc += np.mean(yhat_nbc != ytest)\n",
        "            \n",
        "            # lr \n",
        "            lr.fit(Xtrain,ytrain)\n",
        "            yhat_lr = lr.predict(Xtest)\n",
        "            test_err_lr += np.mean(yhat_lr != ytest)\n",
        "            \n",
        "        test_errs_nbc.append(test_err_nbc/num_runs)\n",
        "        test_errs_lr.append(test_err_lr/num_runs)\n",
        "    \n",
        "    return test_errs_nbc, test_errs_lr\n"
      ],
      "metadata": {
        "id": "Z5shtgYDASKu"
      },
      "execution_count": 11,
      "outputs": []
    },
    {
      "cell_type": "code",
      "source": [
        "def makePlot(nbc_perf, lr_perf, title=None, num_splits=10):\n",
        "    fig = plt.figure()\n",
        "    ax = fig.add_subplot(1, 1, 1)\n",
        "\n",
        "    ax.tick_params(axis='both', labelsize=20)\n",
        "\n",
        "    ax.set_xlabel('Percent of training data used', fontsize=20)\n",
        "    ax.set_ylabel('Classification Error', fontsize=20)\n",
        "    if title is not None: ax.set_title(title, fontsize=25)\n",
        "\n",
        "    xaxis_scale = [(i + 1) * (100/num_splits) for i in range(num_splits)]\n",
        "    plt.plot(xaxis_scale, nbc_perf, label='Naive Bayes')\n",
        "    plt.plot(xaxis_scale, lr_perf, label='Logistic Regression', linestyle='dashed')\n",
        "    \n",
        "    ax.legend(loc='upper right', fontsize=20)"
      ],
      "metadata": {
        "id": "_A2Joxa8AxH-"
      },
      "execution_count": 12,
      "outputs": []
    },
    {
      "cell_type": "markdown",
      "source": [
        "### Datasets\n",
        "\n",
        "For each dataset,\n",
        "1. prepare the data for the two classifiers, e.g., handle missing values, handle text/categorical data, etc.\n",
        "2. compare the two classifiers on the dataset and generate the plots\n",
        "3. write a short report of how you prepare the data and your observations of the comparison "
      ],
      "metadata": {
        "id": "Pwm59mSpA8gX"
      }
    },
    {
      "cell_type": "markdown",
      "source": [
        "**Dataset 1: Iris Dataset**\n",
        "\n",
        "https://scikit-learn.org/stable/auto_examples/datasets/plot_iris_dataset.html"
      ],
      "metadata": {
        "id": "H73H_TpMBJFB"
      }
    },
    {
      "cell_type": "code",
      "source": [
        "from sklearn.datasets import load_iris\n",
        "from sklearn.preprocessing import MinMaxScaler\n",
        "\n",
        "# Load sklearn iris dataset and convert it to dataframe\n",
        "iris = load_iris()\n",
        "\n",
        "df_iris = pd.DataFrame(data= np.c_[iris['data'], iris['target']],\n",
        "                     columns= iris['feature_names'] + ['target'])\n",
        "\n",
        "# Split df to X and y\n",
        "X = df_iris.drop(\"target\", axis=1).to_numpy()\n",
        "y = iris[\"target\"]\n",
        "    \n",
        "# Normalize dataset\n",
        "scaler = MinMaxScaler()\n",
        "X = scaler.fit_transform(X)\n",
        "\n",
        "# Prepare the models and calculate test errors \n",
        "NBC_iris = NBC(feature_types=['r','r','r','r'])\n",
        "LR_iris = LogisticRegression()\n",
        "\n",
        "error_nbc_iris, error_lr_iris = compareNBCvsLR(NBC_iris, LR_iris, X, y, num_runs=200, num_splits=10)"
      ],
      "metadata": {
        "id": "suRnOWKyBKvi"
      },
      "execution_count": null,
      "outputs": []
    },
    {
      "cell_type": "code",
      "source": [
        "makePlot(error_nbc_iris, error_lr_iris)"
      ],
      "metadata": {
        "colab": {
          "base_uri": "https://localhost:8080/",
          "height": 624
        },
        "id": "BjlpC7r9ED9v",
        "outputId": "58236981-9971-42d2-a300-8146be9b4c8d"
      },
      "execution_count": 15,
      "outputs": [
        {
          "output_type": "display_data",
          "data": {
            "text/plain": [
              "<Figure size 720x720 with 1 Axes>"
            ],
            "image/png": "[encoded data removed]"
          },
          "metadata": {
            "needs_background": "light"
          }
        }
      ]
    },
    {
      "cell_type": "markdown",
      "source": [
        "**Interpretation**  \n",
        "\n",
        "The data is transformed using the MinMaxScaler. In a given size of continuous dataset, overall the generative naive Bayes model has lower classfication error and approaches its asymptotic error faster. However, since both classification errors of the discriminative logistic regression model and the generative naive Bayes model are decreasing, it might be good to test with larger dataset to see where they converge and if logistic regression surpasses the performance of naive Bayes or not."
      ],
      "metadata": {
        "id": "NcThOTpQCrsN"
      }
    },
    {
      "cell_type": "markdown",
      "source": [
        "**Dataset 2: Voting Dataset**\n",
        "\n",
        "https://archive.ics.uci.edu/ml/datasets/congressional+voting+records\n",
        "\n",
        "The logistic regression line meets the naive bayes line early in the plot. To see it clearer, you should use only 100 data points from the dataset for this experiment."
      ],
      "metadata": {
        "id": "8oqCpdIUBuvM"
      }
    },
    {
      "cell_type": "code",
      "source": [
        "from sklearn.preprocessing import OrdinalEncoder"
      ],
      "metadata": {
        "id": "T46M4WRTBuYA"
      },
      "execution_count": 16,
      "outputs": []
    },
    {
      "cell_type": "code",
      "source": [
        "# 1. load data and drop missing values\n",
        "df_voting = pd.read_csv('voting.csv')\n",
        "df_voting.dropna(inplace=True)\n",
        "\n",
        "# 2. split df to x and y\n",
        "X = df_voting.drop(\"label\", axis=1)\n",
        "y = df_voting['label'].to_numpy()\n",
        "\n",
        "N, _ = X.shape\n",
        "features = X.columns\n",
        "\n",
        "# 3. encoding X and y \n",
        "ordinal_encoder = OrdinalEncoder()\n",
        "\n",
        "for col in features:\n",
        "    X[col] = ordinal_encoder.fit_transform(np.array(X[col]).reshape(-1,1))\n",
        "    \n",
        "enc_X = X.to_numpy()\n",
        "enc_y = (ordinal_encoder.fit_transform(y.reshape(-1,1))).flatten()\n",
        "\n",
        "# 4. pick only 100 data point \n",
        "shuffler = np.random.permutation(N)\n",
        "X_100 = enc_X[shuffler[:100]]\n",
        "y_100 = enc_y[shuffler[:100]]\n",
        "\n",
        "# 5. prepare the model\n",
        "NBC_voting = NBC(feature_types=['b']*16)\n",
        "LR = LogisticRegression()\n",
        "\n",
        "error_nbc_voting, error_lr_voting = compareNBCvsLR(NBC_voting, LR, X_100, y_100, num_runs=200, num_splits=10)\n"
      ],
      "metadata": {
        "id": "znusiszbB0I_"
      },
      "execution_count": 18,
      "outputs": []
    },
    {
      "cell_type": "code",
      "source": [
        "makePlot(error_nbc_voting, error_lr_voting)"
      ],
      "metadata": {
        "colab": {
          "base_uri": "https://localhost:8080/",
          "height": 624
        },
        "id": "itueG67KEJra",
        "outputId": "aed32644-9f93-4d79-e9fb-6e911f69cee5"
      },
      "execution_count": 19,
      "outputs": [
        {
          "output_type": "display_data",
          "data": {
            "text/plain": [
              "<Figure size 720x720 with 1 Axes>"
            ],
            "image/png": "[encoded data removed]"
          },
          "metadata": {
            "needs_background": "light"
          }
        }
      ]
    },
    {
      "cell_type": "markdown",
      "source": [
        "**Interpretation**  \n",
        "For the voting data set, the data is prepared by dropping na values, and fitting an ordinal encoder for each feature. Initially, it looks like the Naïve Bayes Classifier does better. However, as the percentage of training data is increased, the discriminative Logistic Regression model eventually catches up and overtakes the performance of the Naïve Bayes model."
      ],
      "metadata": {
        "id": "kQ9gHOHnC098"
      }
    }
  ]
}