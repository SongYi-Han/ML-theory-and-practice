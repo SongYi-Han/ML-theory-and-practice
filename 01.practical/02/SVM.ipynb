{
 "cells": [
  {
   "cell_type": "code",
   "execution_count": 2,
   "id": "b80bfc23",
   "metadata": {},
   "outputs": [],
   "source": [
    "import pandas as pd\n",
    "from sklearn.model_selection import train_test_split\n",
    "from sklearn.svm import SVC\n",
    "from sklearn.preprocessing import StandardScaler\n"
   ]
  },
  {
   "cell_type": "markdown",
   "id": "f780bc03",
   "metadata": {},
   "source": [
    "* load csv file from local and using url\n",
    "* convert categorical class to nemeric value"
   ]
  },
  {
   "cell_type": "markdown",
   "id": "50766967",
   "metadata": {},
   "source": [
    "## task1. classify diabetes data with SVM"
   ]
  },
  {
   "cell_type": "code",
   "execution_count": 10,
   "id": "16d8770d",
   "metadata": {},
   "outputs": [],
   "source": [
    "#load the dataset\n",
    "dataset = pd.read_csv(\"pima-indians-diabetes.csv\", header=None)"
   ]
  },
  {
   "cell_type": "code",
   "execution_count": 15,
   "id": "f386a552",
   "metadata": {},
   "outputs": [
    {
     "name": "stdout",
     "output_type": "stream",
     "text": [
      "x shape: (768, 8), y shape: (768,)\n"
     ]
    }
   ],
   "source": [
    "x = dataset.iloc[:,:8]\n",
    "y = dataset.iloc[:,8]\n",
    "print('x shape: {}, y shape: {}'.format(x.shape, y.shape))"
   ]
  },
  {
   "cell_type": "code",
   "execution_count": 16,
   "id": "a2698bbb",
   "metadata": {},
   "outputs": [],
   "source": [
    "#split training and test dataset\n",
    "x_train, x_test, y_train, y_test = train_test_split(x,y,random_state=0)"
   ]
  },
  {
   "cell_type": "code",
   "execution_count": 17,
   "id": "73d86e26",
   "metadata": {},
   "outputs": [],
   "source": [
    "#standardize the dataset\n",
    "std_scl = StandardScaler()\n",
    "std_scl.fit(x_train)\n",
    "x_train = std_scl.transform(x_train)\n",
    "x_test = std_scl.transform(x_test)"
   ]
  },
  {
   "cell_type": "code",
   "execution_count": 19,
   "id": "b5bb0b05",
   "metadata": {},
   "outputs": [
    {
     "name": "stdout",
     "output_type": "stream",
     "text": [
      "training score: 0.825\n",
      "test score: 0.776\n"
     ]
    }
   ],
   "source": [
    "#train and test\n",
    "svc = SVC()\n",
    "svc.fit(x_train, y_train)\n",
    "\n",
    "print('training score: {:.3f}'.format(svc.score(x_train, y_train)))\n",
    "print('test score: {:.3f}'.format(svc.score(x_test, y_test)))"
   ]
  },
  {
   "cell_type": "markdown",
   "id": "c11d85ea",
   "metadata": {},
   "source": [
    "## task2. classify mushroom with SVM"
   ]
  },
  {
   "cell_type": "code",
   "execution_count": 23,
   "id": "ba484951",
   "metadata": {},
   "outputs": [],
   "source": [
    "url = 'https://archive.ics.uci.edu/ml/machine-learning-databases/mushroom/agaricus-lepiota.data'\n",
    "dataset = pd.read_csv(url, header=None)"
   ]
  },
  {
   "cell_type": "code",
   "execution_count": 30,
   "id": "bff7b09a",
   "metadata": {},
   "outputs": [],
   "source": [
    "# convert categorical class to numeric values\n",
    "X = []\n",
    "y = []\n",
    "\n",
    "for row_index, row in dataset.iterrows():\n",
    "    y.append(row.loc[0])\n",
    "    row_X=[]\n",
    "    for v in row.loc[1:]:\n",
    "        row_X.append(ord(v))\n",
    "    X.append(row_X)"
   ]
  },
  {
   "cell_type": "code",
   "execution_count": 34,
   "id": "7379ca2d",
   "metadata": {},
   "outputs": [],
   "source": [
    "# split training and test dataset\n",
    "x_train, x_test, y_train, y_test = train_test_split(X,y)"
   ]
  },
  {
   "cell_type": "code",
   "execution_count": 35,
   "id": "f600c518",
   "metadata": {},
   "outputs": [
    {
     "name": "stdout",
     "output_type": "stream",
     "text": [
      "training score: 0.996\n",
      "test score: 0.998\n"
     ]
    }
   ],
   "source": [
    "# training and test \n",
    "svc = SVC()\n",
    "svc.fit(x_train, y_train)\n",
    "\n",
    "print('training score: {:.3f}'.format(svc.score(x_train, y_train)))\n",
    "print('test score: {:.3f}'.format(svc.score(x_test, y_test)))"
   ]
  },
  {
   "cell_type": "code",
   "execution_count": null,
   "id": "c4f64caa",
   "metadata": {},
   "outputs": [],
   "source": []
  }
 ],
 "metadata": {
  "kernelspec": {
   "display_name": "Python 3 (ipykernel)",
   "language": "python",
   "name": "python3"
  },
  "language_info": {
   "codemirror_mode": {
    "name": "ipython",
    "version": 3
   },
   "file_extension": ".py",
   "mimetype": "text/x-python",
   "name": "python",
   "nbconvert_exporter": "python",
   "pygments_lexer": "ipython3",
   "version": "3.9.14"
  }
 },
 "nbformat": 4,
 "nbformat_minor": 5
}
